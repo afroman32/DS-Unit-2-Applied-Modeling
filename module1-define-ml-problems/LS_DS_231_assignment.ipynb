{
  "nbformat": 4,
  "nbformat_minor": 0,
  "metadata": {
    "kernelspec": {
      "display_name": "Python 3",
      "language": "python",
      "name": "python3"
    },
    "language_info": {
      "codemirror_mode": {
        "name": "ipython",
        "version": 3
      },
      "file_extension": ".py",
      "mimetype": "text/x-python",
      "name": "python",
      "nbconvert_exporter": "python",
      "pygments_lexer": "ipython3",
      "version": "3.7.6"
    },
    "colab": {
      "name": "LS_DS_231_assignment.ipynb",
      "provenance": []
    }
  },
  "cells": [
    {
      "cell_type": "markdown",
      "metadata": {
        "colab_type": "text",
        "id": "nCc3XZEyG3XV"
      },
      "source": [
        "Lambda School Data Science\n",
        "\n",
        "*Unit 2, Sprint 3, Module 1*\n",
        "\n",
        "---\n",
        "\n",
        "\n",
        "# Define ML problems\n",
        "\n",
        "You will use your portfolio project dataset for all assignments this sprint.\n",
        "\n",
        "## Assignment\n",
        "\n",
        "Complete these tasks for your project, and document your decisions.\n",
        "\n"
      ]
    },
    {
      "cell_type": "markdown",
      "metadata": {
        "id": "5bkoyGBP5m8v",
        "colab_type": "text"
      },
      "source": [
        "- **Choose your target. Which column in your tabular dataset will you predict?**\n",
        "\n",
        "        I am going to create a new feature named success rate from the gross revenue and score columns. \n",
        "        It will be on a scale from 1-10"
      ]
    },
    {
      "cell_type": "markdown",
      "metadata": {
        "id": "V4bbyjZ75m8w",
        "colab_type": "text"
      },
      "source": [
        "- **Is your problem regression or classification?**\n",
        "\n",
        "        This will be a classification problem"
      ]
    },
    {
      "cell_type": "markdown",
      "metadata": {
        "id": "0jKLJaQE5m8x",
        "colab_type": "text"
      },
      "source": [
        "- **How is your target distributed?**\n",
        "- **Classification: How many classes? Are the classes imbalanced?**\n",
        "\n",
        "        There are 10 classes."
      ]
    },
    {
      "cell_type": "markdown",
      "metadata": {
        "id": "ULFvmDko5m80",
        "colab_type": "text"
      },
      "source": [
        "- **Choose your evaluation metric(s).**\n",
        "- **Classification: Is your majority class frequency >= 50% and < 70% ? If so, you can just use accuracy if you want. Outside that range, accuracy could be misleading. What evaluation metric will you choose, in addition to or instead of accuracy?**\n",
        "\n",
        "        I will use a F1 score instead of accuracy"
      ]
    },
    {
      "cell_type": "markdown",
      "metadata": {
        "id": "I3Qj8vkC5m82",
        "colab_type": "text"
      },
      "source": [
        "- **Choose which observations you will use to train, validate, and test your model.**\n",
        "- **Are some observations outliers? Will you exclude them?**\n",
        "\n",
        "        Yes I think I will start by including the outliers, I will see how much\n",
        "        the results are skewed because of them and decide if it is worth\n",
        "        keeping the extra data points\n",
        "\n",
        "- **Will you do a random split or a time-based split?**\n",
        "\n",
        "      I will do a time-based split because it is possible that what people like\n",
        "      to see in movies has shifted over time."
      ]
    },
    {
      "cell_type": "markdown",
      "metadata": {
        "id": "vtw-b6JP5m83",
        "colab_type": "text"
      },
      "source": [
        "- **Begin to clean and explore your data.**\n",
        "- **Begin to choose which features, if any, to exclude. Would some features \"leak\" future information?**"
      ]
    },
    {
      "cell_type": "markdown",
      "metadata": {
        "id": "S3VGhPfA5m85",
        "colab_type": "text"
      },
      "source": [
        "If you haven't found a dataset yet, do that today. [Review requirements for your portfolio project](https://lambdaschool.github.io/ds/unit2) and choose your dataset.\n",
        "\n",
        "Some students worry, ***what if my model isn't “good”?*** Then, [produce a detailed tribute to your wrongness. That is science!](https://twitter.com/nathanwpyle/status/1176860147223867393)"
      ]
    }
  ]
}