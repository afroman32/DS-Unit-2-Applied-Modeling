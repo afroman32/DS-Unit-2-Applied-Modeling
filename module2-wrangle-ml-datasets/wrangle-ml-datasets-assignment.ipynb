{
  "nbformat": 4,
  "nbformat_minor": 0,
  "metadata": {
    "colab": {
      "name": "Unit 2 Build",
      "provenance": [],
      "authorship_tag": "ABX9TyOI7ZZRnbh+NYCgNORIZzyW",
      "include_colab_link": true
    },
    "kernelspec": {
      "name": "python3",
      "display_name": "Python 3"
    }
  },
  "cells": [
    {
      "cell_type": "markdown",
      "metadata": {
        "id": "view-in-github",
        "colab_type": "text"
      },
      "source": [
        "<a href=\"https://colab.research.google.com/github/afroman32/DS-Unit-2-Applied-Modeling/blob/master/module2-wrangle-ml-datasets/wrangle-ml-datasets-assignment.ipynb\" target=\"_parent\"><img src=\"https://colab.research.google.com/assets/colab-badge.svg\" alt=\"Open In Colab\"/></a>"
      ]
    },
    {
      "cell_type": "markdown",
      "metadata": {
        "id": "coLQpS33Ehwe",
        "colab_type": "text"
      },
      "source": [
        "#Inspect"
      ]
    },
    {
      "cell_type": "code",
      "metadata": {
        "id": "T8pYMPqoR9t5",
        "colab_type": "code",
        "colab": {}
      },
      "source": [
        "import pandas as pd\n",
        "import numpy as np"
      ],
      "execution_count": 0,
      "outputs": []
    },
    {
      "cell_type": "code",
      "metadata": {
        "id": "9MXAu5rkXlN1",
        "colab_type": "code",
        "colab": {}
      },
      "source": [
        "#need the encoding set to \"ISO-8859-1\" so it will read the weird characters properly \n",
        "movies = pd.read_csv('https://raw.githubusercontent.com/afroman32/Unit-2-Build/master/movies.csv',\n",
        "                     encoding = \"ISO-8859-1\")"
      ],
      "execution_count": 0,
      "outputs": []
    },
    {
      "cell_type": "code",
      "metadata": {
        "id": "5t6fHwEaXu_J",
        "colab_type": "code",
        "outputId": "64f93948-5c94-4f84-8c45-5c6dac010334",
        "colab": {
          "base_uri": "https://localhost:8080/",
          "height": 306
        }
      },
      "source": [
        "print(movies.shape)\n",
        "movies.head()"
      ],
      "execution_count": 3,
      "outputs": [
        {
          "output_type": "stream",
          "text": [
            "(6820, 15)\n"
          ],
          "name": "stdout"
        },
        {
          "output_type": "execute_result",
          "data": {
            "text/html": [
              "<div>\n",
              "<style scoped>\n",
              "    .dataframe tbody tr th:only-of-type {\n",
              "        vertical-align: middle;\n",
              "    }\n",
              "\n",
              "    .dataframe tbody tr th {\n",
              "        vertical-align: top;\n",
              "    }\n",
              "\n",
              "    .dataframe thead th {\n",
              "        text-align: right;\n",
              "    }\n",
              "</style>\n",
              "<table border=\"1\" class=\"dataframe\">\n",
              "  <thead>\n",
              "    <tr style=\"text-align: right;\">\n",
              "      <th></th>\n",
              "      <th>budget</th>\n",
              "      <th>company</th>\n",
              "      <th>country</th>\n",
              "      <th>director</th>\n",
              "      <th>genre</th>\n",
              "      <th>gross</th>\n",
              "      <th>name</th>\n",
              "      <th>rating</th>\n",
              "      <th>released</th>\n",
              "      <th>runtime</th>\n",
              "      <th>score</th>\n",
              "      <th>star</th>\n",
              "      <th>votes</th>\n",
              "      <th>writer</th>\n",
              "      <th>year</th>\n",
              "    </tr>\n",
              "  </thead>\n",
              "  <tbody>\n",
              "    <tr>\n",
              "      <th>0</th>\n",
              "      <td>8000000.0</td>\n",
              "      <td>Columbia Pictures Corporation</td>\n",
              "      <td>USA</td>\n",
              "      <td>Rob Reiner</td>\n",
              "      <td>Adventure</td>\n",
              "      <td>52287414.0</td>\n",
              "      <td>Stand by Me</td>\n",
              "      <td>R</td>\n",
              "      <td>1986-08-22</td>\n",
              "      <td>89</td>\n",
              "      <td>8.1</td>\n",
              "      <td>Wil Wheaton</td>\n",
              "      <td>299174</td>\n",
              "      <td>Stephen King</td>\n",
              "      <td>1986</td>\n",
              "    </tr>\n",
              "    <tr>\n",
              "      <th>1</th>\n",
              "      <td>6000000.0</td>\n",
              "      <td>Paramount Pictures</td>\n",
              "      <td>USA</td>\n",
              "      <td>John Hughes</td>\n",
              "      <td>Comedy</td>\n",
              "      <td>70136369.0</td>\n",
              "      <td>Ferris Bueller's Day Off</td>\n",
              "      <td>PG-13</td>\n",
              "      <td>1986-06-11</td>\n",
              "      <td>103</td>\n",
              "      <td>7.8</td>\n",
              "      <td>Matthew Broderick</td>\n",
              "      <td>264740</td>\n",
              "      <td>John Hughes</td>\n",
              "      <td>1986</td>\n",
              "    </tr>\n",
              "    <tr>\n",
              "      <th>2</th>\n",
              "      <td>15000000.0</td>\n",
              "      <td>Paramount Pictures</td>\n",
              "      <td>USA</td>\n",
              "      <td>Tony Scott</td>\n",
              "      <td>Action</td>\n",
              "      <td>179800601.0</td>\n",
              "      <td>Top Gun</td>\n",
              "      <td>PG</td>\n",
              "      <td>1986-05-16</td>\n",
              "      <td>110</td>\n",
              "      <td>6.9</td>\n",
              "      <td>Tom Cruise</td>\n",
              "      <td>236909</td>\n",
              "      <td>Jim Cash</td>\n",
              "      <td>1986</td>\n",
              "    </tr>\n",
              "    <tr>\n",
              "      <th>3</th>\n",
              "      <td>18500000.0</td>\n",
              "      <td>Twentieth Century Fox Film Corporation</td>\n",
              "      <td>USA</td>\n",
              "      <td>James Cameron</td>\n",
              "      <td>Action</td>\n",
              "      <td>85160248.0</td>\n",
              "      <td>Aliens</td>\n",
              "      <td>R</td>\n",
              "      <td>1986-07-18</td>\n",
              "      <td>137</td>\n",
              "      <td>8.4</td>\n",
              "      <td>Sigourney Weaver</td>\n",
              "      <td>540152</td>\n",
              "      <td>James Cameron</td>\n",
              "      <td>1986</td>\n",
              "    </tr>\n",
              "    <tr>\n",
              "      <th>4</th>\n",
              "      <td>9000000.0</td>\n",
              "      <td>Walt Disney Pictures</td>\n",
              "      <td>USA</td>\n",
              "      <td>Randal Kleiser</td>\n",
              "      <td>Adventure</td>\n",
              "      <td>18564613.0</td>\n",
              "      <td>Flight of the Navigator</td>\n",
              "      <td>PG</td>\n",
              "      <td>1986-08-01</td>\n",
              "      <td>90</td>\n",
              "      <td>6.9</td>\n",
              "      <td>Joey Cramer</td>\n",
              "      <td>36636</td>\n",
              "      <td>Mark H. Baker</td>\n",
              "      <td>1986</td>\n",
              "    </tr>\n",
              "  </tbody>\n",
              "</table>\n",
              "</div>"
            ],
            "text/plain": [
              "       budget                                 company  ...         writer  year\n",
              "0   8000000.0           Columbia Pictures Corporation  ...   Stephen King  1986\n",
              "1   6000000.0                      Paramount Pictures  ...    John Hughes  1986\n",
              "2  15000000.0                      Paramount Pictures  ...       Jim Cash  1986\n",
              "3  18500000.0  Twentieth Century Fox Film Corporation  ...  James Cameron  1986\n",
              "4   9000000.0                    Walt Disney Pictures  ...  Mark H. Baker  1986\n",
              "\n",
              "[5 rows x 15 columns]"
            ]
          },
          "metadata": {
            "tags": []
          },
          "execution_count": 3
        }
      ]
    },
    {
      "cell_type": "code",
      "metadata": {
        "id": "tUI8RAyHYibQ",
        "colab_type": "code",
        "outputId": "82ede3fa-51b8-4e90-de28-b97201907c11",
        "colab": {
          "base_uri": "https://localhost:8080/",
          "height": 175
        }
      },
      "source": [
        "movies['score'].describe()"
      ],
      "execution_count": 4,
      "outputs": [
        {
          "output_type": "execute_result",
          "data": {
            "text/plain": [
              "count    6820.000000\n",
              "mean        6.374897\n",
              "std         1.003142\n",
              "min         1.500000\n",
              "25%         5.800000\n",
              "50%         6.400000\n",
              "75%         7.100000\n",
              "max         9.300000\n",
              "Name: score, dtype: float64"
            ]
          },
          "metadata": {
            "tags": []
          },
          "execution_count": 4
        }
      ]
    },
    {
      "cell_type": "markdown",
      "metadata": {
        "id": "XJmofgobEqxB",
        "colab_type": "text"
      },
      "source": [
        "#Wrangle"
      ]
    },
    {
      "cell_type": "code",
      "metadata": {
        "id": "x7z5gYRKj4G5",
        "colab_type": "code",
        "colab": {}
      },
      "source": [
        "# director track record, movies success by director\n",
        "# make sure to train on features that would come before the target"
      ],
      "execution_count": 0,
      "outputs": []
    },
    {
      "cell_type": "code",
      "metadata": {
        "id": "DL9D1GNTMCtI",
        "colab_type": "code",
        "colab": {
          "base_uri": "https://localhost:8080/",
          "height": 228
        },
        "outputId": "7fb5bb70-d378-4af0-c558-463a56063ccb"
      },
      "source": [
        "movies['director'].nunique"
      ],
      "execution_count": 71,
      "outputs": [
        {
          "output_type": "execute_result",
          "data": {
            "text/plain": [
              "<bound method IndexOpsMixin.nunique of 0          Harley Cokeliss\n",
              "1              Paul Bartel\n",
              "2       John Carl Buechler\n",
              "3          Sidney J. Furie\n",
              "4            Bruno Bianchi\n",
              "               ...        \n",
              "6815         Nicole Garcia\n",
              "6816       Eleanor Coppola\n",
              "6817         Aisling Walsh\n",
              "6818           Eric Summer\n",
              "6819      Julian Rosefeldt\n",
              "Name: director, Length: 6820, dtype: object>"
            ]
          },
          "metadata": {
            "tags": []
          },
          "execution_count": 71
        }
      ]
    },
    {
      "cell_type": "code",
      "metadata": {
        "id": "kDO092caNhnS",
        "colab_type": "code",
        "colab": {
          "base_uri": "https://localhost:8080/",
          "height": 35
        },
        "outputId": "c77af6b7-f8f1-4619-eadc-fbdc40a079e1"
      },
      "source": [
        "movies['writer'].nunique()"
      ],
      "execution_count": 54,
      "outputs": [
        {
          "output_type": "execute_result",
          "data": {
            "text/plain": [
              "4199"
            ]
          },
          "metadata": {
            "tags": []
          },
          "execution_count": 54
        }
      ]
    },
    {
      "cell_type": "code",
      "metadata": {
        "id": "zU212SpikGr7",
        "colab_type": "code",
        "colab": {
          "base_uri": "https://localhost:8080/",
          "height": 52
        },
        "outputId": "e9c0349b-83b7-4c3b-a55a-c07e0994d8b2"
      },
      "source": [
        "directors = list(movies['director'])\n",
        "directors = list(dict.fromkeys(directors))\n",
        "print(len(directors))\n",
        "type(directors)"
      ],
      "execution_count": 72,
      "outputs": [
        {
          "output_type": "stream",
          "text": [
            "2759\n"
          ],
          "name": "stdout"
        },
        {
          "output_type": "execute_result",
          "data": {
            "text/plain": [
              "list"
            ]
          },
          "metadata": {
            "tags": []
          },
          "execution_count": 72
        }
      ]
    },
    {
      "cell_type": "code",
      "metadata": {
        "id": "_Al85ws-lkqP",
        "colab_type": "code",
        "colab": {
          "base_uri": "https://localhost:8080/",
          "height": 35
        },
        "outputId": "9e53f954-7bd3-47b3-b1eb-8c0354e3752e"
      },
      "source": [
        "sub = movies[movies['director'] == movies['director'][3]]\n",
        "sub['gross'].sum()/len(sub['gross'])"
      ],
      "execution_count": 61,
      "outputs": [
        {
          "output_type": "execute_result",
          "data": {
            "text/plain": [
              "13214797.4"
            ]
          },
          "metadata": {
            "tags": []
          },
          "execution_count": 61
        }
      ]
    },
    {
      "cell_type": "code",
      "metadata": {
        "id": "YHmWoExPlPmr",
        "colab_type": "code",
        "colab": {
          "base_uri": "https://localhost:8080/",
          "height": 35
        },
        "outputId": "2c0a4713-ce06-4b87-a348-5605f340729d"
      },
      "source": [
        "ave_gross = []\n",
        "for i in range(0,len(directors)+1):\n",
        "  sub = movies[movies['director'] == movies['director'][i]]\n",
        "  average=sub['gross'].sum()/len(sub['gross'])\n",
        "  ave_gross.append(average)\n",
        "\n",
        "# check is ave_gross has correct number of values\n",
        "len(ave_gross)"
      ],
      "execution_count": 82,
      "outputs": [
        {
          "output_type": "execute_result",
          "data": {
            "text/plain": [
              "2760"
            ]
          },
          "metadata": {
            "tags": []
          },
          "execution_count": 82
        }
      ]
    },
    {
      "cell_type": "code",
      "metadata": {
        "id": "4EoLYpIkqsTk",
        "colab_type": "code",
        "colab": {}
      },
      "source": [
        "dir_ave = {directors[i]: ave_gross[i] for i in range(len(directors))}"
      ],
      "execution_count": 0,
      "outputs": []
    },
    {
      "cell_type": "code",
      "metadata": {
        "id": "u12hy6fDyBG8",
        "colab_type": "code",
        "colab": {
          "base_uri": "https://localhost:8080/",
          "height": 289
        },
        "outputId": "6b16415d-d022-42dc-b7ec-dc75d1dc6899"
      },
      "source": [
        "movies['dir_ave_gross']= movies['director'].map(dir_ave)\n",
        "movies.head()"
      ],
      "execution_count": 117,
      "outputs": [
        {
          "output_type": "execute_result",
          "data": {
            "text/html": [
              "<div>\n",
              "<style scoped>\n",
              "    .dataframe tbody tr th:only-of-type {\n",
              "        vertical-align: middle;\n",
              "    }\n",
              "\n",
              "    .dataframe tbody tr th {\n",
              "        vertical-align: top;\n",
              "    }\n",
              "\n",
              "    .dataframe thead th {\n",
              "        text-align: right;\n",
              "    }\n",
              "</style>\n",
              "<table border=\"1\" class=\"dataframe\">\n",
              "  <thead>\n",
              "    <tr style=\"text-align: right;\">\n",
              "      <th></th>\n",
              "      <th>budget</th>\n",
              "      <th>company</th>\n",
              "      <th>country</th>\n",
              "      <th>director</th>\n",
              "      <th>genre</th>\n",
              "      <th>gross</th>\n",
              "      <th>name</th>\n",
              "      <th>rating</th>\n",
              "      <th>released</th>\n",
              "      <th>runtime</th>\n",
              "      <th>score</th>\n",
              "      <th>star</th>\n",
              "      <th>votes</th>\n",
              "      <th>writer</th>\n",
              "      <th>year</th>\n",
              "      <th>net_revenue</th>\n",
              "      <th>dir_ave_gross</th>\n",
              "    </tr>\n",
              "  </thead>\n",
              "  <tbody>\n",
              "    <tr>\n",
              "      <th>0</th>\n",
              "      <td>0.0</td>\n",
              "      <td>New World Pictures</td>\n",
              "      <td>USA</td>\n",
              "      <td>Harley Cokeliss</td>\n",
              "      <td>Action</td>\n",
              "      <td>6637565.0</td>\n",
              "      <td>Black Moon Rising</td>\n",
              "      <td>R</td>\n",
              "      <td>1986-01-10</td>\n",
              "      <td>100</td>\n",
              "      <td>5.4</td>\n",
              "      <td>Tommy Lee Jones</td>\n",
              "      <td>4045</td>\n",
              "      <td>John Carpenter</td>\n",
              "      <td>1986</td>\n",
              "      <td>6637565.0</td>\n",
              "      <td>4849211.5</td>\n",
              "    </tr>\n",
              "    <tr>\n",
              "      <th>1</th>\n",
              "      <td>0.0</td>\n",
              "      <td>Longshot</td>\n",
              "      <td>USA</td>\n",
              "      <td>Paul Bartel</td>\n",
              "      <td>Comedy</td>\n",
              "      <td>1096843.0</td>\n",
              "      <td>The Longshot</td>\n",
              "      <td>PG-13</td>\n",
              "      <td>1986-01-17</td>\n",
              "      <td>89</td>\n",
              "      <td>5.4</td>\n",
              "      <td>Tim Conway</td>\n",
              "      <td>457</td>\n",
              "      <td>Tim Conway</td>\n",
              "      <td>1986</td>\n",
              "      <td>1096843.0</td>\n",
              "      <td>1626657.0</td>\n",
              "    </tr>\n",
              "    <tr>\n",
              "      <th>2</th>\n",
              "      <td>1100000.0</td>\n",
              "      <td>Empire Pictures</td>\n",
              "      <td>USA</td>\n",
              "      <td>John Carl Buechler</td>\n",
              "      <td>Comedy</td>\n",
              "      <td>5450815.0</td>\n",
              "      <td>Troll</td>\n",
              "      <td>PG-13</td>\n",
              "      <td>1986-01-17</td>\n",
              "      <td>82</td>\n",
              "      <td>4.3</td>\n",
              "      <td>Michael Moriarty</td>\n",
              "      <td>7569</td>\n",
              "      <td>Ed Naha</td>\n",
              "      <td>1986</td>\n",
              "      <td>4350815.0</td>\n",
              "      <td>12310408.0</td>\n",
              "    </tr>\n",
              "    <tr>\n",
              "      <th>3</th>\n",
              "      <td>0.0</td>\n",
              "      <td>TriStar Pictures</td>\n",
              "      <td>USA</td>\n",
              "      <td>Sidney J. Furie</td>\n",
              "      <td>Action</td>\n",
              "      <td>24159872.0</td>\n",
              "      <td>Iron Eagle</td>\n",
              "      <td>PG-13</td>\n",
              "      <td>1986-01-17</td>\n",
              "      <td>117</td>\n",
              "      <td>5.3</td>\n",
              "      <td>Louis Gossett Jr.</td>\n",
              "      <td>11304</td>\n",
              "      <td>Kevin Alyn Elders</td>\n",
              "      <td>1986</td>\n",
              "      <td>24159872.0</td>\n",
              "      <td>13214797.4</td>\n",
              "    </tr>\n",
              "    <tr>\n",
              "      <th>4</th>\n",
              "      <td>0.0</td>\n",
              "      <td>DIC Entertainment</td>\n",
              "      <td>Canada</td>\n",
              "      <td>Bruno Bianchi</td>\n",
              "      <td>Family</td>\n",
              "      <td>2193642.0</td>\n",
              "      <td>Heathcliff: The Movie</td>\n",
              "      <td>G</td>\n",
              "      <td>1986-01-17</td>\n",
              "      <td>73</td>\n",
              "      <td>5.3</td>\n",
              "      <td>Mel Blanc</td>\n",
              "      <td>187</td>\n",
              "      <td>George Gately</td>\n",
              "      <td>1986</td>\n",
              "      <td>2193642.0</td>\n",
              "      <td>2193642.0</td>\n",
              "    </tr>\n",
              "  </tbody>\n",
              "</table>\n",
              "</div>"
            ],
            "text/plain": [
              "      budget             company country  ...  year net_revenue  dir_ave_gross\n",
              "0        0.0  New World Pictures     USA  ...  1986   6637565.0      4849211.5\n",
              "1        0.0            Longshot     USA  ...  1986   1096843.0      1626657.0\n",
              "2  1100000.0     Empire Pictures     USA  ...  1986   4350815.0     12310408.0\n",
              "3        0.0    TriStar Pictures     USA  ...  1986  24159872.0     13214797.4\n",
              "4        0.0   DIC Entertainment  Canada  ...  1986   2193642.0      2193642.0\n",
              "\n",
              "[5 rows x 17 columns]"
            ]
          },
          "metadata": {
            "tags": []
          },
          "execution_count": 117
        }
      ]
    },
    {
      "cell_type": "markdown",
      "metadata": {
        "id": "2JPtyCGYqLxJ",
        "colab_type": "text"
      },
      "source": [
        "#Train, Val, Test Split \n",
        "(60,20,20)"
      ]
    },
    {
      "cell_type": "code",
      "metadata": {
        "id": "hgjcvyd1qPxz",
        "colab_type": "code",
        "colab": {}
      },
      "source": [
        "movies.sort_values(by = 'released', inplace = True)"
      ],
      "execution_count": 0,
      "outputs": []
    },
    {
      "cell_type": "code",
      "metadata": {
        "id": "ettXNKEXq8eh",
        "colab_type": "code",
        "outputId": "91f2ff7f-3805-41ed-a06f-8b7b0165634a",
        "colab": {
          "base_uri": "https://localhost:8080/",
          "height": 289
        }
      },
      "source": [
        "movies.head()"
      ],
      "execution_count": 12,
      "outputs": [
        {
          "output_type": "execute_result",
          "data": {
            "text/html": [
              "<div>\n",
              "<style scoped>\n",
              "    .dataframe tbody tr th:only-of-type {\n",
              "        vertical-align: middle;\n",
              "    }\n",
              "\n",
              "    .dataframe tbody tr th {\n",
              "        vertical-align: top;\n",
              "    }\n",
              "\n",
              "    .dataframe thead th {\n",
              "        text-align: right;\n",
              "    }\n",
              "</style>\n",
              "<table border=\"1\" class=\"dataframe\">\n",
              "  <thead>\n",
              "    <tr style=\"text-align: right;\">\n",
              "      <th></th>\n",
              "      <th>budget</th>\n",
              "      <th>company</th>\n",
              "      <th>country</th>\n",
              "      <th>director</th>\n",
              "      <th>genre</th>\n",
              "      <th>gross</th>\n",
              "      <th>name</th>\n",
              "      <th>rating</th>\n",
              "      <th>released</th>\n",
              "      <th>runtime</th>\n",
              "      <th>score</th>\n",
              "      <th>star</th>\n",
              "      <th>votes</th>\n",
              "      <th>writer</th>\n",
              "      <th>year</th>\n",
              "      <th>net_revenue</th>\n",
              "    </tr>\n",
              "  </thead>\n",
              "  <tbody>\n",
              "    <tr>\n",
              "      <th>96</th>\n",
              "      <td>0.0</td>\n",
              "      <td>New World Pictures</td>\n",
              "      <td>USA</td>\n",
              "      <td>Harley Cokeliss</td>\n",
              "      <td>Action</td>\n",
              "      <td>6637565.0</td>\n",
              "      <td>Black Moon Rising</td>\n",
              "      <td>R</td>\n",
              "      <td>1986-01-10</td>\n",
              "      <td>100</td>\n",
              "      <td>5.4</td>\n",
              "      <td>Tommy Lee Jones</td>\n",
              "      <td>4045</td>\n",
              "      <td>John Carpenter</td>\n",
              "      <td>1986</td>\n",
              "      <td>6637565.0</td>\n",
              "    </tr>\n",
              "    <tr>\n",
              "      <th>195</th>\n",
              "      <td>0.0</td>\n",
              "      <td>Longshot</td>\n",
              "      <td>USA</td>\n",
              "      <td>Paul Bartel</td>\n",
              "      <td>Comedy</td>\n",
              "      <td>1096843.0</td>\n",
              "      <td>The Longshot</td>\n",
              "      <td>PG-13</td>\n",
              "      <td>1986-01-17</td>\n",
              "      <td>89</td>\n",
              "      <td>5.4</td>\n",
              "      <td>Tim Conway</td>\n",
              "      <td>457</td>\n",
              "      <td>Tim Conway</td>\n",
              "      <td>1986</td>\n",
              "      <td>1096843.0</td>\n",
              "    </tr>\n",
              "    <tr>\n",
              "      <th>47</th>\n",
              "      <td>1100000.0</td>\n",
              "      <td>Empire Pictures</td>\n",
              "      <td>USA</td>\n",
              "      <td>John Carl Buechler</td>\n",
              "      <td>Comedy</td>\n",
              "      <td>5450815.0</td>\n",
              "      <td>Troll</td>\n",
              "      <td>PG-13</td>\n",
              "      <td>1986-01-17</td>\n",
              "      <td>82</td>\n",
              "      <td>4.3</td>\n",
              "      <td>Michael Moriarty</td>\n",
              "      <td>7569</td>\n",
              "      <td>Ed Naha</td>\n",
              "      <td>1986</td>\n",
              "      <td>4350815.0</td>\n",
              "    </tr>\n",
              "    <tr>\n",
              "      <th>27</th>\n",
              "      <td>0.0</td>\n",
              "      <td>TriStar Pictures</td>\n",
              "      <td>USA</td>\n",
              "      <td>Sidney J. Furie</td>\n",
              "      <td>Action</td>\n",
              "      <td>24159872.0</td>\n",
              "      <td>Iron Eagle</td>\n",
              "      <td>PG-13</td>\n",
              "      <td>1986-01-17</td>\n",
              "      <td>117</td>\n",
              "      <td>5.3</td>\n",
              "      <td>Louis Gossett Jr.</td>\n",
              "      <td>11304</td>\n",
              "      <td>Kevin Alyn Elders</td>\n",
              "      <td>1986</td>\n",
              "      <td>24159872.0</td>\n",
              "    </tr>\n",
              "    <tr>\n",
              "      <th>218</th>\n",
              "      <td>0.0</td>\n",
              "      <td>DIC Entertainment</td>\n",
              "      <td>Canada</td>\n",
              "      <td>Bruno Bianchi</td>\n",
              "      <td>Family</td>\n",
              "      <td>2193642.0</td>\n",
              "      <td>Heathcliff: The Movie</td>\n",
              "      <td>G</td>\n",
              "      <td>1986-01-17</td>\n",
              "      <td>73</td>\n",
              "      <td>5.3</td>\n",
              "      <td>Mel Blanc</td>\n",
              "      <td>187</td>\n",
              "      <td>George Gately</td>\n",
              "      <td>1986</td>\n",
              "      <td>2193642.0</td>\n",
              "    </tr>\n",
              "  </tbody>\n",
              "</table>\n",
              "</div>"
            ],
            "text/plain": [
              "        budget             company  ...  year net_revenue\n",
              "96         0.0  New World Pictures  ...  1986   6637565.0\n",
              "195        0.0            Longshot  ...  1986   1096843.0\n",
              "47   1100000.0     Empire Pictures  ...  1986   4350815.0\n",
              "27         0.0    TriStar Pictures  ...  1986  24159872.0\n",
              "218        0.0   DIC Entertainment  ...  1986   2193642.0\n",
              "\n",
              "[5 rows x 16 columns]"
            ]
          },
          "metadata": {
            "tags": []
          },
          "execution_count": 12
        }
      ]
    },
    {
      "cell_type": "code",
      "metadata": {
        "id": "io8aEn4IsA_F",
        "colab_type": "code",
        "colab": {}
      },
      "source": [
        "movies.reset_index(inplace = True, drop  = True)"
      ],
      "execution_count": 0,
      "outputs": []
    },
    {
      "cell_type": "code",
      "metadata": {
        "id": "rAcahlb0sQjw",
        "colab_type": "code",
        "outputId": "ba731e04-91e0-4bf5-aecb-070ac1a774f1",
        "colab": {
          "base_uri": "https://localhost:8080/",
          "height": 289
        }
      },
      "source": [
        "movies.head()"
      ],
      "execution_count": 14,
      "outputs": [
        {
          "output_type": "execute_result",
          "data": {
            "text/html": [
              "<div>\n",
              "<style scoped>\n",
              "    .dataframe tbody tr th:only-of-type {\n",
              "        vertical-align: middle;\n",
              "    }\n",
              "\n",
              "    .dataframe tbody tr th {\n",
              "        vertical-align: top;\n",
              "    }\n",
              "\n",
              "    .dataframe thead th {\n",
              "        text-align: right;\n",
              "    }\n",
              "</style>\n",
              "<table border=\"1\" class=\"dataframe\">\n",
              "  <thead>\n",
              "    <tr style=\"text-align: right;\">\n",
              "      <th></th>\n",
              "      <th>budget</th>\n",
              "      <th>company</th>\n",
              "      <th>country</th>\n",
              "      <th>director</th>\n",
              "      <th>genre</th>\n",
              "      <th>gross</th>\n",
              "      <th>name</th>\n",
              "      <th>rating</th>\n",
              "      <th>released</th>\n",
              "      <th>runtime</th>\n",
              "      <th>score</th>\n",
              "      <th>star</th>\n",
              "      <th>votes</th>\n",
              "      <th>writer</th>\n",
              "      <th>year</th>\n",
              "      <th>net_revenue</th>\n",
              "    </tr>\n",
              "  </thead>\n",
              "  <tbody>\n",
              "    <tr>\n",
              "      <th>0</th>\n",
              "      <td>0.0</td>\n",
              "      <td>New World Pictures</td>\n",
              "      <td>USA</td>\n",
              "      <td>Harley Cokeliss</td>\n",
              "      <td>Action</td>\n",
              "      <td>6637565.0</td>\n",
              "      <td>Black Moon Rising</td>\n",
              "      <td>R</td>\n",
              "      <td>1986-01-10</td>\n",
              "      <td>100</td>\n",
              "      <td>5.4</td>\n",
              "      <td>Tommy Lee Jones</td>\n",
              "      <td>4045</td>\n",
              "      <td>John Carpenter</td>\n",
              "      <td>1986</td>\n",
              "      <td>6637565.0</td>\n",
              "    </tr>\n",
              "    <tr>\n",
              "      <th>1</th>\n",
              "      <td>0.0</td>\n",
              "      <td>Longshot</td>\n",
              "      <td>USA</td>\n",
              "      <td>Paul Bartel</td>\n",
              "      <td>Comedy</td>\n",
              "      <td>1096843.0</td>\n",
              "      <td>The Longshot</td>\n",
              "      <td>PG-13</td>\n",
              "      <td>1986-01-17</td>\n",
              "      <td>89</td>\n",
              "      <td>5.4</td>\n",
              "      <td>Tim Conway</td>\n",
              "      <td>457</td>\n",
              "      <td>Tim Conway</td>\n",
              "      <td>1986</td>\n",
              "      <td>1096843.0</td>\n",
              "    </tr>\n",
              "    <tr>\n",
              "      <th>2</th>\n",
              "      <td>1100000.0</td>\n",
              "      <td>Empire Pictures</td>\n",
              "      <td>USA</td>\n",
              "      <td>John Carl Buechler</td>\n",
              "      <td>Comedy</td>\n",
              "      <td>5450815.0</td>\n",
              "      <td>Troll</td>\n",
              "      <td>PG-13</td>\n",
              "      <td>1986-01-17</td>\n",
              "      <td>82</td>\n",
              "      <td>4.3</td>\n",
              "      <td>Michael Moriarty</td>\n",
              "      <td>7569</td>\n",
              "      <td>Ed Naha</td>\n",
              "      <td>1986</td>\n",
              "      <td>4350815.0</td>\n",
              "    </tr>\n",
              "    <tr>\n",
              "      <th>3</th>\n",
              "      <td>0.0</td>\n",
              "      <td>TriStar Pictures</td>\n",
              "      <td>USA</td>\n",
              "      <td>Sidney J. Furie</td>\n",
              "      <td>Action</td>\n",
              "      <td>24159872.0</td>\n",
              "      <td>Iron Eagle</td>\n",
              "      <td>PG-13</td>\n",
              "      <td>1986-01-17</td>\n",
              "      <td>117</td>\n",
              "      <td>5.3</td>\n",
              "      <td>Louis Gossett Jr.</td>\n",
              "      <td>11304</td>\n",
              "      <td>Kevin Alyn Elders</td>\n",
              "      <td>1986</td>\n",
              "      <td>24159872.0</td>\n",
              "    </tr>\n",
              "    <tr>\n",
              "      <th>4</th>\n",
              "      <td>0.0</td>\n",
              "      <td>DIC Entertainment</td>\n",
              "      <td>Canada</td>\n",
              "      <td>Bruno Bianchi</td>\n",
              "      <td>Family</td>\n",
              "      <td>2193642.0</td>\n",
              "      <td>Heathcliff: The Movie</td>\n",
              "      <td>G</td>\n",
              "      <td>1986-01-17</td>\n",
              "      <td>73</td>\n",
              "      <td>5.3</td>\n",
              "      <td>Mel Blanc</td>\n",
              "      <td>187</td>\n",
              "      <td>George Gately</td>\n",
              "      <td>1986</td>\n",
              "      <td>2193642.0</td>\n",
              "    </tr>\n",
              "  </tbody>\n",
              "</table>\n",
              "</div>"
            ],
            "text/plain": [
              "      budget             company country  ...             writer  year  net_revenue\n",
              "0        0.0  New World Pictures     USA  ...     John Carpenter  1986    6637565.0\n",
              "1        0.0            Longshot     USA  ...         Tim Conway  1986    1096843.0\n",
              "2  1100000.0     Empire Pictures     USA  ...            Ed Naha  1986    4350815.0\n",
              "3        0.0    TriStar Pictures     USA  ...  Kevin Alyn Elders  1986   24159872.0\n",
              "4        0.0   DIC Entertainment  Canada  ...      George Gately  1986    2193642.0\n",
              "\n",
              "[5 rows x 16 columns]"
            ]
          },
          "metadata": {
            "tags": []
          },
          "execution_count": 14
        }
      ]
    },
    {
      "cell_type": "code",
      "metadata": {
        "id": "7yxK6n4sS5e-",
        "colab_type": "code",
        "colab": {}
      },
      "source": [
        "# set end year for training data set\n",
        "train_lim = movies['year'].min()+19\n",
        "\n",
        "# set beginning year for test data\n",
        "test_lim = movies['year'].max()-4"
      ],
      "execution_count": 0,
      "outputs": []
    },
    {
      "cell_type": "code",
      "metadata": {
        "id": "gYnoNdHxTqgZ",
        "colab_type": "code",
        "colab": {}
      },
      "source": [
        "# movies in years less than training end year\n",
        "train = movies[movies['year']<= train_lim]\n",
        "\n",
        "# all movies in years greater than training end year\n",
        "val_temp = movies[movies['year'] > train_lim]\n",
        "\n",
        "# movies in years less than test year and greater than training end year\n",
        "val = val_temp[val_temp['year'] < test_lim]\n",
        "\n",
        "# movies in years greater than test year\n",
        "test = movies[movies['year']>=test_lim]"
      ],
      "execution_count": 0,
      "outputs": []
    },
    {
      "cell_type": "code",
      "metadata": {
        "id": "j_3sTohPZSUY",
        "colab_type": "code",
        "outputId": "b2ccd575-f60c-4830-a538-8816e0a96714",
        "colab": {
          "base_uri": "https://localhost:8080/",
          "height": 35
        }
      },
      "source": [
        "train.shape, val.shape, test.shape"
      ],
      "execution_count": 17,
      "outputs": [
        {
          "output_type": "execute_result",
          "data": {
            "text/plain": [
              "((4400, 16), (1320, 16), (1100, 16))"
            ]
          },
          "metadata": {
            "tags": []
          },
          "execution_count": 17
        }
      ]
    },
    {
      "cell_type": "markdown",
      "metadata": {
        "id": "T6ChzwtKRhMr",
        "colab_type": "text"
      },
      "source": [
        "#Assignment 1"
      ]
    },
    {
      "cell_type": "markdown",
      "metadata": {
        "id": "eVrO-CAuTKNh",
        "colab_type": "text"
      },
      "source": [
        "##Baseline"
      ]
    },
    {
      "cell_type": "code",
      "metadata": {
        "id": "Q_aLUA-aKMqS",
        "colab_type": "code",
        "colab": {
          "base_uri": "https://localhost:8080/",
          "height": 35
        },
        "outputId": "fe1726d7-470e-4c61-f1ff-71c2cb14ab96"
      },
      "source": [
        "average = movies['gross'].mean()\n",
        "print(f'{average:,.0f}')"
      ],
      "execution_count": 19,
      "outputs": [
        {
          "output_type": "stream",
          "text": [
            "33,497,829\n"
          ],
          "name": "stdout"
        }
      ]
    },
    {
      "cell_type": "code",
      "metadata": {
        "id": "alFE0uBAmY12",
        "colab_type": "code",
        "outputId": "648a80b4-c851-4042-8d87-88f40d78fd24",
        "colab": {
          "base_uri": "https://localhost:8080/",
          "height": 35
        }
      },
      "source": [
        "from sklearn.metrics import mean_absolute_error\n",
        "\n",
        "train['gross'].mean()\n",
        "\n",
        "y_train = train['gross']\n",
        "y_test = test['gross']\n",
        "base_guess = y_train.mean()\n",
        "\n",
        "\n",
        "# test error\n",
        "y_base_pred = [base_guess] * len(y_test)\n",
        "mae_test = mean_absolute_error(y_test, y_base_pred)\n",
        "\n",
        "print(f'Mean Absolute Error: ${mae_test:,.2f}')"
      ],
      "execution_count": 20,
      "outputs": [
        {
          "output_type": "stream",
          "text": [
            "Mean Absolute Error: $45,726,662.13\n"
          ],
          "name": "stdout"
        }
      ]
    },
    {
      "cell_type": "markdown",
      "metadata": {
        "id": "89UwrgFuRl1m",
        "colab_type": "text"
      },
      "source": [
        "##Basic Model"
      ]
    },
    {
      "cell_type": "code",
      "metadata": {
        "id": "qnN9_PphPXyg",
        "colab_type": "code",
        "colab": {}
      },
      "source": [
        "# set target\n",
        "target = 'gross'\n",
        "\n",
        "# set features\n",
        "features = ['budget', 'genre', 'rating', 'year']\n",
        "\n",
        "# set X matrices and y vectors\n",
        "X_train = train[features]\n",
        "y_train = train[target]\n",
        "\n",
        "X_val = val[features]\n",
        "y_val = val[target]\n",
        "\n",
        "X_test = test[features]\n",
        "y_test = test[target]"
      ],
      "execution_count": 0,
      "outputs": []
    },
    {
      "cell_type": "code",
      "metadata": {
        "id": "eCUabvivajGP",
        "colab_type": "code",
        "outputId": "c5de3450-1755-483d-89fe-c15c93d132b4",
        "colab": {
          "base_uri": "https://localhost:8080/",
          "height": 281
        }
      },
      "source": [
        "!pip install category_encoders==2.*"
      ],
      "execution_count": 22,
      "outputs": [
        {
          "output_type": "stream",
          "text": [
            "Collecting category_encoders==2.*\n",
            "\u001b[?25l  Downloading https://files.pythonhosted.org/packages/a0/52/c54191ad3782de633ea3d6ee3bb2837bda0cf3bc97644bb6375cf14150a0/category_encoders-2.1.0-py2.py3-none-any.whl (100kB)\n",
            "\r\u001b[K     |███▎                            | 10kB 16.4MB/s eta 0:00:01\r\u001b[K     |██████▌                         | 20kB 3.2MB/s eta 0:00:01\r\u001b[K     |█████████▉                      | 30kB 4.6MB/s eta 0:00:01\r\u001b[K     |█████████████                   | 40kB 3.0MB/s eta 0:00:01\r\u001b[K     |████████████████▍               | 51kB 3.7MB/s eta 0:00:01\r\u001b[K     |███████████████████▋            | 61kB 4.4MB/s eta 0:00:01\r\u001b[K     |██████████████████████▉         | 71kB 5.1MB/s eta 0:00:01\r\u001b[K     |██████████████████████████▏     | 81kB 4.0MB/s eta 0:00:01\r\u001b[K     |█████████████████████████████▍  | 92kB 4.5MB/s eta 0:00:01\r\u001b[K     |████████████████████████████████| 102kB 3.7MB/s \n",
            "\u001b[?25hRequirement already satisfied: scipy>=0.19.0 in /usr/local/lib/python3.6/dist-packages (from category_encoders==2.*) (1.4.1)\n",
            "Requirement already satisfied: numpy>=1.11.3 in /usr/local/lib/python3.6/dist-packages (from category_encoders==2.*) (1.18.3)\n",
            "Requirement already satisfied: scikit-learn>=0.20.0 in /usr/local/lib/python3.6/dist-packages (from category_encoders==2.*) (0.22.2.post1)\n",
            "Requirement already satisfied: pandas>=0.21.1 in /usr/local/lib/python3.6/dist-packages (from category_encoders==2.*) (1.0.3)\n",
            "Requirement already satisfied: patsy>=0.4.1 in /usr/local/lib/python3.6/dist-packages (from category_encoders==2.*) (0.5.1)\n",
            "Requirement already satisfied: statsmodels>=0.6.1 in /usr/local/lib/python3.6/dist-packages (from category_encoders==2.*) (0.10.2)\n",
            "Requirement already satisfied: joblib>=0.11 in /usr/local/lib/python3.6/dist-packages (from scikit-learn>=0.20.0->category_encoders==2.*) (0.14.1)\n",
            "Requirement already satisfied: python-dateutil>=2.6.1 in /usr/local/lib/python3.6/dist-packages (from pandas>=0.21.1->category_encoders==2.*) (2.8.1)\n",
            "Requirement already satisfied: pytz>=2017.2 in /usr/local/lib/python3.6/dist-packages (from pandas>=0.21.1->category_encoders==2.*) (2018.9)\n",
            "Requirement already satisfied: six in /usr/local/lib/python3.6/dist-packages (from patsy>=0.4.1->category_encoders==2.*) (1.12.0)\n",
            "Installing collected packages: category-encoders\n",
            "Successfully installed category-encoders-2.1.0\n"
          ],
          "name": "stdout"
        }
      ]
    },
    {
      "cell_type": "code",
      "metadata": {
        "id": "SH6g8rZroQjR",
        "colab_type": "code",
        "outputId": "c5ecbba5-9b2d-458e-a400-5a17c9e89426",
        "colab": {
          "base_uri": "https://localhost:8080/",
          "height": 203
        }
      },
      "source": [
        "X_train.head()"
      ],
      "execution_count": 23,
      "outputs": [
        {
          "output_type": "execute_result",
          "data": {
            "text/html": [
              "<div>\n",
              "<style scoped>\n",
              "    .dataframe tbody tr th:only-of-type {\n",
              "        vertical-align: middle;\n",
              "    }\n",
              "\n",
              "    .dataframe tbody tr th {\n",
              "        vertical-align: top;\n",
              "    }\n",
              "\n",
              "    .dataframe thead th {\n",
              "        text-align: right;\n",
              "    }\n",
              "</style>\n",
              "<table border=\"1\" class=\"dataframe\">\n",
              "  <thead>\n",
              "    <tr style=\"text-align: right;\">\n",
              "      <th></th>\n",
              "      <th>budget</th>\n",
              "      <th>genre</th>\n",
              "      <th>rating</th>\n",
              "      <th>year</th>\n",
              "    </tr>\n",
              "  </thead>\n",
              "  <tbody>\n",
              "    <tr>\n",
              "      <th>0</th>\n",
              "      <td>0.0</td>\n",
              "      <td>Action</td>\n",
              "      <td>R</td>\n",
              "      <td>1986</td>\n",
              "    </tr>\n",
              "    <tr>\n",
              "      <th>1</th>\n",
              "      <td>0.0</td>\n",
              "      <td>Comedy</td>\n",
              "      <td>PG-13</td>\n",
              "      <td>1986</td>\n",
              "    </tr>\n",
              "    <tr>\n",
              "      <th>2</th>\n",
              "      <td>1100000.0</td>\n",
              "      <td>Comedy</td>\n",
              "      <td>PG-13</td>\n",
              "      <td>1986</td>\n",
              "    </tr>\n",
              "    <tr>\n",
              "      <th>3</th>\n",
              "      <td>0.0</td>\n",
              "      <td>Action</td>\n",
              "      <td>PG-13</td>\n",
              "      <td>1986</td>\n",
              "    </tr>\n",
              "    <tr>\n",
              "      <th>4</th>\n",
              "      <td>0.0</td>\n",
              "      <td>Family</td>\n",
              "      <td>G</td>\n",
              "      <td>1986</td>\n",
              "    </tr>\n",
              "  </tbody>\n",
              "</table>\n",
              "</div>"
            ],
            "text/plain": [
              "      budget   genre rating  year\n",
              "0        0.0  Action      R  1986\n",
              "1        0.0  Comedy  PG-13  1986\n",
              "2  1100000.0  Comedy  PG-13  1986\n",
              "3        0.0  Action  PG-13  1986\n",
              "4        0.0  Family      G  1986"
            ]
          },
          "metadata": {
            "tags": []
          },
          "execution_count": 23
        }
      ]
    },
    {
      "cell_type": "code",
      "metadata": {
        "id": "-iBuVYp4SXEE",
        "colab_type": "code",
        "outputId": "1b893269-e465-45e9-b38b-6fbc775145a0",
        "colab": {
          "base_uri": "https://localhost:8080/",
          "height": 35
        }
      },
      "source": [
        "import category_encoders as ce\n",
        "from sklearn.impute import SimpleImputer\n",
        "from sklearn.preprocessing import StandardScaler\n",
        "from sklearn.linear_model import LinearRegression\n",
        "from sklearn.metrics import mean_absolute_error\n",
        "from sklearn.pipeline import make_pipeline\n",
        "# from math import sqrt\n",
        "\n",
        "pipeline = make_pipeline(\n",
        "    ce.OrdinalEncoder(),\n",
        "    # SimpleImputer(strategy = 'mean'),\n",
        "    StandardScaler(),\n",
        "    LinearRegression()\n",
        ")\n",
        "\n",
        "# Fit on training set\n",
        "pipeline.fit(X_train, y_train)\n",
        "\n",
        "# make predictions\n",
        "y_pred = pipeline.predict(X_test)\n",
        "\n",
        "# test mean absolute error\n",
        "mae = mean_absolute_error(y_test, y_pred)\n",
        "print(f'Test Mean Absolute Error: {mae:,.2f}')"
      ],
      "execution_count": 24,
      "outputs": [
        {
          "output_type": "stream",
          "text": [
            "Test Mean Absolute Error: 28,700,487.17\n"
          ],
          "name": "stdout"
        }
      ]
    }
  ]
}