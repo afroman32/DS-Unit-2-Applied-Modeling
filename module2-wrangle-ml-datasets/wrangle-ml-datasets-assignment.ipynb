{
  "nbformat": 4,
  "nbformat_minor": 0,
  "metadata": {
    "colab": {
      "name": "Unit 2 Build",
      "provenance": [],
      "authorship_tag": "ABX9TyPSrtyD+ypl9prJlxP17b0U",
      "include_colab_link": true
    },
    "kernelspec": {
      "name": "python3",
      "display_name": "Python 3"
    }
  },
  "cells": [
    {
      "cell_type": "markdown",
      "metadata": {
        "id": "view-in-github",
        "colab_type": "text"
      },
      "source": [
        "<a href=\"https://colab.research.google.com/github/afroman32/DS-Unit-2-Applied-Modeling/blob/master/module2-wrangle-ml-datasets/wrangle-ml-datasets-assignment.ipynb\" target=\"_parent\"><img src=\"https://colab.research.google.com/assets/colab-badge.svg\" alt=\"Open In Colab\"/></a>"
      ]
    },
    {
      "cell_type": "markdown",
      "metadata": {
        "id": "coLQpS33Ehwe",
        "colab_type": "text"
      },
      "source": [
        "#Inspect"
      ]
    },
    {
      "cell_type": "code",
      "metadata": {
        "id": "T8pYMPqoR9t5",
        "colab_type": "code",
        "colab": {}
      },
      "source": [
        "import pandas as pd\n",
        "import numpy as np"
      ],
      "execution_count": 0,
      "outputs": []
    },
    {
      "cell_type": "code",
      "metadata": {
        "id": "9MXAu5rkXlN1",
        "colab_type": "code",
        "colab": {}
      },
      "source": [
        "#need the encoding set to \"ISO-8859-1\" so it will read the weird characters properly \n",
        "movies = pd.read_csv('https://raw.githubusercontent.com/afroman32/Unit-2-Build/master/movies.csv',\n",
        "                     encoding = \"ISO-8859-1\")"
      ],
      "execution_count": 0,
      "outputs": []
    },
    {
      "cell_type": "code",
      "metadata": {
        "id": "5t6fHwEaXu_J",
        "colab_type": "code",
        "outputId": "b2197079-74bd-444e-937f-207390d04920",
        "colab": {
          "base_uri": "https://localhost:8080/",
          "height": 306
        }
      },
      "source": [
        "print(movies.shape)\n",
        "movies.head()"
      ],
      "execution_count": 4,
      "outputs": [
        {
          "output_type": "stream",
          "text": [
            "(6820, 15)\n"
          ],
          "name": "stdout"
        },
        {
          "output_type": "execute_result",
          "data": {
            "text/html": [
              "<div>\n",
              "<style scoped>\n",
              "    .dataframe tbody tr th:only-of-type {\n",
              "        vertical-align: middle;\n",
              "    }\n",
              "\n",
              "    .dataframe tbody tr th {\n",
              "        vertical-align: top;\n",
              "    }\n",
              "\n",
              "    .dataframe thead th {\n",
              "        text-align: right;\n",
              "    }\n",
              "</style>\n",
              "<table border=\"1\" class=\"dataframe\">\n",
              "  <thead>\n",
              "    <tr style=\"text-align: right;\">\n",
              "      <th></th>\n",
              "      <th>budget</th>\n",
              "      <th>company</th>\n",
              "      <th>country</th>\n",
              "      <th>director</th>\n",
              "      <th>genre</th>\n",
              "      <th>gross</th>\n",
              "      <th>name</th>\n",
              "      <th>rating</th>\n",
              "      <th>released</th>\n",
              "      <th>runtime</th>\n",
              "      <th>score</th>\n",
              "      <th>star</th>\n",
              "      <th>votes</th>\n",
              "      <th>writer</th>\n",
              "      <th>year</th>\n",
              "    </tr>\n",
              "  </thead>\n",
              "  <tbody>\n",
              "    <tr>\n",
              "      <th>0</th>\n",
              "      <td>8000000.0</td>\n",
              "      <td>Columbia Pictures Corporation</td>\n",
              "      <td>USA</td>\n",
              "      <td>Rob Reiner</td>\n",
              "      <td>Adventure</td>\n",
              "      <td>52287414.0</td>\n",
              "      <td>Stand by Me</td>\n",
              "      <td>R</td>\n",
              "      <td>1986-08-22</td>\n",
              "      <td>89</td>\n",
              "      <td>8.1</td>\n",
              "      <td>Wil Wheaton</td>\n",
              "      <td>299174</td>\n",
              "      <td>Stephen King</td>\n",
              "      <td>1986</td>\n",
              "    </tr>\n",
              "    <tr>\n",
              "      <th>1</th>\n",
              "      <td>6000000.0</td>\n",
              "      <td>Paramount Pictures</td>\n",
              "      <td>USA</td>\n",
              "      <td>John Hughes</td>\n",
              "      <td>Comedy</td>\n",
              "      <td>70136369.0</td>\n",
              "      <td>Ferris Bueller's Day Off</td>\n",
              "      <td>PG-13</td>\n",
              "      <td>1986-06-11</td>\n",
              "      <td>103</td>\n",
              "      <td>7.8</td>\n",
              "      <td>Matthew Broderick</td>\n",
              "      <td>264740</td>\n",
              "      <td>John Hughes</td>\n",
              "      <td>1986</td>\n",
              "    </tr>\n",
              "    <tr>\n",
              "      <th>2</th>\n",
              "      <td>15000000.0</td>\n",
              "      <td>Paramount Pictures</td>\n",
              "      <td>USA</td>\n",
              "      <td>Tony Scott</td>\n",
              "      <td>Action</td>\n",
              "      <td>179800601.0</td>\n",
              "      <td>Top Gun</td>\n",
              "      <td>PG</td>\n",
              "      <td>1986-05-16</td>\n",
              "      <td>110</td>\n",
              "      <td>6.9</td>\n",
              "      <td>Tom Cruise</td>\n",
              "      <td>236909</td>\n",
              "      <td>Jim Cash</td>\n",
              "      <td>1986</td>\n",
              "    </tr>\n",
              "    <tr>\n",
              "      <th>3</th>\n",
              "      <td>18500000.0</td>\n",
              "      <td>Twentieth Century Fox Film Corporation</td>\n",
              "      <td>USA</td>\n",
              "      <td>James Cameron</td>\n",
              "      <td>Action</td>\n",
              "      <td>85160248.0</td>\n",
              "      <td>Aliens</td>\n",
              "      <td>R</td>\n",
              "      <td>1986-07-18</td>\n",
              "      <td>137</td>\n",
              "      <td>8.4</td>\n",
              "      <td>Sigourney Weaver</td>\n",
              "      <td>540152</td>\n",
              "      <td>James Cameron</td>\n",
              "      <td>1986</td>\n",
              "    </tr>\n",
              "    <tr>\n",
              "      <th>4</th>\n",
              "      <td>9000000.0</td>\n",
              "      <td>Walt Disney Pictures</td>\n",
              "      <td>USA</td>\n",
              "      <td>Randal Kleiser</td>\n",
              "      <td>Adventure</td>\n",
              "      <td>18564613.0</td>\n",
              "      <td>Flight of the Navigator</td>\n",
              "      <td>PG</td>\n",
              "      <td>1986-08-01</td>\n",
              "      <td>90</td>\n",
              "      <td>6.9</td>\n",
              "      <td>Joey Cramer</td>\n",
              "      <td>36636</td>\n",
              "      <td>Mark H. Baker</td>\n",
              "      <td>1986</td>\n",
              "    </tr>\n",
              "  </tbody>\n",
              "</table>\n",
              "</div>"
            ],
            "text/plain": [
              "       budget                                 company  ...         writer  year\n",
              "0   8000000.0           Columbia Pictures Corporation  ...   Stephen King  1986\n",
              "1   6000000.0                      Paramount Pictures  ...    John Hughes  1986\n",
              "2  15000000.0                      Paramount Pictures  ...       Jim Cash  1986\n",
              "3  18500000.0  Twentieth Century Fox Film Corporation  ...  James Cameron  1986\n",
              "4   9000000.0                    Walt Disney Pictures  ...  Mark H. Baker  1986\n",
              "\n",
              "[5 rows x 15 columns]"
            ]
          },
          "metadata": {
            "tags": []
          },
          "execution_count": 4
        }
      ]
    },
    {
      "cell_type": "code",
      "metadata": {
        "id": "tUI8RAyHYibQ",
        "colab_type": "code",
        "outputId": "8b9969b5-97a7-4973-d4dc-25d37ece2aff",
        "colab": {
          "base_uri": "https://localhost:8080/",
          "height": 175
        }
      },
      "source": [
        "movies['score'].describe()"
      ],
      "execution_count": 5,
      "outputs": [
        {
          "output_type": "execute_result",
          "data": {
            "text/plain": [
              "count    6820.000000\n",
              "mean        6.374897\n",
              "std         1.003142\n",
              "min         1.500000\n",
              "25%         5.800000\n",
              "50%         6.400000\n",
              "75%         7.100000\n",
              "max         9.300000\n",
              "Name: score, dtype: float64"
            ]
          },
          "metadata": {
            "tags": []
          },
          "execution_count": 5
        }
      ]
    },
    {
      "cell_type": "markdown",
      "metadata": {
        "id": "XJmofgobEqxB",
        "colab_type": "text"
      },
      "source": [
        "#Wrangle"
      ]
    },
    {
      "cell_type": "code",
      "metadata": {
        "id": "x7z5gYRKj4G5",
        "colab_type": "code",
        "colab": {}
      },
      "source": [
        "# director track record, movies success by director\n",
        "# make sure to train on features that would come before the target"
      ],
      "execution_count": 0,
      "outputs": []
    },
    {
      "cell_type": "code",
      "metadata": {
        "id": "DL9D1GNTMCtI",
        "colab_type": "code",
        "colab": {
          "base_uri": "https://localhost:8080/",
          "height": 35
        },
        "outputId": "5d91628c-87cd-403d-a73b-3f609c02e178"
      },
      "source": [
        "# number of unique directors\n",
        "movies['director'].nunique()"
      ],
      "execution_count": 7,
      "outputs": [
        {
          "output_type": "execute_result",
          "data": {
            "text/plain": [
              "2759"
            ]
          },
          "metadata": {
            "tags": []
          },
          "execution_count": 7
        }
      ]
    },
    {
      "cell_type": "code",
      "metadata": {
        "id": "zU212SpikGr7",
        "colab_type": "code",
        "colab": {
          "base_uri": "https://localhost:8080/",
          "height": 52
        },
        "outputId": "92d24d8c-5e73-465e-c4b9-f2cbe43e33cb"
      },
      "source": [
        "# create a list of directors\n",
        "directors = list(movies['director'])\n",
        "\n",
        "# remove the duplicates from the list\n",
        "directors = list(dict.fromkeys(directors))\n",
        "\n",
        "# check length of directors, should be 2759 to match unique directors\n",
        "print(len(directors))\n",
        "type(directors)"
      ],
      "execution_count": 8,
      "outputs": [
        {
          "output_type": "stream",
          "text": [
            "2759\n"
          ],
          "name": "stdout"
        },
        {
          "output_type": "execute_result",
          "data": {
            "text/plain": [
              "list"
            ]
          },
          "metadata": {
            "tags": []
          },
          "execution_count": 8
        }
      ]
    },
    {
      "cell_type": "code",
      "metadata": {
        "id": "_Al85ws-lkqP",
        "colab_type": "code",
        "colab": {
          "base_uri": "https://localhost:8080/",
          "height": 35
        },
        "outputId": "0262fe54-b235-4050-819d-9c190d3ebd99"
      },
      "source": [
        "# test to see average for directors\n",
        "sub = movies[movies['director'] == movies['director'][3]]\n",
        "sub['gross'].sum()/len(sub['gross'])"
      ],
      "execution_count": 9,
      "outputs": [
        {
          "output_type": "execute_result",
          "data": {
            "text/plain": [
              "318321163.8333333"
            ]
          },
          "metadata": {
            "tags": []
          },
          "execution_count": 9
        }
      ]
    },
    {
      "cell_type": "code",
      "metadata": {
        "id": "YHmWoExPlPmr",
        "colab_type": "code",
        "colab": {
          "base_uri": "https://localhost:8080/",
          "height": 52
        },
        "outputId": "a9b080c0-9774-4401-eff2-d447bd325322"
      },
      "source": [
        "ave_gross = []\n",
        "\n",
        "# run through each director and average the movie gross revenue\n",
        "for i in range(0,len(directors)):\n",
        "\n",
        "  # create a subset of all directors in index i\n",
        "  sub = movies[movies['director'] == directors[i]]\n",
        "\n",
        "  # average the gross revenues of each movie\n",
        "  average=sub['gross'].sum()/len(sub['gross'])\n",
        "\n",
        "  # cast float to int to remove decimal points then add it to ave_gross list\n",
        "  ave_gross.append(int(average))\n",
        "\n",
        "# check if ave_gross has correct number of values\n",
        "print(len(ave_gross))\n",
        "print(directors[i])"
      ],
      "execution_count": 54,
      "outputs": [
        {
          "output_type": "stream",
          "text": [
            "2759\n",
            "Nicole Garcia\n"
          ],
          "name": "stdout"
        }
      ]
    },
    {
      "cell_type": "code",
      "metadata": {
        "id": "naU-b-p3ewhy",
        "colab_type": "code",
        "colab": {
          "base_uri": "https://localhost:8080/",
          "height": 97
        },
        "outputId": "d6a54fd6-672e-4749-86b6-706f3a2d761b"
      },
      "source": [
        "sub"
      ],
      "execution_count": 55,
      "outputs": [
        {
          "output_type": "execute_result",
          "data": {
            "text/html": [
              "<div>\n",
              "<style scoped>\n",
              "    .dataframe tbody tr th:only-of-type {\n",
              "        vertical-align: middle;\n",
              "    }\n",
              "\n",
              "    .dataframe tbody tr th {\n",
              "        vertical-align: top;\n",
              "    }\n",
              "\n",
              "    .dataframe thead th {\n",
              "        text-align: right;\n",
              "    }\n",
              "</style>\n",
              "<table border=\"1\" class=\"dataframe\">\n",
              "  <thead>\n",
              "    <tr style=\"text-align: right;\">\n",
              "      <th></th>\n",
              "      <th>budget</th>\n",
              "      <th>company</th>\n",
              "      <th>country</th>\n",
              "      <th>director</th>\n",
              "      <th>genre</th>\n",
              "      <th>gross</th>\n",
              "      <th>name</th>\n",
              "      <th>rating</th>\n",
              "      <th>released</th>\n",
              "      <th>runtime</th>\n",
              "      <th>score</th>\n",
              "      <th>star</th>\n",
              "      <th>votes</th>\n",
              "      <th>writer</th>\n",
              "      <th>year</th>\n",
              "      <th>dir_ave_gross</th>\n",
              "      <th>writer_ave_gross</th>\n",
              "    </tr>\n",
              "  </thead>\n",
              "  <tbody>\n",
              "    <tr>\n",
              "      <th>6815</th>\n",
              "      <td>0.0</td>\n",
              "      <td>Les Productions du TrÃ©sor</td>\n",
              "      <td>France</td>\n",
              "      <td>Nicole Garcia</td>\n",
              "      <td>Drama</td>\n",
              "      <td>37757.0</td>\n",
              "      <td>From the Land of the Moon</td>\n",
              "      <td>R</td>\n",
              "      <td>2017-07-28</td>\n",
              "      <td>120</td>\n",
              "      <td>6.7</td>\n",
              "      <td>Marion Cotillard</td>\n",
              "      <td>2411</td>\n",
              "      <td>Milena Agus</td>\n",
              "      <td>2016</td>\n",
              "      <td>51398395</td>\n",
              "      <td>47640647</td>\n",
              "    </tr>\n",
              "  </tbody>\n",
              "</table>\n",
              "</div>"
            ],
            "text/plain": [
              "      budget                     company  ... dir_ave_gross writer_ave_gross\n",
              "6815     0.0  Les Productions du TrÃ©sor  ...      51398395         47640647\n",
              "\n",
              "[1 rows x 17 columns]"
            ]
          },
          "metadata": {
            "tags": []
          },
          "execution_count": 55
        }
      ]
    },
    {
      "cell_type": "code",
      "metadata": {
        "id": "Zfs7666GfqXv",
        "colab_type": "code",
        "colab": {
          "base_uri": "https://localhost:8080/",
          "height": 97
        },
        "outputId": "cc7384d0-34d6-492d-c18e-47fc21c441ee"
      },
      "source": [
        "movies[movies['director']==directors[-2]]"
      ],
      "execution_count": 37,
      "outputs": [
        {
          "output_type": "execute_result",
          "data": {
            "text/html": [
              "<div>\n",
              "<style scoped>\n",
              "    .dataframe tbody tr th:only-of-type {\n",
              "        vertical-align: middle;\n",
              "    }\n",
              "\n",
              "    .dataframe tbody tr th {\n",
              "        vertical-align: top;\n",
              "    }\n",
              "\n",
              "    .dataframe thead th {\n",
              "        text-align: right;\n",
              "    }\n",
              "</style>\n",
              "<table border=\"1\" class=\"dataframe\">\n",
              "  <thead>\n",
              "    <tr style=\"text-align: right;\">\n",
              "      <th></th>\n",
              "      <th>budget</th>\n",
              "      <th>company</th>\n",
              "      <th>country</th>\n",
              "      <th>director</th>\n",
              "      <th>genre</th>\n",
              "      <th>gross</th>\n",
              "      <th>name</th>\n",
              "      <th>rating</th>\n",
              "      <th>released</th>\n",
              "      <th>runtime</th>\n",
              "      <th>score</th>\n",
              "      <th>star</th>\n",
              "      <th>votes</th>\n",
              "      <th>writer</th>\n",
              "      <th>year</th>\n",
              "      <th>dir_ave_gross</th>\n",
              "      <th>writer_ave_gross</th>\n",
              "    </tr>\n",
              "  </thead>\n",
              "  <tbody>\n",
              "    <tr>\n",
              "      <th>6747</th>\n",
              "      <td>0.0</td>\n",
              "      <td>Borderline Presents</td>\n",
              "      <td>USA</td>\n",
              "      <td>Nicolas Pesce</td>\n",
              "      <td>Drama</td>\n",
              "      <td>25981.0</td>\n",
              "      <td>The Eyes of My Mother</td>\n",
              "      <td>R</td>\n",
              "      <td>2016-12-02</td>\n",
              "      <td>76</td>\n",
              "      <td>6.2</td>\n",
              "      <td>Kika MagalhÃ£es</td>\n",
              "      <td>6947</td>\n",
              "      <td>Nicolas Pesce</td>\n",
              "      <td>2016</td>\n",
              "      <td>10387002</td>\n",
              "      <td>75976178</td>\n",
              "    </tr>\n",
              "  </tbody>\n",
              "</table>\n",
              "</div>"
            ],
            "text/plain": [
              "      budget              company  ... dir_ave_gross writer_ave_gross\n",
              "6747     0.0  Borderline Presents  ...      10387002         75976178\n",
              "\n",
              "[1 rows x 17 columns]"
            ]
          },
          "metadata": {
            "tags": []
          },
          "execution_count": 37
        }
      ]
    },
    {
      "cell_type": "code",
      "metadata": {
        "id": "ySEH3B5hf0ta",
        "colab_type": "code",
        "colab": {
          "base_uri": "https://localhost:8080/",
          "height": 35
        },
        "outputId": "c8c26ba2-0c3a-498f-cc32-37bf86ee7746"
      },
      "source": [
        "ave_gross[-1]"
      ],
      "execution_count": 57,
      "outputs": [
        {
          "output_type": "execute_result",
          "data": {
            "text/plain": [
              "37757"
            ]
          },
          "metadata": {
            "tags": []
          },
          "execution_count": 57
        }
      ]
    },
    {
      "cell_type": "code",
      "metadata": {
        "id": "4EoLYpIkqsTk",
        "colab_type": "code",
        "colab": {}
      },
      "source": [
        "# create a dictionary with directors and their average gross\n",
        "dir_ave = {directors[i]: ave_gross[i] for i in range(len(directors))}"
      ],
      "execution_count": 0,
      "outputs": []
    },
    {
      "cell_type": "code",
      "metadata": {
        "id": "A8vDF5u9fGEd",
        "colab_type": "code",
        "colab": {
          "base_uri": "https://localhost:8080/",
          "height": 35
        },
        "outputId": "11861aee-f692-49e3-8968-69451f56f3b7"
      },
      "source": [
        "len(dir_ave)"
      ],
      "execution_count": 59,
      "outputs": [
        {
          "output_type": "execute_result",
          "data": {
            "text/plain": [
              "2759"
            ]
          },
          "metadata": {
            "tags": []
          },
          "execution_count": 59
        }
      ]
    },
    {
      "cell_type": "code",
      "metadata": {
        "id": "ZJXfXF_Zc3xJ",
        "colab_type": "code",
        "colab": {
          "base_uri": "https://localhost:8080/",
          "height": 52
        },
        "outputId": "cdaa7f12-8d69-4c42-b719-0de2d4ab3f10"
      },
      "source": [
        "print(directors[0])\n",
        "res = list(dir_ave.keys()).index('Nicolas Pesce') \n",
        "res"
      ],
      "execution_count": 60,
      "outputs": [
        {
          "output_type": "stream",
          "text": [
            "Rob Reiner\n"
          ],
          "name": "stdout"
        },
        {
          "output_type": "execute_result",
          "data": {
            "text/plain": [
              "2757"
            ]
          },
          "metadata": {
            "tags": []
          },
          "execution_count": 60
        }
      ]
    },
    {
      "cell_type": "code",
      "metadata": {
        "id": "u12hy6fDyBG8",
        "colab_type": "code",
        "colab": {
          "base_uri": "https://localhost:8080/",
          "height": 289
        },
        "outputId": "7b040482-2df7-4af0-96f9-ea96c4067a09"
      },
      "source": [
        "# pass the dictionary to the movies dataframe\n",
        "movies['dir_ave_gross']= movies['director'].map(dir_ave)\n",
        "movies.head()"
      ],
      "execution_count": 61,
      "outputs": [
        {
          "output_type": "execute_result",
          "data": {
            "text/html": [
              "<div>\n",
              "<style scoped>\n",
              "    .dataframe tbody tr th:only-of-type {\n",
              "        vertical-align: middle;\n",
              "    }\n",
              "\n",
              "    .dataframe tbody tr th {\n",
              "        vertical-align: top;\n",
              "    }\n",
              "\n",
              "    .dataframe thead th {\n",
              "        text-align: right;\n",
              "    }\n",
              "</style>\n",
              "<table border=\"1\" class=\"dataframe\">\n",
              "  <thead>\n",
              "    <tr style=\"text-align: right;\">\n",
              "      <th></th>\n",
              "      <th>budget</th>\n",
              "      <th>company</th>\n",
              "      <th>country</th>\n",
              "      <th>director</th>\n",
              "      <th>genre</th>\n",
              "      <th>gross</th>\n",
              "      <th>name</th>\n",
              "      <th>rating</th>\n",
              "      <th>released</th>\n",
              "      <th>runtime</th>\n",
              "      <th>score</th>\n",
              "      <th>star</th>\n",
              "      <th>votes</th>\n",
              "      <th>writer</th>\n",
              "      <th>year</th>\n",
              "      <th>dir_ave_gross</th>\n",
              "      <th>writer_ave_gross</th>\n",
              "    </tr>\n",
              "  </thead>\n",
              "  <tbody>\n",
              "    <tr>\n",
              "      <th>0</th>\n",
              "      <td>0.0</td>\n",
              "      <td>New World Pictures</td>\n",
              "      <td>USA</td>\n",
              "      <td>Harley Cokeliss</td>\n",
              "      <td>Action</td>\n",
              "      <td>6637565.0</td>\n",
              "      <td>Black Moon Rising</td>\n",
              "      <td>R</td>\n",
              "      <td>1986-01-10</td>\n",
              "      <td>100</td>\n",
              "      <td>5.4</td>\n",
              "      <td>Tommy Lee Jones</td>\n",
              "      <td>4045</td>\n",
              "      <td>John Carpenter</td>\n",
              "      <td>1986</td>\n",
              "      <td>4849211</td>\n",
              "      <td>18418741</td>\n",
              "    </tr>\n",
              "    <tr>\n",
              "      <th>1</th>\n",
              "      <td>0.0</td>\n",
              "      <td>Longshot</td>\n",
              "      <td>USA</td>\n",
              "      <td>Paul Bartel</td>\n",
              "      <td>Comedy</td>\n",
              "      <td>1096843.0</td>\n",
              "      <td>The Longshot</td>\n",
              "      <td>PG-13</td>\n",
              "      <td>1986-01-17</td>\n",
              "      <td>89</td>\n",
              "      <td>5.4</td>\n",
              "      <td>Tim Conway</td>\n",
              "      <td>457</td>\n",
              "      <td>Tim Conway</td>\n",
              "      <td>1986</td>\n",
              "      <td>1626657</td>\n",
              "      <td>781727</td>\n",
              "    </tr>\n",
              "    <tr>\n",
              "      <th>2</th>\n",
              "      <td>1100000.0</td>\n",
              "      <td>Empire Pictures</td>\n",
              "      <td>USA</td>\n",
              "      <td>John Carl Buechler</td>\n",
              "      <td>Comedy</td>\n",
              "      <td>5450815.0</td>\n",
              "      <td>Troll</td>\n",
              "      <td>PG-13</td>\n",
              "      <td>1986-01-17</td>\n",
              "      <td>82</td>\n",
              "      <td>4.3</td>\n",
              "      <td>Michael Moriarty</td>\n",
              "      <td>7569</td>\n",
              "      <td>Ed Naha</td>\n",
              "      <td>1986</td>\n",
              "      <td>12310408</td>\n",
              "      <td>41382841</td>\n",
              "    </tr>\n",
              "    <tr>\n",
              "      <th>3</th>\n",
              "      <td>0.0</td>\n",
              "      <td>TriStar Pictures</td>\n",
              "      <td>USA</td>\n",
              "      <td>Sidney J. Furie</td>\n",
              "      <td>Action</td>\n",
              "      <td>24159872.0</td>\n",
              "      <td>Iron Eagle</td>\n",
              "      <td>PG-13</td>\n",
              "      <td>1986-01-17</td>\n",
              "      <td>117</td>\n",
              "      <td>5.3</td>\n",
              "      <td>Louis Gossett Jr.</td>\n",
              "      <td>11304</td>\n",
              "      <td>Kevin Alyn Elders</td>\n",
              "      <td>1986</td>\n",
              "      <td>13214797</td>\n",
              "      <td>28682422</td>\n",
              "    </tr>\n",
              "    <tr>\n",
              "      <th>4</th>\n",
              "      <td>0.0</td>\n",
              "      <td>DIC Entertainment</td>\n",
              "      <td>Canada</td>\n",
              "      <td>Bruno Bianchi</td>\n",
              "      <td>Family</td>\n",
              "      <td>2193642.0</td>\n",
              "      <td>Heathcliff: The Movie</td>\n",
              "      <td>G</td>\n",
              "      <td>1986-01-17</td>\n",
              "      <td>73</td>\n",
              "      <td>5.3</td>\n",
              "      <td>Mel Blanc</td>\n",
              "      <td>187</td>\n",
              "      <td>George Gately</td>\n",
              "      <td>1986</td>\n",
              "      <td>2193642</td>\n",
              "      <td>1338264</td>\n",
              "    </tr>\n",
              "  </tbody>\n",
              "</table>\n",
              "</div>"
            ],
            "text/plain": [
              "      budget             company country  ...  year dir_ave_gross  writer_ave_gross\n",
              "0        0.0  New World Pictures     USA  ...  1986       4849211          18418741\n",
              "1        0.0            Longshot     USA  ...  1986       1626657            781727\n",
              "2  1100000.0     Empire Pictures     USA  ...  1986      12310408          41382841\n",
              "3        0.0    TriStar Pictures     USA  ...  1986      13214797          28682422\n",
              "4        0.0   DIC Entertainment  Canada  ...  1986       2193642           1338264\n",
              "\n",
              "[5 rows x 17 columns]"
            ]
          },
          "metadata": {
            "tags": []
          },
          "execution_count": 61
        }
      ]
    },
    {
      "cell_type": "code",
      "metadata": {
        "id": "kDO092caNhnS",
        "colab_type": "code",
        "colab": {
          "base_uri": "https://localhost:8080/",
          "height": 35
        },
        "outputId": "c889535c-ec15-49f5-f7ed-9aea6ce06a98"
      },
      "source": [
        "# number of unique writers\n",
        "movies['writer'].nunique()"
      ],
      "execution_count": 62,
      "outputs": [
        {
          "output_type": "execute_result",
          "data": {
            "text/plain": [
              "4199"
            ]
          },
          "metadata": {
            "tags": []
          },
          "execution_count": 62
        }
      ]
    },
    {
      "cell_type": "code",
      "metadata": {
        "colab_type": "code",
        "outputId": "9e98978e-7884-4631-bac9-411e026807ae",
        "id": "SM0UP1F6arij",
        "colab": {
          "base_uri": "https://localhost:8080/",
          "height": 52
        }
      },
      "source": [
        "# create a list of writers\n",
        "writers = list(movies['writer'])\n",
        "\n",
        "# remove the duplicates from the list\n",
        "writers = list(dict.fromkeys(writers))\n",
        "\n",
        "# check length of writers, should be 4199 to match unique writers\n",
        "print(len(writers))\n",
        "type(writers)"
      ],
      "execution_count": 63,
      "outputs": [
        {
          "output_type": "stream",
          "text": [
            "4199\n"
          ],
          "name": "stdout"
        },
        {
          "output_type": "execute_result",
          "data": {
            "text/plain": [
              "list"
            ]
          },
          "metadata": {
            "tags": []
          },
          "execution_count": 63
        }
      ]
    },
    {
      "cell_type": "code",
      "metadata": {
        "colab_type": "code",
        "outputId": "b5ff048b-e830-4173-ab8f-ad1710382017",
        "id": "40nfvYdvarim",
        "colab": {
          "base_uri": "https://localhost:8080/",
          "height": 35
        }
      },
      "source": [
        "# test to see average for random writer\n",
        "sub = movies[movies['writer'] == movies['writer'][3]]\n",
        "sub['gross'].sum()/len(sub['gross'])"
      ],
      "execution_count": 64,
      "outputs": [
        {
          "output_type": "execute_result",
          "data": {
            "text/plain": [
              "12391598.666666666"
            ]
          },
          "metadata": {
            "tags": []
          },
          "execution_count": 64
        }
      ]
    },
    {
      "cell_type": "code",
      "metadata": {
        "colab_type": "code",
        "outputId": "28030bcc-1981-4d6a-f0a7-7fced2272438",
        "id": "PqXVA2iParip",
        "colab": {
          "base_uri": "https://localhost:8080/",
          "height": 35
        }
      },
      "source": [
        "writer_gross = []\n",
        "\n",
        "# run through each writers and average the movie gross revenue\n",
        "for i in range(0,len(writers)):\n",
        "  # create a subset of all writers in index i\n",
        "  sub = movies[movies['writer'] == writers[i]]\n",
        "\n",
        "  # average the gross revenues of each movie\n",
        "  average=sub['gross'].sum()/len(sub['gross'])\n",
        "\n",
        "  # cast float to int to remove decimal points then add it to ave_gross list\n",
        "  writer_gross.append(int(average))\n",
        "\n",
        "# check if writer_gross has correct number of values, expect 4199\n",
        "len(writer_gross)"
      ],
      "execution_count": 65,
      "outputs": [
        {
          "output_type": "execute_result",
          "data": {
            "text/plain": [
              "4199"
            ]
          },
          "metadata": {
            "tags": []
          },
          "execution_count": 65
        }
      ]
    },
    {
      "cell_type": "code",
      "metadata": {
        "colab_type": "code",
        "id": "bKT_sJgGariq",
        "colab": {}
      },
      "source": [
        "# create a dictionary with writers and their average gross\n",
        "dir_ave = {writers[i]: writer_gross[i] for i in range(len(writers))}"
      ],
      "execution_count": 0,
      "outputs": []
    },
    {
      "cell_type": "code",
      "metadata": {
        "colab_type": "code",
        "outputId": "31c079fa-06a6-41ff-d696-e4598e4d157d",
        "id": "ZgLZ-Gl8ariu",
        "colab": {
          "base_uri": "https://localhost:8080/",
          "height": 289
        }
      },
      "source": [
        "# pass the dictionary to the movies dataframe\n",
        "movies['writer_ave_gross']= movies['writer'].map(dir_ave)\n",
        "movies.head()"
      ],
      "execution_count": 67,
      "outputs": [
        {
          "output_type": "execute_result",
          "data": {
            "text/html": [
              "<div>\n",
              "<style scoped>\n",
              "    .dataframe tbody tr th:only-of-type {\n",
              "        vertical-align: middle;\n",
              "    }\n",
              "\n",
              "    .dataframe tbody tr th {\n",
              "        vertical-align: top;\n",
              "    }\n",
              "\n",
              "    .dataframe thead th {\n",
              "        text-align: right;\n",
              "    }\n",
              "</style>\n",
              "<table border=\"1\" class=\"dataframe\">\n",
              "  <thead>\n",
              "    <tr style=\"text-align: right;\">\n",
              "      <th></th>\n",
              "      <th>budget</th>\n",
              "      <th>company</th>\n",
              "      <th>country</th>\n",
              "      <th>director</th>\n",
              "      <th>genre</th>\n",
              "      <th>gross</th>\n",
              "      <th>name</th>\n",
              "      <th>rating</th>\n",
              "      <th>released</th>\n",
              "      <th>runtime</th>\n",
              "      <th>score</th>\n",
              "      <th>star</th>\n",
              "      <th>votes</th>\n",
              "      <th>writer</th>\n",
              "      <th>year</th>\n",
              "      <th>dir_ave_gross</th>\n",
              "      <th>writer_ave_gross</th>\n",
              "    </tr>\n",
              "  </thead>\n",
              "  <tbody>\n",
              "    <tr>\n",
              "      <th>0</th>\n",
              "      <td>0.0</td>\n",
              "      <td>New World Pictures</td>\n",
              "      <td>USA</td>\n",
              "      <td>Harley Cokeliss</td>\n",
              "      <td>Action</td>\n",
              "      <td>6637565.0</td>\n",
              "      <td>Black Moon Rising</td>\n",
              "      <td>R</td>\n",
              "      <td>1986-01-10</td>\n",
              "      <td>100</td>\n",
              "      <td>5.4</td>\n",
              "      <td>Tommy Lee Jones</td>\n",
              "      <td>4045</td>\n",
              "      <td>John Carpenter</td>\n",
              "      <td>1986</td>\n",
              "      <td>4849211</td>\n",
              "      <td>15583149</td>\n",
              "    </tr>\n",
              "    <tr>\n",
              "      <th>1</th>\n",
              "      <td>0.0</td>\n",
              "      <td>Longshot</td>\n",
              "      <td>USA</td>\n",
              "      <td>Paul Bartel</td>\n",
              "      <td>Comedy</td>\n",
              "      <td>1096843.0</td>\n",
              "      <td>The Longshot</td>\n",
              "      <td>PG-13</td>\n",
              "      <td>1986-01-17</td>\n",
              "      <td>89</td>\n",
              "      <td>5.4</td>\n",
              "      <td>Tim Conway</td>\n",
              "      <td>457</td>\n",
              "      <td>Tim Conway</td>\n",
              "      <td>1986</td>\n",
              "      <td>1626657</td>\n",
              "      <td>1096843</td>\n",
              "    </tr>\n",
              "    <tr>\n",
              "      <th>2</th>\n",
              "      <td>1100000.0</td>\n",
              "      <td>Empire Pictures</td>\n",
              "      <td>USA</td>\n",
              "      <td>John Carl Buechler</td>\n",
              "      <td>Comedy</td>\n",
              "      <td>5450815.0</td>\n",
              "      <td>Troll</td>\n",
              "      <td>PG-13</td>\n",
              "      <td>1986-01-17</td>\n",
              "      <td>82</td>\n",
              "      <td>4.3</td>\n",
              "      <td>Michael Moriarty</td>\n",
              "      <td>7569</td>\n",
              "      <td>Ed Naha</td>\n",
              "      <td>1986</td>\n",
              "      <td>12310408</td>\n",
              "      <td>5450815</td>\n",
              "    </tr>\n",
              "    <tr>\n",
              "      <th>3</th>\n",
              "      <td>0.0</td>\n",
              "      <td>TriStar Pictures</td>\n",
              "      <td>USA</td>\n",
              "      <td>Sidney J. Furie</td>\n",
              "      <td>Action</td>\n",
              "      <td>24159872.0</td>\n",
              "      <td>Iron Eagle</td>\n",
              "      <td>PG-13</td>\n",
              "      <td>1986-01-17</td>\n",
              "      <td>117</td>\n",
              "      <td>5.3</td>\n",
              "      <td>Louis Gossett Jr.</td>\n",
              "      <td>11304</td>\n",
              "      <td>Kevin Alyn Elders</td>\n",
              "      <td>1986</td>\n",
              "      <td>13214797</td>\n",
              "      <td>12391598</td>\n",
              "    </tr>\n",
              "    <tr>\n",
              "      <th>4</th>\n",
              "      <td>0.0</td>\n",
              "      <td>DIC Entertainment</td>\n",
              "      <td>Canada</td>\n",
              "      <td>Bruno Bianchi</td>\n",
              "      <td>Family</td>\n",
              "      <td>2193642.0</td>\n",
              "      <td>Heathcliff: The Movie</td>\n",
              "      <td>G</td>\n",
              "      <td>1986-01-17</td>\n",
              "      <td>73</td>\n",
              "      <td>5.3</td>\n",
              "      <td>Mel Blanc</td>\n",
              "      <td>187</td>\n",
              "      <td>George Gately</td>\n",
              "      <td>1986</td>\n",
              "      <td>2193642</td>\n",
              "      <td>2193642</td>\n",
              "    </tr>\n",
              "  </tbody>\n",
              "</table>\n",
              "</div>"
            ],
            "text/plain": [
              "      budget             company country  ...  year dir_ave_gross  writer_ave_gross\n",
              "0        0.0  New World Pictures     USA  ...  1986       4849211          15583149\n",
              "1        0.0            Longshot     USA  ...  1986       1626657           1096843\n",
              "2  1100000.0     Empire Pictures     USA  ...  1986      12310408           5450815\n",
              "3        0.0    TriStar Pictures     USA  ...  1986      13214797          12391598\n",
              "4        0.0   DIC Entertainment  Canada  ...  1986       2193642           2193642\n",
              "\n",
              "[5 rows x 17 columns]"
            ]
          },
          "metadata": {
            "tags": []
          },
          "execution_count": 67
        }
      ]
    },
    {
      "cell_type": "markdown",
      "metadata": {
        "id": "2JPtyCGYqLxJ",
        "colab_type": "text"
      },
      "source": [
        "#Train, Val, Test Split \n",
        "(60,20,20)"
      ]
    },
    {
      "cell_type": "code",
      "metadata": {
        "id": "hgjcvyd1qPxz",
        "colab_type": "code",
        "colab": {}
      },
      "source": [
        "movies.sort_values(by = 'released', inplace = True)"
      ],
      "execution_count": 0,
      "outputs": []
    },
    {
      "cell_type": "code",
      "metadata": {
        "id": "ettXNKEXq8eh",
        "colab_type": "code",
        "outputId": "01134ba1-e36f-4370-845d-3ae784629ad6",
        "colab": {
          "base_uri": "https://localhost:8080/",
          "height": 289
        }
      },
      "source": [
        "movies.head()"
      ],
      "execution_count": 69,
      "outputs": [
        {
          "output_type": "execute_result",
          "data": {
            "text/html": [
              "<div>\n",
              "<style scoped>\n",
              "    .dataframe tbody tr th:only-of-type {\n",
              "        vertical-align: middle;\n",
              "    }\n",
              "\n",
              "    .dataframe tbody tr th {\n",
              "        vertical-align: top;\n",
              "    }\n",
              "\n",
              "    .dataframe thead th {\n",
              "        text-align: right;\n",
              "    }\n",
              "</style>\n",
              "<table border=\"1\" class=\"dataframe\">\n",
              "  <thead>\n",
              "    <tr style=\"text-align: right;\">\n",
              "      <th></th>\n",
              "      <th>budget</th>\n",
              "      <th>company</th>\n",
              "      <th>country</th>\n",
              "      <th>director</th>\n",
              "      <th>genre</th>\n",
              "      <th>gross</th>\n",
              "      <th>name</th>\n",
              "      <th>rating</th>\n",
              "      <th>released</th>\n",
              "      <th>runtime</th>\n",
              "      <th>score</th>\n",
              "      <th>star</th>\n",
              "      <th>votes</th>\n",
              "      <th>writer</th>\n",
              "      <th>year</th>\n",
              "      <th>dir_ave_gross</th>\n",
              "      <th>writer_ave_gross</th>\n",
              "    </tr>\n",
              "  </thead>\n",
              "  <tbody>\n",
              "    <tr>\n",
              "      <th>0</th>\n",
              "      <td>0.0</td>\n",
              "      <td>New World Pictures</td>\n",
              "      <td>USA</td>\n",
              "      <td>Harley Cokeliss</td>\n",
              "      <td>Action</td>\n",
              "      <td>6637565.0</td>\n",
              "      <td>Black Moon Rising</td>\n",
              "      <td>R</td>\n",
              "      <td>1986-01-10</td>\n",
              "      <td>100</td>\n",
              "      <td>5.4</td>\n",
              "      <td>Tommy Lee Jones</td>\n",
              "      <td>4045</td>\n",
              "      <td>John Carpenter</td>\n",
              "      <td>1986</td>\n",
              "      <td>4849211</td>\n",
              "      <td>15583149</td>\n",
              "    </tr>\n",
              "    <tr>\n",
              "      <th>1</th>\n",
              "      <td>0.0</td>\n",
              "      <td>Longshot</td>\n",
              "      <td>USA</td>\n",
              "      <td>Paul Bartel</td>\n",
              "      <td>Comedy</td>\n",
              "      <td>1096843.0</td>\n",
              "      <td>The Longshot</td>\n",
              "      <td>PG-13</td>\n",
              "      <td>1986-01-17</td>\n",
              "      <td>89</td>\n",
              "      <td>5.4</td>\n",
              "      <td>Tim Conway</td>\n",
              "      <td>457</td>\n",
              "      <td>Tim Conway</td>\n",
              "      <td>1986</td>\n",
              "      <td>1626657</td>\n",
              "      <td>1096843</td>\n",
              "    </tr>\n",
              "    <tr>\n",
              "      <th>2</th>\n",
              "      <td>1100000.0</td>\n",
              "      <td>Empire Pictures</td>\n",
              "      <td>USA</td>\n",
              "      <td>John Carl Buechler</td>\n",
              "      <td>Comedy</td>\n",
              "      <td>5450815.0</td>\n",
              "      <td>Troll</td>\n",
              "      <td>PG-13</td>\n",
              "      <td>1986-01-17</td>\n",
              "      <td>82</td>\n",
              "      <td>4.3</td>\n",
              "      <td>Michael Moriarty</td>\n",
              "      <td>7569</td>\n",
              "      <td>Ed Naha</td>\n",
              "      <td>1986</td>\n",
              "      <td>12310408</td>\n",
              "      <td>5450815</td>\n",
              "    </tr>\n",
              "    <tr>\n",
              "      <th>3</th>\n",
              "      <td>0.0</td>\n",
              "      <td>TriStar Pictures</td>\n",
              "      <td>USA</td>\n",
              "      <td>Sidney J. Furie</td>\n",
              "      <td>Action</td>\n",
              "      <td>24159872.0</td>\n",
              "      <td>Iron Eagle</td>\n",
              "      <td>PG-13</td>\n",
              "      <td>1986-01-17</td>\n",
              "      <td>117</td>\n",
              "      <td>5.3</td>\n",
              "      <td>Louis Gossett Jr.</td>\n",
              "      <td>11304</td>\n",
              "      <td>Kevin Alyn Elders</td>\n",
              "      <td>1986</td>\n",
              "      <td>13214797</td>\n",
              "      <td>12391598</td>\n",
              "    </tr>\n",
              "    <tr>\n",
              "      <th>4</th>\n",
              "      <td>0.0</td>\n",
              "      <td>DIC Entertainment</td>\n",
              "      <td>Canada</td>\n",
              "      <td>Bruno Bianchi</td>\n",
              "      <td>Family</td>\n",
              "      <td>2193642.0</td>\n",
              "      <td>Heathcliff: The Movie</td>\n",
              "      <td>G</td>\n",
              "      <td>1986-01-17</td>\n",
              "      <td>73</td>\n",
              "      <td>5.3</td>\n",
              "      <td>Mel Blanc</td>\n",
              "      <td>187</td>\n",
              "      <td>George Gately</td>\n",
              "      <td>1986</td>\n",
              "      <td>2193642</td>\n",
              "      <td>2193642</td>\n",
              "    </tr>\n",
              "  </tbody>\n",
              "</table>\n",
              "</div>"
            ],
            "text/plain": [
              "      budget             company country  ...  year dir_ave_gross  writer_ave_gross\n",
              "0        0.0  New World Pictures     USA  ...  1986       4849211          15583149\n",
              "1        0.0            Longshot     USA  ...  1986       1626657           1096843\n",
              "2  1100000.0     Empire Pictures     USA  ...  1986      12310408           5450815\n",
              "3        0.0    TriStar Pictures     USA  ...  1986      13214797          12391598\n",
              "4        0.0   DIC Entertainment  Canada  ...  1986       2193642           2193642\n",
              "\n",
              "[5 rows x 17 columns]"
            ]
          },
          "metadata": {
            "tags": []
          },
          "execution_count": 69
        }
      ]
    },
    {
      "cell_type": "code",
      "metadata": {
        "id": "io8aEn4IsA_F",
        "colab_type": "code",
        "colab": {}
      },
      "source": [
        "movies.reset_index(inplace = True, drop  = True)"
      ],
      "execution_count": 0,
      "outputs": []
    },
    {
      "cell_type": "code",
      "metadata": {
        "id": "rAcahlb0sQjw",
        "colab_type": "code",
        "outputId": "49a6a2eb-8749-415d-d2c6-c4a24cb893fc",
        "colab": {
          "base_uri": "https://localhost:8080/",
          "height": 289
        }
      },
      "source": [
        "movies.head()"
      ],
      "execution_count": 71,
      "outputs": [
        {
          "output_type": "execute_result",
          "data": {
            "text/html": [
              "<div>\n",
              "<style scoped>\n",
              "    .dataframe tbody tr th:only-of-type {\n",
              "        vertical-align: middle;\n",
              "    }\n",
              "\n",
              "    .dataframe tbody tr th {\n",
              "        vertical-align: top;\n",
              "    }\n",
              "\n",
              "    .dataframe thead th {\n",
              "        text-align: right;\n",
              "    }\n",
              "</style>\n",
              "<table border=\"1\" class=\"dataframe\">\n",
              "  <thead>\n",
              "    <tr style=\"text-align: right;\">\n",
              "      <th></th>\n",
              "      <th>budget</th>\n",
              "      <th>company</th>\n",
              "      <th>country</th>\n",
              "      <th>director</th>\n",
              "      <th>genre</th>\n",
              "      <th>gross</th>\n",
              "      <th>name</th>\n",
              "      <th>rating</th>\n",
              "      <th>released</th>\n",
              "      <th>runtime</th>\n",
              "      <th>score</th>\n",
              "      <th>star</th>\n",
              "      <th>votes</th>\n",
              "      <th>writer</th>\n",
              "      <th>year</th>\n",
              "      <th>dir_ave_gross</th>\n",
              "      <th>writer_ave_gross</th>\n",
              "    </tr>\n",
              "  </thead>\n",
              "  <tbody>\n",
              "    <tr>\n",
              "      <th>0</th>\n",
              "      <td>0.0</td>\n",
              "      <td>New World Pictures</td>\n",
              "      <td>USA</td>\n",
              "      <td>Harley Cokeliss</td>\n",
              "      <td>Action</td>\n",
              "      <td>6637565.0</td>\n",
              "      <td>Black Moon Rising</td>\n",
              "      <td>R</td>\n",
              "      <td>1986-01-10</td>\n",
              "      <td>100</td>\n",
              "      <td>5.4</td>\n",
              "      <td>Tommy Lee Jones</td>\n",
              "      <td>4045</td>\n",
              "      <td>John Carpenter</td>\n",
              "      <td>1986</td>\n",
              "      <td>4849211</td>\n",
              "      <td>15583149</td>\n",
              "    </tr>\n",
              "    <tr>\n",
              "      <th>1</th>\n",
              "      <td>0.0</td>\n",
              "      <td>Longshot</td>\n",
              "      <td>USA</td>\n",
              "      <td>Paul Bartel</td>\n",
              "      <td>Comedy</td>\n",
              "      <td>1096843.0</td>\n",
              "      <td>The Longshot</td>\n",
              "      <td>PG-13</td>\n",
              "      <td>1986-01-17</td>\n",
              "      <td>89</td>\n",
              "      <td>5.4</td>\n",
              "      <td>Tim Conway</td>\n",
              "      <td>457</td>\n",
              "      <td>Tim Conway</td>\n",
              "      <td>1986</td>\n",
              "      <td>1626657</td>\n",
              "      <td>1096843</td>\n",
              "    </tr>\n",
              "    <tr>\n",
              "      <th>2</th>\n",
              "      <td>1100000.0</td>\n",
              "      <td>Empire Pictures</td>\n",
              "      <td>USA</td>\n",
              "      <td>John Carl Buechler</td>\n",
              "      <td>Comedy</td>\n",
              "      <td>5450815.0</td>\n",
              "      <td>Troll</td>\n",
              "      <td>PG-13</td>\n",
              "      <td>1986-01-17</td>\n",
              "      <td>82</td>\n",
              "      <td>4.3</td>\n",
              "      <td>Michael Moriarty</td>\n",
              "      <td>7569</td>\n",
              "      <td>Ed Naha</td>\n",
              "      <td>1986</td>\n",
              "      <td>12310408</td>\n",
              "      <td>5450815</td>\n",
              "    </tr>\n",
              "    <tr>\n",
              "      <th>3</th>\n",
              "      <td>0.0</td>\n",
              "      <td>TriStar Pictures</td>\n",
              "      <td>USA</td>\n",
              "      <td>Sidney J. Furie</td>\n",
              "      <td>Action</td>\n",
              "      <td>24159872.0</td>\n",
              "      <td>Iron Eagle</td>\n",
              "      <td>PG-13</td>\n",
              "      <td>1986-01-17</td>\n",
              "      <td>117</td>\n",
              "      <td>5.3</td>\n",
              "      <td>Louis Gossett Jr.</td>\n",
              "      <td>11304</td>\n",
              "      <td>Kevin Alyn Elders</td>\n",
              "      <td>1986</td>\n",
              "      <td>13214797</td>\n",
              "      <td>12391598</td>\n",
              "    </tr>\n",
              "    <tr>\n",
              "      <th>4</th>\n",
              "      <td>0.0</td>\n",
              "      <td>DIC Entertainment</td>\n",
              "      <td>Canada</td>\n",
              "      <td>Bruno Bianchi</td>\n",
              "      <td>Family</td>\n",
              "      <td>2193642.0</td>\n",
              "      <td>Heathcliff: The Movie</td>\n",
              "      <td>G</td>\n",
              "      <td>1986-01-17</td>\n",
              "      <td>73</td>\n",
              "      <td>5.3</td>\n",
              "      <td>Mel Blanc</td>\n",
              "      <td>187</td>\n",
              "      <td>George Gately</td>\n",
              "      <td>1986</td>\n",
              "      <td>2193642</td>\n",
              "      <td>2193642</td>\n",
              "    </tr>\n",
              "  </tbody>\n",
              "</table>\n",
              "</div>"
            ],
            "text/plain": [
              "      budget             company country  ...  year dir_ave_gross  writer_ave_gross\n",
              "0        0.0  New World Pictures     USA  ...  1986       4849211          15583149\n",
              "1        0.0            Longshot     USA  ...  1986       1626657           1096843\n",
              "2  1100000.0     Empire Pictures     USA  ...  1986      12310408           5450815\n",
              "3        0.0    TriStar Pictures     USA  ...  1986      13214797          12391598\n",
              "4        0.0   DIC Entertainment  Canada  ...  1986       2193642           2193642\n",
              "\n",
              "[5 rows x 17 columns]"
            ]
          },
          "metadata": {
            "tags": []
          },
          "execution_count": 71
        }
      ]
    },
    {
      "cell_type": "code",
      "metadata": {
        "id": "7yxK6n4sS5e-",
        "colab_type": "code",
        "colab": {}
      },
      "source": [
        "# set end year for training data set\n",
        "train_lim = movies['year'].min()+19\n",
        "\n",
        "# set beginning year for test data\n",
        "test_lim = movies['year'].max()-4"
      ],
      "execution_count": 0,
      "outputs": []
    },
    {
      "cell_type": "code",
      "metadata": {
        "id": "gYnoNdHxTqgZ",
        "colab_type": "code",
        "colab": {}
      },
      "source": [
        "# movies in years less than training end year\n",
        "train = movies[movies['year']<= train_lim]\n",
        "\n",
        "# all movies in years greater than training end year\n",
        "val_temp = movies[movies['year'] > train_lim]\n",
        "\n",
        "# movies in years less than test year and greater than training end year\n",
        "val = val_temp[val_temp['year'] < test_lim]\n",
        "\n",
        "# movies in years greater than test year\n",
        "test = movies[movies['year']>=test_lim]"
      ],
      "execution_count": 0,
      "outputs": []
    },
    {
      "cell_type": "code",
      "metadata": {
        "id": "j_3sTohPZSUY",
        "colab_type": "code",
        "outputId": "7986c6ca-5102-4567-e3a6-4d3512b5010e",
        "colab": {
          "base_uri": "https://localhost:8080/",
          "height": 35
        }
      },
      "source": [
        "train.shape, val.shape, test.shape"
      ],
      "execution_count": 74,
      "outputs": [
        {
          "output_type": "execute_result",
          "data": {
            "text/plain": [
              "((4400, 17), (1320, 17), (1100, 17))"
            ]
          },
          "metadata": {
            "tags": []
          },
          "execution_count": 74
        }
      ]
    },
    {
      "cell_type": "markdown",
      "metadata": {
        "id": "T6ChzwtKRhMr",
        "colab_type": "text"
      },
      "source": [
        "#Assignment 1"
      ]
    },
    {
      "cell_type": "markdown",
      "metadata": {
        "id": "eVrO-CAuTKNh",
        "colab_type": "text"
      },
      "source": [
        "##Baseline"
      ]
    },
    {
      "cell_type": "code",
      "metadata": {
        "id": "Q_aLUA-aKMqS",
        "colab_type": "code",
        "colab": {
          "base_uri": "https://localhost:8080/",
          "height": 35
        },
        "outputId": "aa883f66-3778-4380-e35d-a896079d4f06"
      },
      "source": [
        "average = movies['gross'].mean()\n",
        "print(f'{average:,.0f}')"
      ],
      "execution_count": 75,
      "outputs": [
        {
          "output_type": "stream",
          "text": [
            "33,497,829\n"
          ],
          "name": "stdout"
        }
      ]
    },
    {
      "cell_type": "code",
      "metadata": {
        "id": "alFE0uBAmY12",
        "colab_type": "code",
        "outputId": "3b28e32a-4e63-463c-ed03-26668024371f",
        "colab": {
          "base_uri": "https://localhost:8080/",
          "height": 35
        }
      },
      "source": [
        "from sklearn.metrics import mean_absolute_error\n",
        "\n",
        "train['gross'].mean()\n",
        "\n",
        "y_train = train['gross']\n",
        "y_test = test['gross']\n",
        "base_guess = y_train.mean()\n",
        "\n",
        "\n",
        "# test error\n",
        "y_base_pred = [base_guess] * len(y_test)\n",
        "mae_test = mean_absolute_error(y_test, y_base_pred)\n",
        "\n",
        "print(f'Mean Absolute Error: ${mae_test:,.2f}')"
      ],
      "execution_count": 76,
      "outputs": [
        {
          "output_type": "stream",
          "text": [
            "Mean Absolute Error: $45,726,662.13\n"
          ],
          "name": "stdout"
        }
      ]
    },
    {
      "cell_type": "markdown",
      "metadata": {
        "id": "89UwrgFuRl1m",
        "colab_type": "text"
      },
      "source": [
        "##Basic Model"
      ]
    },
    {
      "cell_type": "code",
      "metadata": {
        "id": "eCUabvivajGP",
        "colab_type": "code",
        "outputId": "da224da7-cc7d-4135-ddc9-f4d67d629b44",
        "colab": {
          "base_uri": "https://localhost:8080/",
          "height": 211
        }
      },
      "source": [
        "!pip install category_encoders==2.*"
      ],
      "execution_count": 85,
      "outputs": [
        {
          "output_type": "stream",
          "text": [
            "Requirement already satisfied: category_encoders==2.* in /usr/local/lib/python3.6/dist-packages (2.2.2)\n",
            "Requirement already satisfied: scipy>=1.0.0 in /usr/local/lib/python3.6/dist-packages (from category_encoders==2.*) (1.4.1)\n",
            "Requirement already satisfied: numpy>=1.14.0 in /usr/local/lib/python3.6/dist-packages (from category_encoders==2.*) (1.18.3)\n",
            "Requirement already satisfied: patsy>=0.5.1 in /usr/local/lib/python3.6/dist-packages (from category_encoders==2.*) (0.5.1)\n",
            "Requirement already satisfied: scikit-learn>=0.20.0 in /usr/local/lib/python3.6/dist-packages (from category_encoders==2.*) (0.22.2.post1)\n",
            "Requirement already satisfied: statsmodels>=0.9.0 in /usr/local/lib/python3.6/dist-packages (from category_encoders==2.*) (0.10.2)\n",
            "Requirement already satisfied: pandas>=0.21.1 in /usr/local/lib/python3.6/dist-packages (from category_encoders==2.*) (1.0.3)\n",
            "Requirement already satisfied: six in /usr/local/lib/python3.6/dist-packages (from patsy>=0.5.1->category_encoders==2.*) (1.12.0)\n",
            "Requirement already satisfied: joblib>=0.11 in /usr/local/lib/python3.6/dist-packages (from scikit-learn>=0.20.0->category_encoders==2.*) (0.14.1)\n",
            "Requirement already satisfied: pytz>=2017.2 in /usr/local/lib/python3.6/dist-packages (from pandas>=0.21.1->category_encoders==2.*) (2018.9)\n",
            "Requirement already satisfied: python-dateutil>=2.6.1 in /usr/local/lib/python3.6/dist-packages (from pandas>=0.21.1->category_encoders==2.*) (2.8.1)\n"
          ],
          "name": "stdout"
        }
      ]
    },
    {
      "cell_type": "code",
      "metadata": {
        "id": "qnN9_PphPXyg",
        "colab_type": "code",
        "colab": {}
      },
      "source": [
        "# set target\n",
        "target = 'gross'\n",
        "\n",
        "# set features\n",
        "features = ['genre', 'rating', 'year', 'dir_ave_gross', 'writer_ave_gross']\n",
        "\n",
        "# set X matrices and y vectors\n",
        "X_train = train[features]\n",
        "y_train = train[target]\n",
        "\n",
        "X_val = val[features]\n",
        "y_val = val[target]\n",
        "\n",
        "X_test = test[features]\n",
        "y_test = test[target]"
      ],
      "execution_count": 0,
      "outputs": []
    },
    {
      "cell_type": "code",
      "metadata": {
        "id": "-iBuVYp4SXEE",
        "colab_type": "code",
        "outputId": "80026452-8861-4cb7-8193-a88f66d4a63f",
        "colab": {
          "base_uri": "https://localhost:8080/",
          "height": 35
        }
      },
      "source": [
        "import category_encoders as ce\n",
        "from sklearn.impute import SimpleImputer\n",
        "from sklearn.preprocessing import StandardScaler\n",
        "from sklearn.linear_model import LinearRegression\n",
        "from sklearn.metrics import mean_absolute_error\n",
        "from sklearn.pipeline import make_pipeline\n",
        "# from math import sqrt\n",
        "\n",
        "pipeline = make_pipeline(\n",
        "    ce.OrdinalEncoder(),\n",
        "    # SimpleImputer(strategy = 'mean'),\n",
        "    StandardScaler(),\n",
        "    LinearRegression()\n",
        ")\n",
        "\n",
        "# Fit on training set\n",
        "pipeline.fit(X_train, y_train)\n",
        "\n",
        "# make predictions\n",
        "y_pred = pipeline.predict(X_test)\n",
        "\n",
        "# test mean absolute error\n",
        "mae = mean_absolute_error(y_test, y_pred)\n",
        "print(f'Test Mean Absolute Error: {mae:,.2f}')"
      ],
      "execution_count": 91,
      "outputs": [
        {
          "output_type": "stream",
          "text": [
            "Test Mean Absolute Error: 19,734,155.80\n"
          ],
          "name": "stdout"
        }
      ]
    }
  ]
}