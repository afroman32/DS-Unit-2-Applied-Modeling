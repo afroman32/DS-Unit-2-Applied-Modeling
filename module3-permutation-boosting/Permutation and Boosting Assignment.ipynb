{
  "nbformat": 4,
  "nbformat_minor": 0,
  "metadata": {
    "colab": {
      "name": "Unit 2 Build",
      "provenance": [],
      "machine_shape": "hm",
      "authorship_tag": "ABX9TyNG20voyYxABaCwRRBb6H8+",
      "include_colab_link": true
    },
    "kernelspec": {
      "name": "python3",
      "display_name": "Python 3"
    }
  },
  "cells": [
    {
      "cell_type": "markdown",
      "metadata": {
        "id": "view-in-github",
        "colab_type": "text"
      },
      "source": [
        "<a href=\"https://colab.research.google.com/github/afroman32/DS-Unit-2-Applied-Modeling/blob/master/module3-permutation-boosting/Permutation%20and%20Boosting%20Assignment.ipynb\" target=\"_parent\"><img src=\"https://colab.research.google.com/assets/colab-badge.svg\" alt=\"Open In Colab\"/></a>"
      ]
    },
    {
      "cell_type": "code",
      "metadata": {
        "id": "T8pYMPqoR9t5",
        "colab_type": "code",
        "colab": {}
      },
      "source": [
        "import pandas as pd\n",
        "import numpy as np"
      ],
      "execution_count": 0,
      "outputs": []
    },
    {
      "cell_type": "code",
      "metadata": {
        "id": "9MXAu5rkXlN1",
        "colab_type": "code",
        "colab": {}
      },
      "source": [
        "movies = pd.read_csv('https://raw.githubusercontent.com/afroman32/Unit-2-Build/master/movies.csv',\n",
        "                     encoding = \"ISO-8859-1\")"
      ],
      "execution_count": 0,
      "outputs": []
    },
    {
      "cell_type": "code",
      "metadata": {
        "id": "5t6fHwEaXu_J",
        "colab_type": "code",
        "outputId": "147d1cfc-9953-42c1-f415-62ec59e26c54",
        "colab": {
          "base_uri": "https://localhost:8080/",
          "height": 306
        }
      },
      "source": [
        "print(movies.shape)\n",
        "movies.head()"
      ],
      "execution_count": 0,
      "outputs": [
        {
          "output_type": "stream",
          "text": [
            "(6820, 15)\n"
          ],
          "name": "stdout"
        },
        {
          "output_type": "execute_result",
          "data": {
            "text/html": [
              "<div>\n",
              "<style scoped>\n",
              "    .dataframe tbody tr th:only-of-type {\n",
              "        vertical-align: middle;\n",
              "    }\n",
              "\n",
              "    .dataframe tbody tr th {\n",
              "        vertical-align: top;\n",
              "    }\n",
              "\n",
              "    .dataframe thead th {\n",
              "        text-align: right;\n",
              "    }\n",
              "</style>\n",
              "<table border=\"1\" class=\"dataframe\">\n",
              "  <thead>\n",
              "    <tr style=\"text-align: right;\">\n",
              "      <th></th>\n",
              "      <th>budget</th>\n",
              "      <th>company</th>\n",
              "      <th>country</th>\n",
              "      <th>director</th>\n",
              "      <th>genre</th>\n",
              "      <th>gross</th>\n",
              "      <th>name</th>\n",
              "      <th>rating</th>\n",
              "      <th>released</th>\n",
              "      <th>runtime</th>\n",
              "      <th>score</th>\n",
              "      <th>star</th>\n",
              "      <th>votes</th>\n",
              "      <th>writer</th>\n",
              "      <th>year</th>\n",
              "    </tr>\n",
              "  </thead>\n",
              "  <tbody>\n",
              "    <tr>\n",
              "      <th>0</th>\n",
              "      <td>8000000.0</td>\n",
              "      <td>Columbia Pictures Corporation</td>\n",
              "      <td>USA</td>\n",
              "      <td>Rob Reiner</td>\n",
              "      <td>Adventure</td>\n",
              "      <td>52287414.0</td>\n",
              "      <td>Stand by Me</td>\n",
              "      <td>R</td>\n",
              "      <td>1986-08-22</td>\n",
              "      <td>89</td>\n",
              "      <td>8.1</td>\n",
              "      <td>Wil Wheaton</td>\n",
              "      <td>299174</td>\n",
              "      <td>Stephen King</td>\n",
              "      <td>1986</td>\n",
              "    </tr>\n",
              "    <tr>\n",
              "      <th>1</th>\n",
              "      <td>6000000.0</td>\n",
              "      <td>Paramount Pictures</td>\n",
              "      <td>USA</td>\n",
              "      <td>John Hughes</td>\n",
              "      <td>Comedy</td>\n",
              "      <td>70136369.0</td>\n",
              "      <td>Ferris Bueller's Day Off</td>\n",
              "      <td>PG-13</td>\n",
              "      <td>1986-06-11</td>\n",
              "      <td>103</td>\n",
              "      <td>7.8</td>\n",
              "      <td>Matthew Broderick</td>\n",
              "      <td>264740</td>\n",
              "      <td>John Hughes</td>\n",
              "      <td>1986</td>\n",
              "    </tr>\n",
              "    <tr>\n",
              "      <th>2</th>\n",
              "      <td>15000000.0</td>\n",
              "      <td>Paramount Pictures</td>\n",
              "      <td>USA</td>\n",
              "      <td>Tony Scott</td>\n",
              "      <td>Action</td>\n",
              "      <td>179800601.0</td>\n",
              "      <td>Top Gun</td>\n",
              "      <td>PG</td>\n",
              "      <td>1986-05-16</td>\n",
              "      <td>110</td>\n",
              "      <td>6.9</td>\n",
              "      <td>Tom Cruise</td>\n",
              "      <td>236909</td>\n",
              "      <td>Jim Cash</td>\n",
              "      <td>1986</td>\n",
              "    </tr>\n",
              "    <tr>\n",
              "      <th>3</th>\n",
              "      <td>18500000.0</td>\n",
              "      <td>Twentieth Century Fox Film Corporation</td>\n",
              "      <td>USA</td>\n",
              "      <td>James Cameron</td>\n",
              "      <td>Action</td>\n",
              "      <td>85160248.0</td>\n",
              "      <td>Aliens</td>\n",
              "      <td>R</td>\n",
              "      <td>1986-07-18</td>\n",
              "      <td>137</td>\n",
              "      <td>8.4</td>\n",
              "      <td>Sigourney Weaver</td>\n",
              "      <td>540152</td>\n",
              "      <td>James Cameron</td>\n",
              "      <td>1986</td>\n",
              "    </tr>\n",
              "    <tr>\n",
              "      <th>4</th>\n",
              "      <td>9000000.0</td>\n",
              "      <td>Walt Disney Pictures</td>\n",
              "      <td>USA</td>\n",
              "      <td>Randal Kleiser</td>\n",
              "      <td>Adventure</td>\n",
              "      <td>18564613.0</td>\n",
              "      <td>Flight of the Navigator</td>\n",
              "      <td>PG</td>\n",
              "      <td>1986-08-01</td>\n",
              "      <td>90</td>\n",
              "      <td>6.9</td>\n",
              "      <td>Joey Cramer</td>\n",
              "      <td>36636</td>\n",
              "      <td>Mark H. Baker</td>\n",
              "      <td>1986</td>\n",
              "    </tr>\n",
              "  </tbody>\n",
              "</table>\n",
              "</div>"
            ],
            "text/plain": [
              "       budget                                 company  ...         writer  year\n",
              "0   8000000.0           Columbia Pictures Corporation  ...   Stephen King  1986\n",
              "1   6000000.0                      Paramount Pictures  ...    John Hughes  1986\n",
              "2  15000000.0                      Paramount Pictures  ...       Jim Cash  1986\n",
              "3  18500000.0  Twentieth Century Fox Film Corporation  ...  James Cameron  1986\n",
              "4   9000000.0                    Walt Disney Pictures  ...  Mark H. Baker  1986\n",
              "\n",
              "[5 rows x 15 columns]"
            ]
          },
          "metadata": {
            "tags": []
          },
          "execution_count": 3
        }
      ]
    },
    {
      "cell_type": "code",
      "metadata": {
        "id": "tUI8RAyHYibQ",
        "colab_type": "code",
        "outputId": "036fb5bd-635e-40cc-e8f0-e069a49b8471",
        "colab": {
          "base_uri": "https://localhost:8080/",
          "height": 175
        }
      },
      "source": [
        "movies['score'].describe()"
      ],
      "execution_count": 0,
      "outputs": [
        {
          "output_type": "execute_result",
          "data": {
            "text/plain": [
              "count    6820.000000\n",
              "mean        6.374897\n",
              "std         1.003142\n",
              "min         1.500000\n",
              "25%         5.800000\n",
              "50%         6.400000\n",
              "75%         7.100000\n",
              "max         9.300000\n",
              "Name: score, dtype: float64"
            ]
          },
          "metadata": {
            "tags": []
          },
          "execution_count": 4
        }
      ]
    },
    {
      "cell_type": "code",
      "metadata": {
        "id": "x7z5gYRKj4G5",
        "colab_type": "code",
        "colab": {}
      },
      "source": [
        "# director track record, movies success by director\n",
        "# create new target based off of gross revenue and score\n",
        "# make sure to train on features that would come before the target"
      ],
      "execution_count": 0,
      "outputs": []
    },
    {
      "cell_type": "code",
      "metadata": {
        "id": "1TXs7NJDV4EE",
        "colab_type": "code",
        "outputId": "0072c1d7-a478-4fce-9be8-156932f254f8",
        "colab": {
          "base_uri": "https://localhost:8080/",
          "height": 175
        }
      },
      "source": [
        "movies['gross'].describe()"
      ],
      "execution_count": 0,
      "outputs": [
        {
          "output_type": "execute_result",
          "data": {
            "text/plain": [
              "count    6.820000e+03\n",
              "mean     3.349783e+07\n",
              "std      5.819760e+07\n",
              "min      7.000000e+01\n",
              "25%      1.515839e+06\n",
              "50%      1.213568e+07\n",
              "75%      4.006534e+07\n",
              "max      9.366622e+08\n",
              "Name: gross, dtype: float64"
            ]
          },
          "metadata": {
            "tags": []
          },
          "execution_count": 6
        }
      ]
    },
    {
      "cell_type": "code",
      "metadata": {
        "id": "NCAXucpdWXRs",
        "colab_type": "code",
        "colab": {}
      },
      "source": [
        "gross_rate = []\n",
        "for i in range(len(movies['gross'])):\n",
        "  if movies['gross'][i]<=1.515839e+06:\n",
        "    gross_rate.append(1)\n",
        "  elif movies['gross'][i]<=1.213568e+07 and movies['gross'][i]>1.515839e+06:\n",
        "    gross_rate.append(2)\n",
        "  elif movies['gross'][i]<=4.006534e+07 and movies['gross'][i]>1.213568e+07:\n",
        "    gross_rate.append(3)\n",
        "  else:\n",
        "    gross_rate.append(4)\n",
        "gross_rate = np.array(gross_rate)"
      ],
      "execution_count": 0,
      "outputs": []
    },
    {
      "cell_type": "code",
      "metadata": {
        "id": "cVyehKSqXQX2",
        "colab_type": "code",
        "outputId": "7eba01bc-cce0-4c13-e95b-c810c2662362",
        "colab": {
          "base_uri": "https://localhost:8080/",
          "height": 35
        }
      },
      "source": [
        "len(gross_rate)"
      ],
      "execution_count": 0,
      "outputs": [
        {
          "output_type": "execute_result",
          "data": {
            "text/plain": [
              "6820"
            ]
          },
          "metadata": {
            "tags": []
          },
          "execution_count": 8
        }
      ]
    },
    {
      "cell_type": "code",
      "metadata": {
        "id": "gKn-QKrzbtre",
        "colab_type": "code",
        "outputId": "e67363af-6b4a-46c5-92fd-827f44f2d5a8",
        "colab": {
          "base_uri": "https://localhost:8080/",
          "height": 35
        }
      },
      "source": [
        "type(gross_rate)"
      ],
      "execution_count": 0,
      "outputs": [
        {
          "output_type": "execute_result",
          "data": {
            "text/plain": [
              "numpy.ndarray"
            ]
          },
          "metadata": {
            "tags": []
          },
          "execution_count": 9
        }
      ]
    },
    {
      "cell_type": "code",
      "metadata": {
        "id": "TTyiJj-wYJHa",
        "colab_type": "code",
        "outputId": "bf77588b-243f-455d-9897-a43a933e217c",
        "colab": {
          "base_uri": "https://localhost:8080/",
          "height": 35
        }
      },
      "source": [
        "gross_rate[:10]"
      ],
      "execution_count": 0,
      "outputs": [
        {
          "output_type": "execute_result",
          "data": {
            "text/plain": [
              "array([4, 4, 4, 4, 3, 4, 3, 2, 4, 4])"
            ]
          },
          "metadata": {
            "tags": []
          },
          "execution_count": 10
        }
      ]
    },
    {
      "cell_type": "code",
      "metadata": {
        "id": "g5qYT10FaED4",
        "colab_type": "code",
        "outputId": "5ccf5801-3d33-47b9-e015-65e0fd87bdd9",
        "colab": {
          "base_uri": "https://localhost:8080/",
          "height": 211
        }
      },
      "source": [
        "movies['gross'].head(10)"
      ],
      "execution_count": 0,
      "outputs": [
        {
          "output_type": "execute_result",
          "data": {
            "text/plain": [
              "0     52287414.0\n",
              "1     70136369.0\n",
              "2    179800601.0\n",
              "3     85160248.0\n",
              "4     18564613.0\n",
              "5    138530565.0\n",
              "6     12729917.0\n",
              "7      8551228.0\n",
              "8     40471663.0\n",
              "9     40456565.0\n",
              "Name: gross, dtype: float64"
            ]
          },
          "metadata": {
            "tags": []
          },
          "execution_count": 11
        }
      ]
    },
    {
      "cell_type": "code",
      "metadata": {
        "id": "Y8qdxJwDXnQd",
        "colab_type": "code",
        "colab": {}
      },
      "source": [
        " score_rate = np.array([])\n",
        "for i in range(len(movies['score'])):\n",
        "  if movies['score'][i]<=2.5:\n",
        "    score_rate = np.append(score_rate, 1)\n",
        "  elif movies['score'][i]<=5 and movies['gross'][i]>2.5:\n",
        "    score_rate = np.append(score_rate, 2)\n",
        "  elif movies['score'][i]<=7.5 and movies['gross'][i]>5:\n",
        "    score_rate = np.append(score_rate, 3)\n",
        "  else:\n",
        "    score_rate = np.append(score_rate, 4)"
      ],
      "execution_count": 0,
      "outputs": []
    },
    {
      "cell_type": "code",
      "metadata": {
        "id": "mWEY3kF7ZiIf",
        "colab_type": "code",
        "outputId": "0c06e478-f8ee-4f75-e92b-b3fad9843bd9",
        "colab": {
          "base_uri": "https://localhost:8080/",
          "height": 35
        }
      },
      "source": [
        "len(score_rate)"
      ],
      "execution_count": 0,
      "outputs": [
        {
          "output_type": "execute_result",
          "data": {
            "text/plain": [
              "6820"
            ]
          },
          "metadata": {
            "tags": []
          },
          "execution_count": 13
        }
      ]
    },
    {
      "cell_type": "code",
      "metadata": {
        "id": "kYNMMbckZkXG",
        "colab_type": "code",
        "outputId": "99461391-a3cd-4879-c08a-f7f4e0013ea0",
        "colab": {
          "base_uri": "https://localhost:8080/",
          "height": 35
        }
      },
      "source": [
        "score_rate"
      ],
      "execution_count": 0,
      "outputs": [
        {
          "output_type": "execute_result",
          "data": {
            "text/plain": [
              "array([4., 4., 3., ..., 3., 3., 3.])"
            ]
          },
          "metadata": {
            "tags": []
          },
          "execution_count": 14
        }
      ]
    },
    {
      "cell_type": "code",
      "metadata": {
        "id": "gAbXTlJ9ZoLf",
        "colab_type": "code",
        "outputId": "31b7edb4-9175-42e3-8a5b-020cce00c0ae",
        "colab": {
          "base_uri": "https://localhost:8080/",
          "height": 211
        }
      },
      "source": [
        "movies['score'].head(10)"
      ],
      "execution_count": 0,
      "outputs": [
        {
          "output_type": "execute_result",
          "data": {
            "text/plain": [
              "0    8.1\n",
              "1    7.8\n",
              "2    6.9\n",
              "3    8.4\n",
              "4    6.9\n",
              "5    8.1\n",
              "6    7.4\n",
              "7    7.8\n",
              "8    6.8\n",
              "9    7.5\n",
              "Name: score, dtype: float64"
            ]
          },
          "metadata": {
            "tags": []
          },
          "execution_count": 15
        }
      ]
    },
    {
      "cell_type": "code",
      "metadata": {
        "id": "3lFGj1YBZq1A",
        "colab_type": "code",
        "outputId": "a4839aad-2ba8-4d86-f8cc-94e7f5536eda",
        "colab": {
          "base_uri": "https://localhost:8080/",
          "height": 35
        }
      },
      "source": [
        "rate = (gross_rate + score_rate)/2\n",
        "rate"
      ],
      "execution_count": 0,
      "outputs": [
        {
          "output_type": "execute_result",
          "data": {
            "text/plain": [
              "array([4. , 4. , 3.5, ..., 2.5, 2. , 2. ])"
            ]
          },
          "metadata": {
            "tags": []
          },
          "execution_count": 16
        }
      ]
    },
    {
      "cell_type": "code",
      "metadata": {
        "id": "ZEnaOM7caes2",
        "colab_type": "code",
        "outputId": "4faa6b7d-d4c5-470e-b099-28b1227741e6",
        "colab": {
          "base_uri": "https://localhost:8080/",
          "height": 158
        }
      },
      "source": [
        "movies['success_rate'] = rate\n",
        "movies['success_rate'].value_counts(normalize = True)"
      ],
      "execution_count": 0,
      "outputs": [
        {
          "output_type": "execute_result",
          "data": {
            "text/plain": [
              "2.5    0.247067\n",
              "3.0    0.243255\n",
              "2.0    0.229912\n",
              "3.5    0.215982\n",
              "4.0    0.039736\n",
              "1.5    0.023021\n",
              "1.0    0.001026\n",
              "Name: success_rate, dtype: float64"
            ]
          },
          "metadata": {
            "tags": []
          },
          "execution_count": 17
        }
      ]
    },
    {
      "cell_type": "code",
      "metadata": {
        "id": "iTxYfzpucC6D",
        "colab_type": "code",
        "outputId": "f7503fa2-8263-4b41-94ff-1cf2a4c74df2",
        "colab": {
          "base_uri": "https://localhost:8080/",
          "height": 35
        }
      },
      "source": [
        "movies['success_rate'].nunique()"
      ],
      "execution_count": 0,
      "outputs": [
        {
          "output_type": "execute_result",
          "data": {
            "text/plain": [
              "7"
            ]
          },
          "metadata": {
            "tags": []
          },
          "execution_count": 18
        }
      ]
    },
    {
      "cell_type": "markdown",
      "metadata": {
        "id": "2JPtyCGYqLxJ",
        "colab_type": "text"
      },
      "source": [
        "#Train, Val, Test Split \n",
        "(60,20,20)"
      ]
    },
    {
      "cell_type": "code",
      "metadata": {
        "id": "hgjcvyd1qPxz",
        "colab_type": "code",
        "colab": {}
      },
      "source": [
        "movies.sort_values(by = 'released', inplace = True)"
      ],
      "execution_count": 0,
      "outputs": []
    },
    {
      "cell_type": "code",
      "metadata": {
        "id": "ettXNKEXq8eh",
        "colab_type": "code",
        "outputId": "329fa78a-d0f9-4c71-fdac-e5c84c0dfc48",
        "colab": {
          "base_uri": "https://localhost:8080/"
        }
      },
      "source": [
        "movies.head()"
      ],
      "execution_count": 0,
      "outputs": [
        {
          "output_type": "execute_result",
          "data": {
            "text/html": [
              "<div>\n",
              "<style scoped>\n",
              "    .dataframe tbody tr th:only-of-type {\n",
              "        vertical-align: middle;\n",
              "    }\n",
              "\n",
              "    .dataframe tbody tr th {\n",
              "        vertical-align: top;\n",
              "    }\n",
              "\n",
              "    .dataframe thead th {\n",
              "        text-align: right;\n",
              "    }\n",
              "</style>\n",
              "<table border=\"1\" class=\"dataframe\">\n",
              "  <thead>\n",
              "    <tr style=\"text-align: right;\">\n",
              "      <th></th>\n",
              "      <th>budget</th>\n",
              "      <th>company</th>\n",
              "      <th>country</th>\n",
              "      <th>director</th>\n",
              "      <th>genre</th>\n",
              "      <th>gross</th>\n",
              "      <th>name</th>\n",
              "      <th>rating</th>\n",
              "      <th>released</th>\n",
              "      <th>runtime</th>\n",
              "      <th>score</th>\n",
              "      <th>star</th>\n",
              "      <th>votes</th>\n",
              "      <th>writer</th>\n",
              "      <th>year</th>\n",
              "      <th>success_rate</th>\n",
              "    </tr>\n",
              "  </thead>\n",
              "  <tbody>\n",
              "    <tr>\n",
              "      <th>96</th>\n",
              "      <td>0.0</td>\n",
              "      <td>New World Pictures</td>\n",
              "      <td>USA</td>\n",
              "      <td>Harley Cokeliss</td>\n",
              "      <td>Action</td>\n",
              "      <td>6637565.0</td>\n",
              "      <td>Black Moon Rising</td>\n",
              "      <td>R</td>\n",
              "      <td>1986-01-10</td>\n",
              "      <td>100</td>\n",
              "      <td>5.4</td>\n",
              "      <td>Tommy Lee Jones</td>\n",
              "      <td>4045</td>\n",
              "      <td>John Carpenter</td>\n",
              "      <td>1986</td>\n",
              "      <td>2.5</td>\n",
              "    </tr>\n",
              "    <tr>\n",
              "      <th>195</th>\n",
              "      <td>0.0</td>\n",
              "      <td>Longshot</td>\n",
              "      <td>USA</td>\n",
              "      <td>Paul Bartel</td>\n",
              "      <td>Comedy</td>\n",
              "      <td>1096843.0</td>\n",
              "      <td>The Longshot</td>\n",
              "      <td>PG-13</td>\n",
              "      <td>1986-01-17</td>\n",
              "      <td>89</td>\n",
              "      <td>5.4</td>\n",
              "      <td>Tim Conway</td>\n",
              "      <td>457</td>\n",
              "      <td>Tim Conway</td>\n",
              "      <td>1986</td>\n",
              "      <td>2.0</td>\n",
              "    </tr>\n",
              "    <tr>\n",
              "      <th>47</th>\n",
              "      <td>1100000.0</td>\n",
              "      <td>Empire Pictures</td>\n",
              "      <td>USA</td>\n",
              "      <td>John Carl Buechler</td>\n",
              "      <td>Comedy</td>\n",
              "      <td>5450815.0</td>\n",
              "      <td>Troll</td>\n",
              "      <td>PG-13</td>\n",
              "      <td>1986-01-17</td>\n",
              "      <td>82</td>\n",
              "      <td>4.3</td>\n",
              "      <td>Michael Moriarty</td>\n",
              "      <td>7569</td>\n",
              "      <td>Ed Naha</td>\n",
              "      <td>1986</td>\n",
              "      <td>2.0</td>\n",
              "    </tr>\n",
              "    <tr>\n",
              "      <th>27</th>\n",
              "      <td>0.0</td>\n",
              "      <td>TriStar Pictures</td>\n",
              "      <td>USA</td>\n",
              "      <td>Sidney J. Furie</td>\n",
              "      <td>Action</td>\n",
              "      <td>24159872.0</td>\n",
              "      <td>Iron Eagle</td>\n",
              "      <td>PG-13</td>\n",
              "      <td>1986-01-17</td>\n",
              "      <td>117</td>\n",
              "      <td>5.3</td>\n",
              "      <td>Louis Gossett Jr.</td>\n",
              "      <td>11304</td>\n",
              "      <td>Kevin Alyn Elders</td>\n",
              "      <td>1986</td>\n",
              "      <td>3.0</td>\n",
              "    </tr>\n",
              "    <tr>\n",
              "      <th>218</th>\n",
              "      <td>0.0</td>\n",
              "      <td>DIC Entertainment</td>\n",
              "      <td>Canada</td>\n",
              "      <td>Bruno Bianchi</td>\n",
              "      <td>Family</td>\n",
              "      <td>2193642.0</td>\n",
              "      <td>Heathcliff: The Movie</td>\n",
              "      <td>G</td>\n",
              "      <td>1986-01-17</td>\n",
              "      <td>73</td>\n",
              "      <td>5.3</td>\n",
              "      <td>Mel Blanc</td>\n",
              "      <td>187</td>\n",
              "      <td>George Gately</td>\n",
              "      <td>1986</td>\n",
              "      <td>2.5</td>\n",
              "    </tr>\n",
              "  </tbody>\n",
              "</table>\n",
              "</div>"
            ],
            "text/plain": [
              "        budget             company  ...  year success_rate\n",
              "96         0.0  New World Pictures  ...  1986          2.5\n",
              "195        0.0            Longshot  ...  1986          2.0\n",
              "47   1100000.0     Empire Pictures  ...  1986          2.0\n",
              "27         0.0    TriStar Pictures  ...  1986          3.0\n",
              "218        0.0   DIC Entertainment  ...  1986          2.5\n",
              "\n",
              "[5 rows x 16 columns]"
            ]
          },
          "metadata": {
            "tags": []
          },
          "execution_count": 20
        }
      ]
    },
    {
      "cell_type": "code",
      "metadata": {
        "id": "io8aEn4IsA_F",
        "colab_type": "code",
        "colab": {}
      },
      "source": [
        "movies.reset_index(inplace = True, drop  = True)"
      ],
      "execution_count": 0,
      "outputs": []
    },
    {
      "cell_type": "code",
      "metadata": {
        "id": "rAcahlb0sQjw",
        "colab_type": "code",
        "outputId": "06d92ded-8335-42ef-a38f-17dd9d4dcd30",
        "colab": {
          "base_uri": "https://localhost:8080/"
        }
      },
      "source": [
        "movies.head()"
      ],
      "execution_count": 0,
      "outputs": [
        {
          "output_type": "execute_result",
          "data": {
            "text/html": [
              "<div>\n",
              "<style scoped>\n",
              "    .dataframe tbody tr th:only-of-type {\n",
              "        vertical-align: middle;\n",
              "    }\n",
              "\n",
              "    .dataframe tbody tr th {\n",
              "        vertical-align: top;\n",
              "    }\n",
              "\n",
              "    .dataframe thead th {\n",
              "        text-align: right;\n",
              "    }\n",
              "</style>\n",
              "<table border=\"1\" class=\"dataframe\">\n",
              "  <thead>\n",
              "    <tr style=\"text-align: right;\">\n",
              "      <th></th>\n",
              "      <th>budget</th>\n",
              "      <th>company</th>\n",
              "      <th>country</th>\n",
              "      <th>director</th>\n",
              "      <th>genre</th>\n",
              "      <th>gross</th>\n",
              "      <th>name</th>\n",
              "      <th>rating</th>\n",
              "      <th>released</th>\n",
              "      <th>runtime</th>\n",
              "      <th>score</th>\n",
              "      <th>star</th>\n",
              "      <th>votes</th>\n",
              "      <th>writer</th>\n",
              "      <th>year</th>\n",
              "      <th>success_rate</th>\n",
              "    </tr>\n",
              "  </thead>\n",
              "  <tbody>\n",
              "    <tr>\n",
              "      <th>0</th>\n",
              "      <td>0.0</td>\n",
              "      <td>New World Pictures</td>\n",
              "      <td>USA</td>\n",
              "      <td>Harley Cokeliss</td>\n",
              "      <td>Action</td>\n",
              "      <td>6637565.0</td>\n",
              "      <td>Black Moon Rising</td>\n",
              "      <td>R</td>\n",
              "      <td>1986-01-10</td>\n",
              "      <td>100</td>\n",
              "      <td>5.4</td>\n",
              "      <td>Tommy Lee Jones</td>\n",
              "      <td>4045</td>\n",
              "      <td>John Carpenter</td>\n",
              "      <td>1986</td>\n",
              "      <td>2.5</td>\n",
              "    </tr>\n",
              "    <tr>\n",
              "      <th>1</th>\n",
              "      <td>0.0</td>\n",
              "      <td>Longshot</td>\n",
              "      <td>USA</td>\n",
              "      <td>Paul Bartel</td>\n",
              "      <td>Comedy</td>\n",
              "      <td>1096843.0</td>\n",
              "      <td>The Longshot</td>\n",
              "      <td>PG-13</td>\n",
              "      <td>1986-01-17</td>\n",
              "      <td>89</td>\n",
              "      <td>5.4</td>\n",
              "      <td>Tim Conway</td>\n",
              "      <td>457</td>\n",
              "      <td>Tim Conway</td>\n",
              "      <td>1986</td>\n",
              "      <td>2.0</td>\n",
              "    </tr>\n",
              "    <tr>\n",
              "      <th>2</th>\n",
              "      <td>1100000.0</td>\n",
              "      <td>Empire Pictures</td>\n",
              "      <td>USA</td>\n",
              "      <td>John Carl Buechler</td>\n",
              "      <td>Comedy</td>\n",
              "      <td>5450815.0</td>\n",
              "      <td>Troll</td>\n",
              "      <td>PG-13</td>\n",
              "      <td>1986-01-17</td>\n",
              "      <td>82</td>\n",
              "      <td>4.3</td>\n",
              "      <td>Michael Moriarty</td>\n",
              "      <td>7569</td>\n",
              "      <td>Ed Naha</td>\n",
              "      <td>1986</td>\n",
              "      <td>2.0</td>\n",
              "    </tr>\n",
              "    <tr>\n",
              "      <th>3</th>\n",
              "      <td>0.0</td>\n",
              "      <td>TriStar Pictures</td>\n",
              "      <td>USA</td>\n",
              "      <td>Sidney J. Furie</td>\n",
              "      <td>Action</td>\n",
              "      <td>24159872.0</td>\n",
              "      <td>Iron Eagle</td>\n",
              "      <td>PG-13</td>\n",
              "      <td>1986-01-17</td>\n",
              "      <td>117</td>\n",
              "      <td>5.3</td>\n",
              "      <td>Louis Gossett Jr.</td>\n",
              "      <td>11304</td>\n",
              "      <td>Kevin Alyn Elders</td>\n",
              "      <td>1986</td>\n",
              "      <td>3.0</td>\n",
              "    </tr>\n",
              "    <tr>\n",
              "      <th>4</th>\n",
              "      <td>0.0</td>\n",
              "      <td>DIC Entertainment</td>\n",
              "      <td>Canada</td>\n",
              "      <td>Bruno Bianchi</td>\n",
              "      <td>Family</td>\n",
              "      <td>2193642.0</td>\n",
              "      <td>Heathcliff: The Movie</td>\n",
              "      <td>G</td>\n",
              "      <td>1986-01-17</td>\n",
              "      <td>73</td>\n",
              "      <td>5.3</td>\n",
              "      <td>Mel Blanc</td>\n",
              "      <td>187</td>\n",
              "      <td>George Gately</td>\n",
              "      <td>1986</td>\n",
              "      <td>2.5</td>\n",
              "    </tr>\n",
              "  </tbody>\n",
              "</table>\n",
              "</div>"
            ],
            "text/plain": [
              "      budget             company country  ...             writer  year  success_rate\n",
              "0        0.0  New World Pictures     USA  ...     John Carpenter  1986           2.5\n",
              "1        0.0            Longshot     USA  ...         Tim Conway  1986           2.0\n",
              "2  1100000.0     Empire Pictures     USA  ...            Ed Naha  1986           2.0\n",
              "3        0.0    TriStar Pictures     USA  ...  Kevin Alyn Elders  1986           3.0\n",
              "4        0.0   DIC Entertainment  Canada  ...      George Gately  1986           2.5\n",
              "\n",
              "[5 rows x 16 columns]"
            ]
          },
          "metadata": {
            "tags": []
          },
          "execution_count": 22
        }
      ]
    },
    {
      "cell_type": "code",
      "metadata": {
        "id": "lA5LYRIGsVDi",
        "colab_type": "code",
        "outputId": "d9e3177f-b277-4765-8721-b07e2d7b9588",
        "colab": {
          "base_uri": "https://localhost:8080/"
        }
      },
      "source": [
        "no_budg = movies[movies['budget']==0]\n",
        "no_budg.shape"
      ],
      "execution_count": 0,
      "outputs": [
        {
          "output_type": "execute_result",
          "data": {
            "text/plain": [
              "(2182, 16)"
            ]
          },
          "metadata": {
            "tags": []
          },
          "execution_count": 23
        }
      ]
    },
    {
      "cell_type": "code",
      "metadata": {
        "id": "7yxK6n4sS5e-",
        "colab_type": "code",
        "colab": {}
      },
      "source": [
        "# set end year for training data set\n",
        "train_lim = movies['year'].min()+19\n",
        "\n",
        "# set beginning year for test data\n",
        "test_lim = movies['year'].max()-4"
      ],
      "execution_count": 0,
      "outputs": []
    },
    {
      "cell_type": "code",
      "metadata": {
        "id": "gYnoNdHxTqgZ",
        "colab_type": "code",
        "colab": {}
      },
      "source": [
        "# movies in years less than training end year\n",
        "train = movies[movies['year']<= train_lim]\n",
        "\n",
        "# all movies in years greater than training end year\n",
        "val_temp = movies[movies['year'] > train_lim]\n",
        "\n",
        "# movies in years less than test year and greater than training end year\n",
        "val = val_temp[val_temp['year'] < test_lim]\n",
        "\n",
        "# movies in years greater than test year\n",
        "test = movies[movies['year']>=test_lim]"
      ],
      "execution_count": 0,
      "outputs": []
    },
    {
      "cell_type": "code",
      "metadata": {
        "id": "j_3sTohPZSUY",
        "colab_type": "code",
        "outputId": "5e7f0470-0a51-4e0b-c05b-76e190ab2c6c",
        "colab": {
          "base_uri": "https://localhost:8080/"
        }
      },
      "source": [
        "train.shape, val.shape, test.shape"
      ],
      "execution_count": 0,
      "outputs": [
        {
          "output_type": "execute_result",
          "data": {
            "text/plain": [
              "((4400, 16), (1320, 16), (1100, 16))"
            ]
          },
          "metadata": {
            "tags": []
          },
          "execution_count": 26
        }
      ]
    },
    {
      "cell_type": "code",
      "metadata": {
        "id": "y2kzIO4Kt3MB",
        "colab_type": "code",
        "outputId": "54505ab5-5d0a-436d-8f81-84879b54e7fe",
        "colab": {
          "base_uri": "https://localhost:8080/"
        }
      },
      "source": [
        "movies['success_rate'].value_counts(normalize=True)"
      ],
      "execution_count": 0,
      "outputs": [
        {
          "output_type": "execute_result",
          "data": {
            "text/plain": [
              "2.5    0.247067\n",
              "3.0    0.243255\n",
              "2.0    0.229912\n",
              "3.5    0.215982\n",
              "4.0    0.039736\n",
              "1.5    0.023021\n",
              "1.0    0.001026\n",
              "Name: success_rate, dtype: float64"
            ]
          },
          "metadata": {
            "tags": []
          },
          "execution_count": 27
        }
      ]
    },
    {
      "cell_type": "markdown",
      "metadata": {
        "id": "T6ChzwtKRhMr",
        "colab_type": "text"
      },
      "source": [
        "#Assignment 1 - Wrangle ML Dataset"
      ]
    },
    {
      "cell_type": "markdown",
      "metadata": {
        "id": "eVrO-CAuTKNh",
        "colab_type": "text"
      },
      "source": [
        "##Baseline"
      ]
    },
    {
      "cell_type": "code",
      "metadata": {
        "id": "alFE0uBAmY12",
        "colab_type": "code",
        "outputId": "acc1675f-33b7-4a66-8422-5844392d5a13",
        "colab": {
          "base_uri": "https://localhost:8080/",
          "height": 35
        }
      },
      "source": [
        "from sklearn.metrics import mean_absolute_error\n",
        "\n",
        "train['gross'].mean()\n",
        "\n",
        "y_train = train['gross']\n",
        "y_test = test['gross']\n",
        "base_guess = y_train.mean()\n",
        "\n",
        "\n",
        "# test error\n",
        "y_base_pred = [base_guess] * len(y_test)\n",
        "mae_test = mean_absolute_error(y_test, y_base_pred)\n",
        "\n",
        "print(f'Mean Absolute Error: ${mae_test:,.2f}')"
      ],
      "execution_count": 0,
      "outputs": [
        {
          "output_type": "stream",
          "text": [
            "Mean Absolute Error: $45,726,662.13\n"
          ],
          "name": "stdout"
        }
      ]
    },
    {
      "cell_type": "markdown",
      "metadata": {
        "id": "89UwrgFuRl1m",
        "colab_type": "text"
      },
      "source": [
        "##Basic Model"
      ]
    },
    {
      "cell_type": "code",
      "metadata": {
        "id": "qnN9_PphPXyg",
        "colab_type": "code",
        "colab": {}
      },
      "source": [
        "# set target\n",
        "target = 'gross'\n",
        "\n",
        "# set features\n",
        "features = ['budget', 'genre', 'rating', 'year']\n",
        "\n",
        "# set X matrices and y vectors\n",
        "X_train = train[features]\n",
        "y_train = train[target]\n",
        "\n",
        "X_val = val[features]\n",
        "y_val = val[target]\n",
        "\n",
        "X_test = test[features]\n",
        "y_test = test[target]"
      ],
      "execution_count": 0,
      "outputs": []
    },
    {
      "cell_type": "code",
      "metadata": {
        "id": "eCUabvivajGP",
        "colab_type": "code",
        "outputId": "94b705dd-06b4-4ed9-b750-2b344246272d",
        "colab": {
          "base_uri": "https://localhost:8080/",
          "height": 281
        }
      },
      "source": [
        "!pip install category_encoders==2.*"
      ],
      "execution_count": 0,
      "outputs": [
        {
          "output_type": "stream",
          "text": [
            "Collecting category_encoders==2.*\n",
            "\u001b[?25l  Downloading https://files.pythonhosted.org/packages/a0/52/c54191ad3782de633ea3d6ee3bb2837bda0cf3bc97644bb6375cf14150a0/category_encoders-2.1.0-py2.py3-none-any.whl (100kB)\n",
            "\u001b[K     |████████████████████████████████| 102kB 2.2MB/s \n",
            "\u001b[?25hRequirement already satisfied: scikit-learn>=0.20.0 in /usr/local/lib/python3.6/dist-packages (from category_encoders==2.*) (0.22.1)\n",
            "Requirement already satisfied: scipy>=0.19.0 in /usr/local/lib/python3.6/dist-packages (from category_encoders==2.*) (1.4.1)\n",
            "Requirement already satisfied: statsmodels>=0.6.1 in /usr/local/lib/python3.6/dist-packages (from category_encoders==2.*) (0.10.2)\n",
            "Requirement already satisfied: patsy>=0.4.1 in /usr/local/lib/python3.6/dist-packages (from category_encoders==2.*) (0.5.1)\n",
            "Requirement already satisfied: numpy>=1.11.3 in /usr/local/lib/python3.6/dist-packages (from category_encoders==2.*) (1.17.5)\n",
            "Requirement already satisfied: pandas>=0.21.1 in /usr/local/lib/python3.6/dist-packages (from category_encoders==2.*) (0.25.3)\n",
            "Requirement already satisfied: joblib>=0.11 in /usr/local/lib/python3.6/dist-packages (from scikit-learn>=0.20.0->category_encoders==2.*) (0.14.1)\n",
            "Requirement already satisfied: six in /usr/local/lib/python3.6/dist-packages (from patsy>=0.4.1->category_encoders==2.*) (1.12.0)\n",
            "Requirement already satisfied: python-dateutil>=2.6.1 in /usr/local/lib/python3.6/dist-packages (from pandas>=0.21.1->category_encoders==2.*) (2.6.1)\n",
            "Requirement already satisfied: pytz>=2017.2 in /usr/local/lib/python3.6/dist-packages (from pandas>=0.21.1->category_encoders==2.*) (2018.9)\n",
            "Installing collected packages: category-encoders\n",
            "Successfully installed category-encoders-2.1.0\n"
          ],
          "name": "stdout"
        }
      ]
    },
    {
      "cell_type": "code",
      "metadata": {
        "id": "SH6g8rZroQjR",
        "colab_type": "code",
        "outputId": "1b0e6509-d0c0-4574-c619-c6ded16612a1",
        "colab": {
          "base_uri": "https://localhost:8080/",
          "height": 203
        }
      },
      "source": [
        "X_train.head()"
      ],
      "execution_count": 0,
      "outputs": [
        {
          "output_type": "execute_result",
          "data": {
            "text/html": [
              "<div>\n",
              "<style scoped>\n",
              "    .dataframe tbody tr th:only-of-type {\n",
              "        vertical-align: middle;\n",
              "    }\n",
              "\n",
              "    .dataframe tbody tr th {\n",
              "        vertical-align: top;\n",
              "    }\n",
              "\n",
              "    .dataframe thead th {\n",
              "        text-align: right;\n",
              "    }\n",
              "</style>\n",
              "<table border=\"1\" class=\"dataframe\">\n",
              "  <thead>\n",
              "    <tr style=\"text-align: right;\">\n",
              "      <th></th>\n",
              "      <th>budget</th>\n",
              "      <th>genre</th>\n",
              "      <th>rating</th>\n",
              "      <th>year</th>\n",
              "    </tr>\n",
              "  </thead>\n",
              "  <tbody>\n",
              "    <tr>\n",
              "      <th>0</th>\n",
              "      <td>0.0</td>\n",
              "      <td>Action</td>\n",
              "      <td>R</td>\n",
              "      <td>1986</td>\n",
              "    </tr>\n",
              "    <tr>\n",
              "      <th>1</th>\n",
              "      <td>0.0</td>\n",
              "      <td>Comedy</td>\n",
              "      <td>PG-13</td>\n",
              "      <td>1986</td>\n",
              "    </tr>\n",
              "    <tr>\n",
              "      <th>2</th>\n",
              "      <td>1100000.0</td>\n",
              "      <td>Comedy</td>\n",
              "      <td>PG-13</td>\n",
              "      <td>1986</td>\n",
              "    </tr>\n",
              "    <tr>\n",
              "      <th>3</th>\n",
              "      <td>0.0</td>\n",
              "      <td>Action</td>\n",
              "      <td>PG-13</td>\n",
              "      <td>1986</td>\n",
              "    </tr>\n",
              "    <tr>\n",
              "      <th>4</th>\n",
              "      <td>0.0</td>\n",
              "      <td>Family</td>\n",
              "      <td>G</td>\n",
              "      <td>1986</td>\n",
              "    </tr>\n",
              "  </tbody>\n",
              "</table>\n",
              "</div>"
            ],
            "text/plain": [
              "      budget   genre rating  year\n",
              "0        0.0  Action      R  1986\n",
              "1        0.0  Comedy  PG-13  1986\n",
              "2  1100000.0  Comedy  PG-13  1986\n",
              "3        0.0  Action  PG-13  1986\n",
              "4        0.0  Family      G  1986"
            ]
          },
          "metadata": {
            "tags": []
          },
          "execution_count": 31
        }
      ]
    },
    {
      "cell_type": "code",
      "metadata": {
        "id": "-iBuVYp4SXEE",
        "colab_type": "code",
        "outputId": "382e056c-aee3-42b9-dd88-53320d2404ed",
        "colab": {
          "base_uri": "https://localhost:8080/",
          "height": 52
        }
      },
      "source": [
        "import category_encoders as ce\n",
        "from sklearn.impute import SimpleImputer\n",
        "from sklearn.preprocessing import StandardScaler\n",
        "from sklearn.linear_model import LinearRegression\n",
        "from sklearn.metrics import mean_absolute_error\n",
        "from sklearn.pipeline import make_pipeline\n",
        "# from math import sqrt\n",
        "\n",
        "pipeline = make_pipeline(\n",
        "    ce.OrdinalEncoder(),\n",
        "    # SimpleImputer(strategy = 'mean'),\n",
        "    StandardScaler(),\n",
        "    LinearRegression()\n",
        ")\n",
        "\n",
        "# Fit on training set\n",
        "pipeline.fit(X_train, y_train)\n",
        "\n",
        "# make predictions\n",
        "y_pred = pipeline.predict(X_test)\n",
        "\n",
        "# test mean absolute error\n",
        "mae = mean_absolute_error(y_test, y_pred)\n",
        "print(f'Test Mean Absolute Error: {mae:,.2f}')\n",
        "pipeline.score(X_val, y_val)"
      ],
      "execution_count": 0,
      "outputs": [
        {
          "output_type": "stream",
          "text": [
            "Test Mean Absolute Error: 28,700,487.17\n"
          ],
          "name": "stdout"
        },
        {
          "output_type": "execute_result",
          "data": {
            "text/plain": [
              "0.5601884006563442"
            ]
          },
          "metadata": {
            "tags": []
          },
          "execution_count": 32
        }
      ]
    },
    {
      "cell_type": "markdown",
      "metadata": {
        "colab_type": "text",
        "id": "ANl4_zpDw0GK"
      },
      "source": [
        "#Assignment 2 - Permutation and Boosting"
      ]
    },
    {
      "cell_type": "markdown",
      "metadata": {
        "colab_type": "text",
        "id": "iQ6OuDH2w0GH"
      },
      "source": [
        "##Model"
      ]
    },
    {
      "cell_type": "code",
      "metadata": {
        "colab_type": "code",
        "id": "QMDZMQLHw0F9",
        "colab": {}
      },
      "source": [
        "# set target\n",
        "target = 'gross'\n",
        "\n",
        "# set features\n",
        "train_feats = train.drop(columns=[target, 'success_rate'])\n",
        "\n",
        "# numeric columns\n",
        "numeric_features = train_feats.select_dtypes(include='number').columns.tolist()\n",
        "\n",
        "# Get a list of all categorical features with cardinality <= 21\n",
        "cardinality = train_feats.select_dtypes(exclude='number').nunique()\n",
        "categorical_features = cardinality[cardinality <= 21].index.tolist()\n",
        "\n",
        "features = features = numeric_features + categorical_features\n",
        "\n",
        "# set X matrices and y vectors\n",
        "X_train = train[features]\n",
        "y_train = train[target]\n",
        "\n",
        "X_val = val[features]\n",
        "y_val = val[target]\n",
        "\n",
        "X_test = test[features]\n",
        "y_test = test[target]"
      ],
      "execution_count": 0,
      "outputs": []
    },
    {
      "cell_type": "code",
      "metadata": {
        "colab_type": "code",
        "outputId": "f591233e-bc99-4763-805c-11342d5836f1",
        "id": "mPhsodt0w0F0",
        "colab": {
          "base_uri": "https://localhost:8080/",
          "height": 227
        }
      },
      "source": [
        "# Get feature importances\n",
        "rf = pipeline.named_steps['randomforestregressor']\n",
        "importances = pd.Series(rf.feature_importances_, X_train.columns)\n",
        "\n",
        "# Plot feature importances\n",
        "%matplotlib inline\n",
        "import matplotlib.pyplot as plt\n",
        "\n",
        "n = 6\n",
        "plt.figure(figsize=(10,n/2))\n",
        "plt.title(f'Top {n} Features Without Gradient Boosting')\n",
        "importances.sort_values()[-n:].plot.barh(color='red');"
      ],
      "execution_count": 0,
      "outputs": [
        {
          "output_type": "display_data",
          "data": {
            "image/png": "[encoded data removed]",
            "text/plain": [
              "<Figure size 720x216 with 1 Axes>"
            ]
          },
          "metadata": {
            "tags": []
          }
        }
      ]
    },
    {
      "cell_type": "code",
      "metadata": {
        "id": "K9Mp37LnBOaO",
        "colab_type": "code",
        "outputId": "81908f8b-85b4-4ca7-da51-d0202f7e96f3",
        "colab": {
          "base_uri": "https://localhost:8080/",
          "height": 35
        }
      },
      "source": [
        "from xgboost import XGBRegressor\n",
        "\n",
        "# get rid of the warning\n",
        "import warnings\n",
        "warnings.simplefilter(action='ignore', category=FutureWarning)\n",
        "\n",
        "gbpipeline = make_pipeline(\n",
        "    ce.OrdinalEncoder(), \n",
        "    XGBRegressor(n_estimators=200, objective='reg:squarederror', n_jobs=-1)\n",
        ")\n",
        "\n",
        "gbpipeline.fit(X_train, y_train)\n",
        "y_pred = gbpipeline.predict(X_val)\n",
        "\n",
        "# MAE\n",
        "from sklearn.metrics import mean_absolute_error\n",
        "y_pred = gbpipeline.predict(X_val)\n",
        "print(f'MAE: ${mean_absolute_error(y_val, y_pred):,.0f}')"
      ],
      "execution_count": 0,
      "outputs": [
        {
          "output_type": "stream",
          "text": [
            "MAE: $21,285,172\n"
          ],
          "name": "stdout"
        }
      ]
    },
    {
      "cell_type": "code",
      "metadata": {
        "id": "6WMV8yWTB1QU",
        "colab_type": "code",
        "outputId": "79f15c66-cf1b-42f4-89bd-4d66a70863cc",
        "colab": {
          "base_uri": "https://localhost:8080/",
          "height": 227
        }
      },
      "source": [
        "# Get feature importances\n",
        "rf = gbpipeline.named_steps['xgbregressor']\n",
        "importances = pd.Series(rf.feature_importances_, X_train.columns)\n",
        "\n",
        "# Plot feature importances\n",
        "%matplotlib inline\n",
        "import matplotlib.pyplot as plt\n",
        "\n",
        "n = 6\n",
        "plt.figure(figsize=(10,n/2))\n",
        "plt.title(f'Top {n} features with Gradient Boosting')\n",
        "importances.sort_values()[-n:].plot.barh(color='blue');\n",
        "\n"
      ],
      "execution_count": 0,
      "outputs": [
        {
          "output_type": "display_data",
          "data": {
            "image/png": "[encoded data removed]",
            "text/plain": [
              "<Figure size 720x216 with 1 Axes>"
            ]
          },
          "metadata": {
            "tags": []
          }
        }
      ]
    }
  ]
}