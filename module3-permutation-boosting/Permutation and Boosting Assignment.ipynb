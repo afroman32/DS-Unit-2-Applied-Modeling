{
  "nbformat": 4,
  "nbformat_minor": 0,
  "metadata": {
    "colab": {
      "name": "Unit 2 Build",
      "provenance": [],
      "machine_shape": "hm",
      "authorship_tag": "ABX9TyPoDcDYxumctPxuRAtqYHNR",
      "include_colab_link": true
    },
    "kernelspec": {
      "name": "python3",
      "display_name": "Python 3"
    }
  },
  "cells": [
    {
      "cell_type": "markdown",
      "metadata": {
        "id": "view-in-github",
        "colab_type": "text"
      },
      "source": [
        "<a href=\"https://colab.research.google.com/github/afroman32/DS-Unit-2-Applied-Modeling/blob/master/module3-permutation-boosting/Permutation%20and%20Boosting%20Assignment.ipynb\" target=\"_parent\"><img src=\"https://colab.research.google.com/assets/colab-badge.svg\" alt=\"Open In Colab\"/></a>"
      ]
    },
    {
      "cell_type": "code",
      "metadata": {
        "id": "T8pYMPqoR9t5",
        "colab_type": "code",
        "colab": {}
      },
      "source": [
        "import pandas as pd\n",
        "import numpy as np"
      ],
      "execution_count": 0,
      "outputs": []
    },
    {
      "cell_type": "code",
      "metadata": {
        "id": "9MXAu5rkXlN1",
        "colab_type": "code",
        "colab": {}
      },
      "source": [
        "movies = pd.read_csv('https://raw.githubusercontent.com/afroman32/Unit-2-Build/master/movies.csv',\n",
        "                     encoding = \"ISO-8859-1\")"
      ],
      "execution_count": 0,
      "outputs": []
    },
    {
      "cell_type": "code",
      "metadata": {
        "id": "5t6fHwEaXu_J",
        "colab_type": "code",
        "outputId": "4f9bcec1-b6cf-46a9-9dc1-70d9cd133a4c",
        "colab": {
          "base_uri": "https://localhost:8080/",
          "height": 306
        }
      },
      "source": [
        "print(movies.shape)\n",
        "movies.head()"
      ],
      "execution_count": 3,
      "outputs": [
        {
          "output_type": "stream",
          "text": [
            "(6820, 15)\n"
          ],
          "name": "stdout"
        },
        {
          "output_type": "execute_result",
          "data": {
            "text/html": [
              "<div>\n",
              "<style scoped>\n",
              "    .dataframe tbody tr th:only-of-type {\n",
              "        vertical-align: middle;\n",
              "    }\n",
              "\n",
              "    .dataframe tbody tr th {\n",
              "        vertical-align: top;\n",
              "    }\n",
              "\n",
              "    .dataframe thead th {\n",
              "        text-align: right;\n",
              "    }\n",
              "</style>\n",
              "<table border=\"1\" class=\"dataframe\">\n",
              "  <thead>\n",
              "    <tr style=\"text-align: right;\">\n",
              "      <th></th>\n",
              "      <th>budget</th>\n",
              "      <th>company</th>\n",
              "      <th>country</th>\n",
              "      <th>director</th>\n",
              "      <th>genre</th>\n",
              "      <th>gross</th>\n",
              "      <th>name</th>\n",
              "      <th>rating</th>\n",
              "      <th>released</th>\n",
              "      <th>runtime</th>\n",
              "      <th>score</th>\n",
              "      <th>star</th>\n",
              "      <th>votes</th>\n",
              "      <th>writer</th>\n",
              "      <th>year</th>\n",
              "    </tr>\n",
              "  </thead>\n",
              "  <tbody>\n",
              "    <tr>\n",
              "      <th>0</th>\n",
              "      <td>8000000.0</td>\n",
              "      <td>Columbia Pictures Corporation</td>\n",
              "      <td>USA</td>\n",
              "      <td>Rob Reiner</td>\n",
              "      <td>Adventure</td>\n",
              "      <td>52287414.0</td>\n",
              "      <td>Stand by Me</td>\n",
              "      <td>R</td>\n",
              "      <td>1986-08-22</td>\n",
              "      <td>89</td>\n",
              "      <td>8.1</td>\n",
              "      <td>Wil Wheaton</td>\n",
              "      <td>299174</td>\n",
              "      <td>Stephen King</td>\n",
              "      <td>1986</td>\n",
              "    </tr>\n",
              "    <tr>\n",
              "      <th>1</th>\n",
              "      <td>6000000.0</td>\n",
              "      <td>Paramount Pictures</td>\n",
              "      <td>USA</td>\n",
              "      <td>John Hughes</td>\n",
              "      <td>Comedy</td>\n",
              "      <td>70136369.0</td>\n",
              "      <td>Ferris Bueller's Day Off</td>\n",
              "      <td>PG-13</td>\n",
              "      <td>1986-06-11</td>\n",
              "      <td>103</td>\n",
              "      <td>7.8</td>\n",
              "      <td>Matthew Broderick</td>\n",
              "      <td>264740</td>\n",
              "      <td>John Hughes</td>\n",
              "      <td>1986</td>\n",
              "    </tr>\n",
              "    <tr>\n",
              "      <th>2</th>\n",
              "      <td>15000000.0</td>\n",
              "      <td>Paramount Pictures</td>\n",
              "      <td>USA</td>\n",
              "      <td>Tony Scott</td>\n",
              "      <td>Action</td>\n",
              "      <td>179800601.0</td>\n",
              "      <td>Top Gun</td>\n",
              "      <td>PG</td>\n",
              "      <td>1986-05-16</td>\n",
              "      <td>110</td>\n",
              "      <td>6.9</td>\n",
              "      <td>Tom Cruise</td>\n",
              "      <td>236909</td>\n",
              "      <td>Jim Cash</td>\n",
              "      <td>1986</td>\n",
              "    </tr>\n",
              "    <tr>\n",
              "      <th>3</th>\n",
              "      <td>18500000.0</td>\n",
              "      <td>Twentieth Century Fox Film Corporation</td>\n",
              "      <td>USA</td>\n",
              "      <td>James Cameron</td>\n",
              "      <td>Action</td>\n",
              "      <td>85160248.0</td>\n",
              "      <td>Aliens</td>\n",
              "      <td>R</td>\n",
              "      <td>1986-07-18</td>\n",
              "      <td>137</td>\n",
              "      <td>8.4</td>\n",
              "      <td>Sigourney Weaver</td>\n",
              "      <td>540152</td>\n",
              "      <td>James Cameron</td>\n",
              "      <td>1986</td>\n",
              "    </tr>\n",
              "    <tr>\n",
              "      <th>4</th>\n",
              "      <td>9000000.0</td>\n",
              "      <td>Walt Disney Pictures</td>\n",
              "      <td>USA</td>\n",
              "      <td>Randal Kleiser</td>\n",
              "      <td>Adventure</td>\n",
              "      <td>18564613.0</td>\n",
              "      <td>Flight of the Navigator</td>\n",
              "      <td>PG</td>\n",
              "      <td>1986-08-01</td>\n",
              "      <td>90</td>\n",
              "      <td>6.9</td>\n",
              "      <td>Joey Cramer</td>\n",
              "      <td>36636</td>\n",
              "      <td>Mark H. Baker</td>\n",
              "      <td>1986</td>\n",
              "    </tr>\n",
              "  </tbody>\n",
              "</table>\n",
              "</div>"
            ],
            "text/plain": [
              "       budget                                 company  ...         writer  year\n",
              "0   8000000.0           Columbia Pictures Corporation  ...   Stephen King  1986\n",
              "1   6000000.0                      Paramount Pictures  ...    John Hughes  1986\n",
              "2  15000000.0                      Paramount Pictures  ...       Jim Cash  1986\n",
              "3  18500000.0  Twentieth Century Fox Film Corporation  ...  James Cameron  1986\n",
              "4   9000000.0                    Walt Disney Pictures  ...  Mark H. Baker  1986\n",
              "\n",
              "[5 rows x 15 columns]"
            ]
          },
          "metadata": {
            "tags": []
          },
          "execution_count": 3
        }
      ]
    },
    {
      "cell_type": "code",
      "metadata": {
        "id": "tUI8RAyHYibQ",
        "colab_type": "code",
        "outputId": "95da9956-a3ce-4f22-a253-6b991a02b2aa",
        "colab": {
          "base_uri": "https://localhost:8080/",
          "height": 175
        }
      },
      "source": [
        "movies['score'].describe()"
      ],
      "execution_count": 4,
      "outputs": [
        {
          "output_type": "execute_result",
          "data": {
            "text/plain": [
              "count    6820.000000\n",
              "mean        6.374897\n",
              "std         1.003142\n",
              "min         1.500000\n",
              "25%         5.800000\n",
              "50%         6.400000\n",
              "75%         7.100000\n",
              "max         9.300000\n",
              "Name: score, dtype: float64"
            ]
          },
          "metadata": {
            "tags": []
          },
          "execution_count": 4
        }
      ]
    },
    {
      "cell_type": "code",
      "metadata": {
        "id": "x7z5gYRKj4G5",
        "colab_type": "code",
        "colab": {}
      },
      "source": [
        "# director track record, movies success by director\n",
        "# create new target based off of gross revenue and score\n",
        "# make sure to train on features that would come before the target"
      ],
      "execution_count": 0,
      "outputs": []
    },
    {
      "cell_type": "code",
      "metadata": {
        "id": "1TXs7NJDV4EE",
        "colab_type": "code",
        "outputId": "364b9e4d-3f7a-42af-863b-6f8cc12f6ce3",
        "colab": {
          "base_uri": "https://localhost:8080/",
          "height": 175
        }
      },
      "source": [
        "movies['gross'].describe()"
      ],
      "execution_count": 6,
      "outputs": [
        {
          "output_type": "execute_result",
          "data": {
            "text/plain": [
              "count    6.820000e+03\n",
              "mean     3.349783e+07\n",
              "std      5.819760e+07\n",
              "min      7.000000e+01\n",
              "25%      1.515839e+06\n",
              "50%      1.213568e+07\n",
              "75%      4.006534e+07\n",
              "max      9.366622e+08\n",
              "Name: gross, dtype: float64"
            ]
          },
          "metadata": {
            "tags": []
          },
          "execution_count": 6
        }
      ]
    },
    {
      "cell_type": "code",
      "metadata": {
        "id": "NCAXucpdWXRs",
        "colab_type": "code",
        "colab": {}
      },
      "source": [
        "gross_rate = []\n",
        "for i in range(len(movies['gross'])):\n",
        "  if movies['gross'][i]<=1.515839e+06:\n",
        "    gross_rate.append(1)\n",
        "  elif movies['gross'][i]<=1.213568e+07 and movies['gross'][i]>1.515839e+06:\n",
        "    gross_rate.append(2)\n",
        "  elif movies['gross'][i]<=4.006534e+07 and movies['gross'][i]>1.213568e+07:\n",
        "    gross_rate.append(3)\n",
        "  else:\n",
        "    gross_rate.append(4)\n",
        "gross_rate = np.array(gross_rate)"
      ],
      "execution_count": 0,
      "outputs": []
    },
    {
      "cell_type": "code",
      "metadata": {
        "id": "cVyehKSqXQX2",
        "colab_type": "code",
        "outputId": "5d5574a4-2c44-4e83-c166-f474ed20b67f",
        "colab": {
          "base_uri": "https://localhost:8080/",
          "height": 35
        }
      },
      "source": [
        "len(gross_rate)"
      ],
      "execution_count": 8,
      "outputs": [
        {
          "output_type": "execute_result",
          "data": {
            "text/plain": [
              "6820"
            ]
          },
          "metadata": {
            "tags": []
          },
          "execution_count": 8
        }
      ]
    },
    {
      "cell_type": "code",
      "metadata": {
        "id": "gKn-QKrzbtre",
        "colab_type": "code",
        "outputId": "3fe66a2d-51b9-4568-bf85-14cb21dd5660",
        "colab": {
          "base_uri": "https://localhost:8080/",
          "height": 35
        }
      },
      "source": [
        "type(gross_rate)"
      ],
      "execution_count": 9,
      "outputs": [
        {
          "output_type": "execute_result",
          "data": {
            "text/plain": [
              "numpy.ndarray"
            ]
          },
          "metadata": {
            "tags": []
          },
          "execution_count": 9
        }
      ]
    },
    {
      "cell_type": "code",
      "metadata": {
        "id": "TTyiJj-wYJHa",
        "colab_type": "code",
        "outputId": "f4e3a26a-a35c-4f12-9642-12531f656739",
        "colab": {
          "base_uri": "https://localhost:8080/",
          "height": 35
        }
      },
      "source": [
        "gross_rate[:10]"
      ],
      "execution_count": 10,
      "outputs": [
        {
          "output_type": "execute_result",
          "data": {
            "text/plain": [
              "array([4, 4, 4, 4, 3, 4, 3, 2, 4, 4])"
            ]
          },
          "metadata": {
            "tags": []
          },
          "execution_count": 10
        }
      ]
    },
    {
      "cell_type": "code",
      "metadata": {
        "id": "g5qYT10FaED4",
        "colab_type": "code",
        "outputId": "498442db-484f-4127-c058-b7584cc8f45f",
        "colab": {
          "base_uri": "https://localhost:8080/",
          "height": 211
        }
      },
      "source": [
        "movies['gross'].head(10)"
      ],
      "execution_count": 11,
      "outputs": [
        {
          "output_type": "execute_result",
          "data": {
            "text/plain": [
              "0     52287414.0\n",
              "1     70136369.0\n",
              "2    179800601.0\n",
              "3     85160248.0\n",
              "4     18564613.0\n",
              "5    138530565.0\n",
              "6     12729917.0\n",
              "7      8551228.0\n",
              "8     40471663.0\n",
              "9     40456565.0\n",
              "Name: gross, dtype: float64"
            ]
          },
          "metadata": {
            "tags": []
          },
          "execution_count": 11
        }
      ]
    },
    {
      "cell_type": "code",
      "metadata": {
        "id": "Y8qdxJwDXnQd",
        "colab_type": "code",
        "colab": {}
      },
      "source": [
        " score_rate = np.array([])\n",
        "for i in range(len(movies['score'])):\n",
        "  if movies['score'][i]<=2.5:\n",
        "    score_rate = np.append(score_rate, 1)\n",
        "  elif movies['score'][i]<=5 and movies['gross'][i]>2.5:\n",
        "    score_rate = np.append(score_rate, 2)\n",
        "  elif movies['score'][i]<=7.5 and movies['gross'][i]>5:\n",
        "    score_rate = np.append(score_rate, 3)\n",
        "  else:\n",
        "    score_rate = np.append(score_rate, 4)"
      ],
      "execution_count": 0,
      "outputs": []
    },
    {
      "cell_type": "code",
      "metadata": {
        "id": "mWEY3kF7ZiIf",
        "colab_type": "code",
        "outputId": "f0bc133a-6611-4153-8cb1-833e98f96072",
        "colab": {
          "base_uri": "https://localhost:8080/",
          "height": 35
        }
      },
      "source": [
        "len(score_rate)"
      ],
      "execution_count": 13,
      "outputs": [
        {
          "output_type": "execute_result",
          "data": {
            "text/plain": [
              "6820"
            ]
          },
          "metadata": {
            "tags": []
          },
          "execution_count": 13
        }
      ]
    },
    {
      "cell_type": "code",
      "metadata": {
        "id": "kYNMMbckZkXG",
        "colab_type": "code",
        "outputId": "9b26175c-6e4f-445c-c374-ee1174f9f9ec",
        "colab": {
          "base_uri": "https://localhost:8080/",
          "height": 35
        }
      },
      "source": [
        "score_rate"
      ],
      "execution_count": 14,
      "outputs": [
        {
          "output_type": "execute_result",
          "data": {
            "text/plain": [
              "array([4., 4., 3., ..., 3., 3., 3.])"
            ]
          },
          "metadata": {
            "tags": []
          },
          "execution_count": 14
        }
      ]
    },
    {
      "cell_type": "code",
      "metadata": {
        "id": "gAbXTlJ9ZoLf",
        "colab_type": "code",
        "outputId": "d25271dc-4737-4d8b-debe-a6dd04df67d2",
        "colab": {
          "base_uri": "https://localhost:8080/",
          "height": 211
        }
      },
      "source": [
        "movies['score'].head(10)"
      ],
      "execution_count": 15,
      "outputs": [
        {
          "output_type": "execute_result",
          "data": {
            "text/plain": [
              "0    8.1\n",
              "1    7.8\n",
              "2    6.9\n",
              "3    8.4\n",
              "4    6.9\n",
              "5    8.1\n",
              "6    7.4\n",
              "7    7.8\n",
              "8    6.8\n",
              "9    7.5\n",
              "Name: score, dtype: float64"
            ]
          },
          "metadata": {
            "tags": []
          },
          "execution_count": 15
        }
      ]
    },
    {
      "cell_type": "code",
      "metadata": {
        "id": "3lFGj1YBZq1A",
        "colab_type": "code",
        "outputId": "dbeddf8d-3b4f-4bf4-c8ce-e23d98964698",
        "colab": {
          "base_uri": "https://localhost:8080/",
          "height": 35
        }
      },
      "source": [
        "rate = (gross_rate + score_rate)/2\n",
        "rate"
      ],
      "execution_count": 16,
      "outputs": [
        {
          "output_type": "execute_result",
          "data": {
            "text/plain": [
              "array([4. , 4. , 3.5, ..., 2.5, 2. , 2. ])"
            ]
          },
          "metadata": {
            "tags": []
          },
          "execution_count": 16
        }
      ]
    },
    {
      "cell_type": "code",
      "metadata": {
        "id": "ZEnaOM7caes2",
        "colab_type": "code",
        "outputId": "461cc45c-9448-4479-8c48-9e3ec361795a",
        "colab": {
          "base_uri": "https://localhost:8080/",
          "height": 158
        }
      },
      "source": [
        "movies['success_rate'] = rate\n",
        "movies['success_rate'].value_counts(normalize = True)"
      ],
      "execution_count": 17,
      "outputs": [
        {
          "output_type": "execute_result",
          "data": {
            "text/plain": [
              "2.5    0.247067\n",
              "3.0    0.243255\n",
              "2.0    0.229912\n",
              "3.5    0.215982\n",
              "4.0    0.039736\n",
              "1.5    0.023021\n",
              "1.0    0.001026\n",
              "Name: success_rate, dtype: float64"
            ]
          },
          "metadata": {
            "tags": []
          },
          "execution_count": 17
        }
      ]
    },
    {
      "cell_type": "code",
      "metadata": {
        "id": "iTxYfzpucC6D",
        "colab_type": "code",
        "outputId": "8fff88d8-9de7-4a2a-bc92-a6c6539561d9",
        "colab": {
          "base_uri": "https://localhost:8080/",
          "height": 35
        }
      },
      "source": [
        "movies['success_rate'].nunique()"
      ],
      "execution_count": 18,
      "outputs": [
        {
          "output_type": "execute_result",
          "data": {
            "text/plain": [
              "7"
            ]
          },
          "metadata": {
            "tags": []
          },
          "execution_count": 18
        }
      ]
    },
    {
      "cell_type": "markdown",
      "metadata": {
        "id": "2JPtyCGYqLxJ",
        "colab_type": "text"
      },
      "source": [
        "#Train, Val, Test Split \n",
        "(60,20,20)"
      ]
    },
    {
      "cell_type": "code",
      "metadata": {
        "id": "hgjcvyd1qPxz",
        "colab_type": "code",
        "colab": {}
      },
      "source": [
        "movies.sort_values(by = 'released', inplace = True)"
      ],
      "execution_count": 0,
      "outputs": []
    },
    {
      "cell_type": "code",
      "metadata": {
        "id": "ettXNKEXq8eh",
        "colab_type": "code",
        "outputId": "2ceb4815-4999-4bb6-fc48-d58a9deff4ee",
        "colab": {
          "base_uri": "https://localhost:8080/",
          "height": 289
        }
      },
      "source": [
        "movies.head()"
      ],
      "execution_count": 20,
      "outputs": [
        {
          "output_type": "execute_result",
          "data": {
            "text/html": [
              "<div>\n",
              "<style scoped>\n",
              "    .dataframe tbody tr th:only-of-type {\n",
              "        vertical-align: middle;\n",
              "    }\n",
              "\n",
              "    .dataframe tbody tr th {\n",
              "        vertical-align: top;\n",
              "    }\n",
              "\n",
              "    .dataframe thead th {\n",
              "        text-align: right;\n",
              "    }\n",
              "</style>\n",
              "<table border=\"1\" class=\"dataframe\">\n",
              "  <thead>\n",
              "    <tr style=\"text-align: right;\">\n",
              "      <th></th>\n",
              "      <th>budget</th>\n",
              "      <th>company</th>\n",
              "      <th>country</th>\n",
              "      <th>director</th>\n",
              "      <th>genre</th>\n",
              "      <th>gross</th>\n",
              "      <th>name</th>\n",
              "      <th>rating</th>\n",
              "      <th>released</th>\n",
              "      <th>runtime</th>\n",
              "      <th>score</th>\n",
              "      <th>star</th>\n",
              "      <th>votes</th>\n",
              "      <th>writer</th>\n",
              "      <th>year</th>\n",
              "      <th>success_rate</th>\n",
              "    </tr>\n",
              "  </thead>\n",
              "  <tbody>\n",
              "    <tr>\n",
              "      <th>96</th>\n",
              "      <td>0.0</td>\n",
              "      <td>New World Pictures</td>\n",
              "      <td>USA</td>\n",
              "      <td>Harley Cokeliss</td>\n",
              "      <td>Action</td>\n",
              "      <td>6637565.0</td>\n",
              "      <td>Black Moon Rising</td>\n",
              "      <td>R</td>\n",
              "      <td>1986-01-10</td>\n",
              "      <td>100</td>\n",
              "      <td>5.4</td>\n",
              "      <td>Tommy Lee Jones</td>\n",
              "      <td>4045</td>\n",
              "      <td>John Carpenter</td>\n",
              "      <td>1986</td>\n",
              "      <td>2.5</td>\n",
              "    </tr>\n",
              "    <tr>\n",
              "      <th>195</th>\n",
              "      <td>0.0</td>\n",
              "      <td>Longshot</td>\n",
              "      <td>USA</td>\n",
              "      <td>Paul Bartel</td>\n",
              "      <td>Comedy</td>\n",
              "      <td>1096843.0</td>\n",
              "      <td>The Longshot</td>\n",
              "      <td>PG-13</td>\n",
              "      <td>1986-01-17</td>\n",
              "      <td>89</td>\n",
              "      <td>5.4</td>\n",
              "      <td>Tim Conway</td>\n",
              "      <td>457</td>\n",
              "      <td>Tim Conway</td>\n",
              "      <td>1986</td>\n",
              "      <td>2.0</td>\n",
              "    </tr>\n",
              "    <tr>\n",
              "      <th>47</th>\n",
              "      <td>1100000.0</td>\n",
              "      <td>Empire Pictures</td>\n",
              "      <td>USA</td>\n",
              "      <td>John Carl Buechler</td>\n",
              "      <td>Comedy</td>\n",
              "      <td>5450815.0</td>\n",
              "      <td>Troll</td>\n",
              "      <td>PG-13</td>\n",
              "      <td>1986-01-17</td>\n",
              "      <td>82</td>\n",
              "      <td>4.3</td>\n",
              "      <td>Michael Moriarty</td>\n",
              "      <td>7569</td>\n",
              "      <td>Ed Naha</td>\n",
              "      <td>1986</td>\n",
              "      <td>2.0</td>\n",
              "    </tr>\n",
              "    <tr>\n",
              "      <th>27</th>\n",
              "      <td>0.0</td>\n",
              "      <td>TriStar Pictures</td>\n",
              "      <td>USA</td>\n",
              "      <td>Sidney J. Furie</td>\n",
              "      <td>Action</td>\n",
              "      <td>24159872.0</td>\n",
              "      <td>Iron Eagle</td>\n",
              "      <td>PG-13</td>\n",
              "      <td>1986-01-17</td>\n",
              "      <td>117</td>\n",
              "      <td>5.3</td>\n",
              "      <td>Louis Gossett Jr.</td>\n",
              "      <td>11304</td>\n",
              "      <td>Kevin Alyn Elders</td>\n",
              "      <td>1986</td>\n",
              "      <td>3.0</td>\n",
              "    </tr>\n",
              "    <tr>\n",
              "      <th>218</th>\n",
              "      <td>0.0</td>\n",
              "      <td>DIC Entertainment</td>\n",
              "      <td>Canada</td>\n",
              "      <td>Bruno Bianchi</td>\n",
              "      <td>Family</td>\n",
              "      <td>2193642.0</td>\n",
              "      <td>Heathcliff: The Movie</td>\n",
              "      <td>G</td>\n",
              "      <td>1986-01-17</td>\n",
              "      <td>73</td>\n",
              "      <td>5.3</td>\n",
              "      <td>Mel Blanc</td>\n",
              "      <td>187</td>\n",
              "      <td>George Gately</td>\n",
              "      <td>1986</td>\n",
              "      <td>2.5</td>\n",
              "    </tr>\n",
              "  </tbody>\n",
              "</table>\n",
              "</div>"
            ],
            "text/plain": [
              "        budget             company  ...  year success_rate\n",
              "96         0.0  New World Pictures  ...  1986          2.5\n",
              "195        0.0            Longshot  ...  1986          2.0\n",
              "47   1100000.0     Empire Pictures  ...  1986          2.0\n",
              "27         0.0    TriStar Pictures  ...  1986          3.0\n",
              "218        0.0   DIC Entertainment  ...  1986          2.5\n",
              "\n",
              "[5 rows x 16 columns]"
            ]
          },
          "metadata": {
            "tags": []
          },
          "execution_count": 20
        }
      ]
    },
    {
      "cell_type": "code",
      "metadata": {
        "id": "io8aEn4IsA_F",
        "colab_type": "code",
        "colab": {}
      },
      "source": [
        "movies.reset_index(inplace = True, drop  = True)"
      ],
      "execution_count": 0,
      "outputs": []
    },
    {
      "cell_type": "code",
      "metadata": {
        "id": "rAcahlb0sQjw",
        "colab_type": "code",
        "outputId": "bc1df533-05bc-41e4-99b5-41c7a159d5bb",
        "colab": {
          "base_uri": "https://localhost:8080/",
          "height": 289
        }
      },
      "source": [
        "movies.head()"
      ],
      "execution_count": 22,
      "outputs": [
        {
          "output_type": "execute_result",
          "data": {
            "text/html": [
              "<div>\n",
              "<style scoped>\n",
              "    .dataframe tbody tr th:only-of-type {\n",
              "        vertical-align: middle;\n",
              "    }\n",
              "\n",
              "    .dataframe tbody tr th {\n",
              "        vertical-align: top;\n",
              "    }\n",
              "\n",
              "    .dataframe thead th {\n",
              "        text-align: right;\n",
              "    }\n",
              "</style>\n",
              "<table border=\"1\" class=\"dataframe\">\n",
              "  <thead>\n",
              "    <tr style=\"text-align: right;\">\n",
              "      <th></th>\n",
              "      <th>budget</th>\n",
              "      <th>company</th>\n",
              "      <th>country</th>\n",
              "      <th>director</th>\n",
              "      <th>genre</th>\n",
              "      <th>gross</th>\n",
              "      <th>name</th>\n",
              "      <th>rating</th>\n",
              "      <th>released</th>\n",
              "      <th>runtime</th>\n",
              "      <th>score</th>\n",
              "      <th>star</th>\n",
              "      <th>votes</th>\n",
              "      <th>writer</th>\n",
              "      <th>year</th>\n",
              "      <th>success_rate</th>\n",
              "    </tr>\n",
              "  </thead>\n",
              "  <tbody>\n",
              "    <tr>\n",
              "      <th>0</th>\n",
              "      <td>0.0</td>\n",
              "      <td>New World Pictures</td>\n",
              "      <td>USA</td>\n",
              "      <td>Harley Cokeliss</td>\n",
              "      <td>Action</td>\n",
              "      <td>6637565.0</td>\n",
              "      <td>Black Moon Rising</td>\n",
              "      <td>R</td>\n",
              "      <td>1986-01-10</td>\n",
              "      <td>100</td>\n",
              "      <td>5.4</td>\n",
              "      <td>Tommy Lee Jones</td>\n",
              "      <td>4045</td>\n",
              "      <td>John Carpenter</td>\n",
              "      <td>1986</td>\n",
              "      <td>2.5</td>\n",
              "    </tr>\n",
              "    <tr>\n",
              "      <th>1</th>\n",
              "      <td>0.0</td>\n",
              "      <td>Longshot</td>\n",
              "      <td>USA</td>\n",
              "      <td>Paul Bartel</td>\n",
              "      <td>Comedy</td>\n",
              "      <td>1096843.0</td>\n",
              "      <td>The Longshot</td>\n",
              "      <td>PG-13</td>\n",
              "      <td>1986-01-17</td>\n",
              "      <td>89</td>\n",
              "      <td>5.4</td>\n",
              "      <td>Tim Conway</td>\n",
              "      <td>457</td>\n",
              "      <td>Tim Conway</td>\n",
              "      <td>1986</td>\n",
              "      <td>2.0</td>\n",
              "    </tr>\n",
              "    <tr>\n",
              "      <th>2</th>\n",
              "      <td>1100000.0</td>\n",
              "      <td>Empire Pictures</td>\n",
              "      <td>USA</td>\n",
              "      <td>John Carl Buechler</td>\n",
              "      <td>Comedy</td>\n",
              "      <td>5450815.0</td>\n",
              "      <td>Troll</td>\n",
              "      <td>PG-13</td>\n",
              "      <td>1986-01-17</td>\n",
              "      <td>82</td>\n",
              "      <td>4.3</td>\n",
              "      <td>Michael Moriarty</td>\n",
              "      <td>7569</td>\n",
              "      <td>Ed Naha</td>\n",
              "      <td>1986</td>\n",
              "      <td>2.0</td>\n",
              "    </tr>\n",
              "    <tr>\n",
              "      <th>3</th>\n",
              "      <td>0.0</td>\n",
              "      <td>TriStar Pictures</td>\n",
              "      <td>USA</td>\n",
              "      <td>Sidney J. Furie</td>\n",
              "      <td>Action</td>\n",
              "      <td>24159872.0</td>\n",
              "      <td>Iron Eagle</td>\n",
              "      <td>PG-13</td>\n",
              "      <td>1986-01-17</td>\n",
              "      <td>117</td>\n",
              "      <td>5.3</td>\n",
              "      <td>Louis Gossett Jr.</td>\n",
              "      <td>11304</td>\n",
              "      <td>Kevin Alyn Elders</td>\n",
              "      <td>1986</td>\n",
              "      <td>3.0</td>\n",
              "    </tr>\n",
              "    <tr>\n",
              "      <th>4</th>\n",
              "      <td>0.0</td>\n",
              "      <td>DIC Entertainment</td>\n",
              "      <td>Canada</td>\n",
              "      <td>Bruno Bianchi</td>\n",
              "      <td>Family</td>\n",
              "      <td>2193642.0</td>\n",
              "      <td>Heathcliff: The Movie</td>\n",
              "      <td>G</td>\n",
              "      <td>1986-01-17</td>\n",
              "      <td>73</td>\n",
              "      <td>5.3</td>\n",
              "      <td>Mel Blanc</td>\n",
              "      <td>187</td>\n",
              "      <td>George Gately</td>\n",
              "      <td>1986</td>\n",
              "      <td>2.5</td>\n",
              "    </tr>\n",
              "  </tbody>\n",
              "</table>\n",
              "</div>"
            ],
            "text/plain": [
              "      budget             company country  ...             writer  year  success_rate\n",
              "0        0.0  New World Pictures     USA  ...     John Carpenter  1986           2.5\n",
              "1        0.0            Longshot     USA  ...         Tim Conway  1986           2.0\n",
              "2  1100000.0     Empire Pictures     USA  ...            Ed Naha  1986           2.0\n",
              "3        0.0    TriStar Pictures     USA  ...  Kevin Alyn Elders  1986           3.0\n",
              "4        0.0   DIC Entertainment  Canada  ...      George Gately  1986           2.5\n",
              "\n",
              "[5 rows x 16 columns]"
            ]
          },
          "metadata": {
            "tags": []
          },
          "execution_count": 22
        }
      ]
    },
    {
      "cell_type": "code",
      "metadata": {
        "id": "lA5LYRIGsVDi",
        "colab_type": "code",
        "outputId": "03108915-90a8-4613-c1af-8a74a7b2c10d",
        "colab": {
          "base_uri": "https://localhost:8080/",
          "height": 35
        }
      },
      "source": [
        "no_budg = movies[movies['budget']==0]\n",
        "no_budg.shape"
      ],
      "execution_count": 23,
      "outputs": [
        {
          "output_type": "execute_result",
          "data": {
            "text/plain": [
              "(2182, 16)"
            ]
          },
          "metadata": {
            "tags": []
          },
          "execution_count": 23
        }
      ]
    },
    {
      "cell_type": "code",
      "metadata": {
        "id": "7yxK6n4sS5e-",
        "colab_type": "code",
        "colab": {}
      },
      "source": [
        "# set end year for training data set\n",
        "train_lim = movies['year'].min()+19\n",
        "\n",
        "# set beginning year for test data\n",
        "test_lim = movies['year'].max()-4"
      ],
      "execution_count": 0,
      "outputs": []
    },
    {
      "cell_type": "code",
      "metadata": {
        "id": "gYnoNdHxTqgZ",
        "colab_type": "code",
        "colab": {}
      },
      "source": [
        "# movies in years less than training end year\n",
        "train = movies[movies['year']<= train_lim]\n",
        "\n",
        "# all movies in years greater than training end year\n",
        "val_temp = movies[movies['year'] > train_lim]\n",
        "\n",
        "# movies in years less than test year and greater than training end year\n",
        "val = val_temp[val_temp['year'] < test_lim]\n",
        "\n",
        "# movies in years greater than test year\n",
        "test = movies[movies['year']>=test_lim]"
      ],
      "execution_count": 0,
      "outputs": []
    },
    {
      "cell_type": "code",
      "metadata": {
        "id": "j_3sTohPZSUY",
        "colab_type": "code",
        "outputId": "e51d590e-c120-4b08-dd45-1a6b4f09be30",
        "colab": {
          "base_uri": "https://localhost:8080/",
          "height": 35
        }
      },
      "source": [
        "train.shape, val.shape, test.shape"
      ],
      "execution_count": 26,
      "outputs": [
        {
          "output_type": "execute_result",
          "data": {
            "text/plain": [
              "((4400, 16), (1320, 16), (1100, 16))"
            ]
          },
          "metadata": {
            "tags": []
          },
          "execution_count": 26
        }
      ]
    },
    {
      "cell_type": "code",
      "metadata": {
        "id": "y2kzIO4Kt3MB",
        "colab_type": "code",
        "outputId": "ca3ac97b-7e40-4d9b-9737-e50c8c5955db",
        "colab": {
          "base_uri": "https://localhost:8080/",
          "height": 158
        }
      },
      "source": [
        "movies['success_rate'].value_counts(normalize=True)"
      ],
      "execution_count": 27,
      "outputs": [
        {
          "output_type": "execute_result",
          "data": {
            "text/plain": [
              "2.5    0.247067\n",
              "3.0    0.243255\n",
              "2.0    0.229912\n",
              "3.5    0.215982\n",
              "4.0    0.039736\n",
              "1.5    0.023021\n",
              "1.0    0.001026\n",
              "Name: success_rate, dtype: float64"
            ]
          },
          "metadata": {
            "tags": []
          },
          "execution_count": 27
        }
      ]
    },
    {
      "cell_type": "markdown",
      "metadata": {
        "id": "T6ChzwtKRhMr",
        "colab_type": "text"
      },
      "source": [
        "#Assignment 1 - Wrangle ML Dataset"
      ]
    },
    {
      "cell_type": "markdown",
      "metadata": {
        "id": "eVrO-CAuTKNh",
        "colab_type": "text"
      },
      "source": [
        "##Baseline"
      ]
    },
    {
      "cell_type": "code",
      "metadata": {
        "id": "alFE0uBAmY12",
        "colab_type": "code",
        "outputId": "fceea435-321c-4b11-c702-641b321d28b0",
        "colab": {
          "base_uri": "https://localhost:8080/",
          "height": 35
        }
      },
      "source": [
        "from sklearn.metrics import mean_absolute_error\n",
        "\n",
        "train['gross'].mean()\n",
        "\n",
        "y_train = train['gross']\n",
        "y_test = test['gross']\n",
        "base_guess = y_train.mean()\n",
        "\n",
        "\n",
        "# test error\n",
        "y_base_pred = [base_guess] * len(y_test)\n",
        "mae_test = mean_absolute_error(y_test, y_base_pred)\n",
        "\n",
        "print(f'Mean Absolute Error: ${mae_test:,.2f}')"
      ],
      "execution_count": 28,
      "outputs": [
        {
          "output_type": "stream",
          "text": [
            "Mean Absolute Error: $45,726,662.13\n"
          ],
          "name": "stdout"
        }
      ]
    },
    {
      "cell_type": "markdown",
      "metadata": {
        "id": "89UwrgFuRl1m",
        "colab_type": "text"
      },
      "source": [
        "##Basic Model"
      ]
    },
    {
      "cell_type": "code",
      "metadata": {
        "id": "qnN9_PphPXyg",
        "colab_type": "code",
        "colab": {}
      },
      "source": [
        "# set target\n",
        "target = 'gross'\n",
        "\n",
        "# set features\n",
        "features = ['budget', 'genre', 'rating', 'year']\n",
        "\n",
        "# set X matrices and y vectors\n",
        "X_train = train[features]\n",
        "y_train = train[target]\n",
        "\n",
        "X_val = val[features]\n",
        "y_val = val[target]\n",
        "\n",
        "X_test = test[features]\n",
        "y_test = test[target]"
      ],
      "execution_count": 0,
      "outputs": []
    },
    {
      "cell_type": "markdown",
      "metadata": {
        "id": "coLQpS33Ehwe",
        "colab_type": "text"
      },
      "source": [
        "#Inspect"
      ]
    },
    {
      "cell_type": "code",
      "metadata": {
        "colab_type": "code",
        "id": "osvyJB-FhVCy",
        "colab": {}
      },
      "source": [
        "import pandas as pd\n",
        "import numpy as np"
      ],
      "execution_count": 0,
      "outputs": []
    },
    {
      "cell_type": "code",
      "metadata": {
        "colab_type": "code",
        "id": "NFldOPD1hVC6",
        "colab": {}
      },
      "source": [
        "#need the encoding set to \"ISO-8859-1\" so it will read the weird characters properly \n",
        "movies = pd.read_csv('https://raw.githubusercontent.com/afroman32/Unit-2-Build/master/movies.csv',\n",
        "                     encoding = \"ISO-8859-1\")"
      ],
      "execution_count": 0,
      "outputs": []
    },
    {
      "cell_type": "code",
      "metadata": {
        "colab_type": "code",
        "outputId": "b4a11990-86b0-43c2-a13e-68f2d7d90d15",
        "id": "8hnLX8IvhVC9",
        "colab": {
          "base_uri": "https://localhost:8080/",
          "height": 306
        }
      },
      "source": [
        "print(movies.shape)\n",
        "movies.head()"
      ],
      "execution_count": 32,
      "outputs": [
        {
          "output_type": "stream",
          "text": [
            "(6820, 15)\n"
          ],
          "name": "stdout"
        },
        {
          "output_type": "execute_result",
          "data": {
            "text/html": [
              "<div>\n",
              "<style scoped>\n",
              "    .dataframe tbody tr th:only-of-type {\n",
              "        vertical-align: middle;\n",
              "    }\n",
              "\n",
              "    .dataframe tbody tr th {\n",
              "        vertical-align: top;\n",
              "    }\n",
              "\n",
              "    .dataframe thead th {\n",
              "        text-align: right;\n",
              "    }\n",
              "</style>\n",
              "<table border=\"1\" class=\"dataframe\">\n",
              "  <thead>\n",
              "    <tr style=\"text-align: right;\">\n",
              "      <th></th>\n",
              "      <th>budget</th>\n",
              "      <th>company</th>\n",
              "      <th>country</th>\n",
              "      <th>director</th>\n",
              "      <th>genre</th>\n",
              "      <th>gross</th>\n",
              "      <th>name</th>\n",
              "      <th>rating</th>\n",
              "      <th>released</th>\n",
              "      <th>runtime</th>\n",
              "      <th>score</th>\n",
              "      <th>star</th>\n",
              "      <th>votes</th>\n",
              "      <th>writer</th>\n",
              "      <th>year</th>\n",
              "    </tr>\n",
              "  </thead>\n",
              "  <tbody>\n",
              "    <tr>\n",
              "      <th>0</th>\n",
              "      <td>8000000.0</td>\n",
              "      <td>Columbia Pictures Corporation</td>\n",
              "      <td>USA</td>\n",
              "      <td>Rob Reiner</td>\n",
              "      <td>Adventure</td>\n",
              "      <td>52287414.0</td>\n",
              "      <td>Stand by Me</td>\n",
              "      <td>R</td>\n",
              "      <td>1986-08-22</td>\n",
              "      <td>89</td>\n",
              "      <td>8.1</td>\n",
              "      <td>Wil Wheaton</td>\n",
              "      <td>299174</td>\n",
              "      <td>Stephen King</td>\n",
              "      <td>1986</td>\n",
              "    </tr>\n",
              "    <tr>\n",
              "      <th>1</th>\n",
              "      <td>6000000.0</td>\n",
              "      <td>Paramount Pictures</td>\n",
              "      <td>USA</td>\n",
              "      <td>John Hughes</td>\n",
              "      <td>Comedy</td>\n",
              "      <td>70136369.0</td>\n",
              "      <td>Ferris Bueller's Day Off</td>\n",
              "      <td>PG-13</td>\n",
              "      <td>1986-06-11</td>\n",
              "      <td>103</td>\n",
              "      <td>7.8</td>\n",
              "      <td>Matthew Broderick</td>\n",
              "      <td>264740</td>\n",
              "      <td>John Hughes</td>\n",
              "      <td>1986</td>\n",
              "    </tr>\n",
              "    <tr>\n",
              "      <th>2</th>\n",
              "      <td>15000000.0</td>\n",
              "      <td>Paramount Pictures</td>\n",
              "      <td>USA</td>\n",
              "      <td>Tony Scott</td>\n",
              "      <td>Action</td>\n",
              "      <td>179800601.0</td>\n",
              "      <td>Top Gun</td>\n",
              "      <td>PG</td>\n",
              "      <td>1986-05-16</td>\n",
              "      <td>110</td>\n",
              "      <td>6.9</td>\n",
              "      <td>Tom Cruise</td>\n",
              "      <td>236909</td>\n",
              "      <td>Jim Cash</td>\n",
              "      <td>1986</td>\n",
              "    </tr>\n",
              "    <tr>\n",
              "      <th>3</th>\n",
              "      <td>18500000.0</td>\n",
              "      <td>Twentieth Century Fox Film Corporation</td>\n",
              "      <td>USA</td>\n",
              "      <td>James Cameron</td>\n",
              "      <td>Action</td>\n",
              "      <td>85160248.0</td>\n",
              "      <td>Aliens</td>\n",
              "      <td>R</td>\n",
              "      <td>1986-07-18</td>\n",
              "      <td>137</td>\n",
              "      <td>8.4</td>\n",
              "      <td>Sigourney Weaver</td>\n",
              "      <td>540152</td>\n",
              "      <td>James Cameron</td>\n",
              "      <td>1986</td>\n",
              "    </tr>\n",
              "    <tr>\n",
              "      <th>4</th>\n",
              "      <td>9000000.0</td>\n",
              "      <td>Walt Disney Pictures</td>\n",
              "      <td>USA</td>\n",
              "      <td>Randal Kleiser</td>\n",
              "      <td>Adventure</td>\n",
              "      <td>18564613.0</td>\n",
              "      <td>Flight of the Navigator</td>\n",
              "      <td>PG</td>\n",
              "      <td>1986-08-01</td>\n",
              "      <td>90</td>\n",
              "      <td>6.9</td>\n",
              "      <td>Joey Cramer</td>\n",
              "      <td>36636</td>\n",
              "      <td>Mark H. Baker</td>\n",
              "      <td>1986</td>\n",
              "    </tr>\n",
              "  </tbody>\n",
              "</table>\n",
              "</div>"
            ],
            "text/plain": [
              "       budget                                 company  ...         writer  year\n",
              "0   8000000.0           Columbia Pictures Corporation  ...   Stephen King  1986\n",
              "1   6000000.0                      Paramount Pictures  ...    John Hughes  1986\n",
              "2  15000000.0                      Paramount Pictures  ...       Jim Cash  1986\n",
              "3  18500000.0  Twentieth Century Fox Film Corporation  ...  James Cameron  1986\n",
              "4   9000000.0                    Walt Disney Pictures  ...  Mark H. Baker  1986\n",
              "\n",
              "[5 rows x 15 columns]"
            ]
          },
          "metadata": {
            "tags": []
          },
          "execution_count": 32
        }
      ]
    },
    {
      "cell_type": "code",
      "metadata": {
        "colab_type": "code",
        "outputId": "673f9632-07ce-4377-e47b-b402703bc639",
        "id": "biCwcsMlhVDA",
        "colab": {
          "base_uri": "https://localhost:8080/",
          "height": 175
        }
      },
      "source": [
        "movies['score'].describe()"
      ],
      "execution_count": 33,
      "outputs": [
        {
          "output_type": "execute_result",
          "data": {
            "text/plain": [
              "count    6820.000000\n",
              "mean        6.374897\n",
              "std         1.003142\n",
              "min         1.500000\n",
              "25%         5.800000\n",
              "50%         6.400000\n",
              "75%         7.100000\n",
              "max         9.300000\n",
              "Name: score, dtype: float64"
            ]
          },
          "metadata": {
            "tags": []
          },
          "execution_count": 33
        }
      ]
    },
    {
      "cell_type": "markdown",
      "metadata": {
        "id": "XJmofgobEqxB",
        "colab_type": "text"
      },
      "source": [
        "#Wrangle"
      ]
    },
    {
      "cell_type": "code",
      "metadata": {
        "colab_type": "code",
        "id": "N7qVr1Y_hVDD",
        "colab": {}
      },
      "source": [
        "# director track record, movies success by director\n",
        "# make sure to train on features that would come before the target"
      ],
      "execution_count": 0,
      "outputs": []
    },
    {
      "cell_type": "code",
      "metadata": {
        "id": "DL9D1GNTMCtI",
        "colab_type": "code",
        "outputId": "aac284b1-3ef9-444c-e13a-f7ed15516dc4",
        "colab": {
          "base_uri": "https://localhost:8080/",
          "height": 35
        }
      },
      "source": [
        "# number of unique directors\n",
        "movies['director'].nunique()"
      ],
      "execution_count": 35,
      "outputs": [
        {
          "output_type": "execute_result",
          "data": {
            "text/plain": [
              "2759"
            ]
          },
          "metadata": {
            "tags": []
          },
          "execution_count": 35
        }
      ]
    },
    {
      "cell_type": "code",
      "metadata": {
        "id": "zU212SpikGr7",
        "colab_type": "code",
        "outputId": "02587c13-d61d-43a2-9201-6d2c8f64d532",
        "colab": {
          "base_uri": "https://localhost:8080/",
          "height": 52
        }
      },
      "source": [
        "# create a list of directors\n",
        "directors = list(movies['director'])\n",
        "\n",
        "# remove the duplicates from the list\n",
        "directors = list(dict.fromkeys(directors))\n",
        "\n",
        "# check length of directors, should be 2759 to match unique directors\n",
        "print(len(directors))\n",
        "type(directors)"
      ],
      "execution_count": 36,
      "outputs": [
        {
          "output_type": "stream",
          "text": [
            "2759\n"
          ],
          "name": "stdout"
        },
        {
          "output_type": "execute_result",
          "data": {
            "text/plain": [
              "list"
            ]
          },
          "metadata": {
            "tags": []
          },
          "execution_count": 36
        }
      ]
    },
    {
      "cell_type": "code",
      "metadata": {
        "id": "_Al85ws-lkqP",
        "colab_type": "code",
        "outputId": "1432724b-f997-44b6-d98b-e878405d852c",
        "colab": {
          "base_uri": "https://localhost:8080/",
          "height": 35
        }
      },
      "source": [
        "# test to see average for directors\n",
        "sub = movies[movies['director'] == movies['director'][3]]\n",
        "sub['gross'].sum()/len(sub['gross'])"
      ],
      "execution_count": 37,
      "outputs": [
        {
          "output_type": "execute_result",
          "data": {
            "text/plain": [
              "318321163.8333333"
            ]
          },
          "metadata": {
            "tags": []
          },
          "execution_count": 37
        }
      ]
    },
    {
      "cell_type": "code",
      "metadata": {
        "id": "YHmWoExPlPmr",
        "colab_type": "code",
        "outputId": "f77dfe48-09f2-4e03-e4c4-59de4a1a1f85",
        "colab": {
          "base_uri": "https://localhost:8080/",
          "height": 52
        }
      },
      "source": [
        "ave_gross = []\n",
        "\n",
        "# run through each director and average the movie gross revenue\n",
        "for i in range(0,len(directors)):\n",
        "\n",
        "  # create a subset of all directors in index i\n",
        "  sub = movies[movies['director'] == directors[i]]\n",
        "\n",
        "  # average the gross revenues of each movie\n",
        "  average=sub['gross'].sum()/len(sub['gross'])\n",
        "\n",
        "  # cast float to int to remove decimal points then add it to ave_gross list\n",
        "  ave_gross.append(int(average))\n",
        "\n",
        "# check if ave_gross has correct number of values\n",
        "print(len(ave_gross))\n",
        "print(directors[i])"
      ],
      "execution_count": 38,
      "outputs": [
        {
          "output_type": "stream",
          "text": [
            "2759\n",
            "Nicole Garcia\n"
          ],
          "name": "stdout"
        }
      ]
    },
    {
      "cell_type": "code",
      "metadata": {
        "id": "naU-b-p3ewhy",
        "colab_type": "code",
        "outputId": "c51ace80-d1f0-4887-bfaa-2f5fa32f6d0d",
        "colab": {
          "base_uri": "https://localhost:8080/",
          "height": 79
        }
      },
      "source": [
        "sub"
      ],
      "execution_count": 39,
      "outputs": [
        {
          "output_type": "execute_result",
          "data": {
            "text/html": [
              "<div>\n",
              "<style scoped>\n",
              "    .dataframe tbody tr th:only-of-type {\n",
              "        vertical-align: middle;\n",
              "    }\n",
              "\n",
              "    .dataframe tbody tr th {\n",
              "        vertical-align: top;\n",
              "    }\n",
              "\n",
              "    .dataframe thead th {\n",
              "        text-align: right;\n",
              "    }\n",
              "</style>\n",
              "<table border=\"1\" class=\"dataframe\">\n",
              "  <thead>\n",
              "    <tr style=\"text-align: right;\">\n",
              "      <th></th>\n",
              "      <th>budget</th>\n",
              "      <th>company</th>\n",
              "      <th>country</th>\n",
              "      <th>director</th>\n",
              "      <th>genre</th>\n",
              "      <th>gross</th>\n",
              "      <th>name</th>\n",
              "      <th>rating</th>\n",
              "      <th>released</th>\n",
              "      <th>runtime</th>\n",
              "      <th>score</th>\n",
              "      <th>star</th>\n",
              "      <th>votes</th>\n",
              "      <th>writer</th>\n",
              "      <th>year</th>\n",
              "    </tr>\n",
              "  </thead>\n",
              "  <tbody>\n",
              "    <tr>\n",
              "      <th>6819</th>\n",
              "      <td>0.0</td>\n",
              "      <td>Les Productions du TrÃ©sor</td>\n",
              "      <td>France</td>\n",
              "      <td>Nicole Garcia</td>\n",
              "      <td>Drama</td>\n",
              "      <td>37757.0</td>\n",
              "      <td>From the Land of the Moon</td>\n",
              "      <td>R</td>\n",
              "      <td>2017-07-28</td>\n",
              "      <td>120</td>\n",
              "      <td>6.7</td>\n",
              "      <td>Marion Cotillard</td>\n",
              "      <td>2411</td>\n",
              "      <td>Milena Agus</td>\n",
              "      <td>2016</td>\n",
              "    </tr>\n",
              "  </tbody>\n",
              "</table>\n",
              "</div>"
            ],
            "text/plain": [
              "      budget                     company country  ... votes       writer  year\n",
              "6819     0.0  Les Productions du TrÃ©sor  France  ...  2411  Milena Agus  2016\n",
              "\n",
              "[1 rows x 15 columns]"
            ]
          },
          "metadata": {
            "tags": []
          },
          "execution_count": 39
        }
      ]
    },
    {
      "cell_type": "code",
      "metadata": {
        "id": "Zfs7666GfqXv",
        "colab_type": "code",
        "outputId": "c171ec1b-ed76-4132-aa39-ba58d1a18c6a",
        "colab": {
          "base_uri": "https://localhost:8080/",
          "height": 79
        }
      },
      "source": [
        "movies[movies['director']==directors[-2]]"
      ],
      "execution_count": 40,
      "outputs": [
        {
          "output_type": "execute_result",
          "data": {
            "text/html": [
              "<div>\n",
              "<style scoped>\n",
              "    .dataframe tbody tr th:only-of-type {\n",
              "        vertical-align: middle;\n",
              "    }\n",
              "\n",
              "    .dataframe tbody tr th {\n",
              "        vertical-align: top;\n",
              "    }\n",
              "\n",
              "    .dataframe thead th {\n",
              "        text-align: right;\n",
              "    }\n",
              "</style>\n",
              "<table border=\"1\" class=\"dataframe\">\n",
              "  <thead>\n",
              "    <tr style=\"text-align: right;\">\n",
              "      <th></th>\n",
              "      <th>budget</th>\n",
              "      <th>company</th>\n",
              "      <th>country</th>\n",
              "      <th>director</th>\n",
              "      <th>genre</th>\n",
              "      <th>gross</th>\n",
              "      <th>name</th>\n",
              "      <th>rating</th>\n",
              "      <th>released</th>\n",
              "      <th>runtime</th>\n",
              "      <th>score</th>\n",
              "      <th>star</th>\n",
              "      <th>votes</th>\n",
              "      <th>writer</th>\n",
              "      <th>year</th>\n",
              "    </tr>\n",
              "  </thead>\n",
              "  <tbody>\n",
              "    <tr>\n",
              "      <th>6818</th>\n",
              "      <td>0.0</td>\n",
              "      <td>Borderline Presents</td>\n",
              "      <td>USA</td>\n",
              "      <td>Nicolas Pesce</td>\n",
              "      <td>Drama</td>\n",
              "      <td>25981.0</td>\n",
              "      <td>The Eyes of My Mother</td>\n",
              "      <td>R</td>\n",
              "      <td>2016-12-02</td>\n",
              "      <td>76</td>\n",
              "      <td>6.2</td>\n",
              "      <td>Kika MagalhÃ£es</td>\n",
              "      <td>6947</td>\n",
              "      <td>Nicolas Pesce</td>\n",
              "      <td>2016</td>\n",
              "    </tr>\n",
              "  </tbody>\n",
              "</table>\n",
              "</div>"
            ],
            "text/plain": [
              "      budget              company country  ... votes         writer  year\n",
              "6818     0.0  Borderline Presents     USA  ...  6947  Nicolas Pesce  2016\n",
              "\n",
              "[1 rows x 15 columns]"
            ]
          },
          "metadata": {
            "tags": []
          },
          "execution_count": 40
        }
      ]
    },
    {
      "cell_type": "code",
      "metadata": {
        "id": "ySEH3B5hf0ta",
        "colab_type": "code",
        "outputId": "45ea1de8-2784-4a1e-c332-026579a482b7",
        "colab": {
          "base_uri": "https://localhost:8080/",
          "height": 35
        }
      },
      "source": [
        "ave_gross[-1]"
      ],
      "execution_count": 41,
      "outputs": [
        {
          "output_type": "execute_result",
          "data": {
            "text/plain": [
              "37757"
            ]
          },
          "metadata": {
            "tags": []
          },
          "execution_count": 41
        }
      ]
    },
    {
      "cell_type": "code",
      "metadata": {
        "id": "4EoLYpIkqsTk",
        "colab_type": "code",
        "colab": {}
      },
      "source": [
        "# create a dictionary with directors and their average gross\n",
        "dir_ave = {directors[i]: ave_gross[i] for i in range(len(directors))}"
      ],
      "execution_count": 0,
      "outputs": []
    },
    {
      "cell_type": "code",
      "metadata": {
        "id": "A8vDF5u9fGEd",
        "colab_type": "code",
        "outputId": "dcfeb556-0520-4fb8-df70-bd62b0be3980",
        "colab": {
          "base_uri": "https://localhost:8080/",
          "height": 35
        }
      },
      "source": [
        "len(dir_ave)"
      ],
      "execution_count": 43,
      "outputs": [
        {
          "output_type": "execute_result",
          "data": {
            "text/plain": [
              "2759"
            ]
          },
          "metadata": {
            "tags": []
          },
          "execution_count": 43
        }
      ]
    },
    {
      "cell_type": "code",
      "metadata": {
        "id": "ZJXfXF_Zc3xJ",
        "colab_type": "code",
        "outputId": "da70f3f7-b7ce-4dd3-a318-716bd4ba8037",
        "colab": {
          "base_uri": "https://localhost:8080/",
          "height": 52
        }
      },
      "source": [
        "print(directors[0])\n",
        "res = list(dir_ave.keys()).index('Nicolas Pesce') \n",
        "res"
      ],
      "execution_count": 44,
      "outputs": [
        {
          "output_type": "stream",
          "text": [
            "Rob Reiner\n"
          ],
          "name": "stdout"
        },
        {
          "output_type": "execute_result",
          "data": {
            "text/plain": [
              "2757"
            ]
          },
          "metadata": {
            "tags": []
          },
          "execution_count": 44
        }
      ]
    },
    {
      "cell_type": "code",
      "metadata": {
        "id": "u12hy6fDyBG8",
        "colab_type": "code",
        "outputId": "f7dbfcab-fba9-4bee-fdfb-3fda576ef569",
        "colab": {
          "base_uri": "https://localhost:8080/",
          "height": 289
        }
      },
      "source": [
        "# pass the dictionary to the movies dataframe\n",
        "movies['dir_ave_gross']= movies['director'].map(dir_ave)\n",
        "movies.head()"
      ],
      "execution_count": 45,
      "outputs": [
        {
          "output_type": "execute_result",
          "data": {
            "text/html": [
              "<div>\n",
              "<style scoped>\n",
              "    .dataframe tbody tr th:only-of-type {\n",
              "        vertical-align: middle;\n",
              "    }\n",
              "\n",
              "    .dataframe tbody tr th {\n",
              "        vertical-align: top;\n",
              "    }\n",
              "\n",
              "    .dataframe thead th {\n",
              "        text-align: right;\n",
              "    }\n",
              "</style>\n",
              "<table border=\"1\" class=\"dataframe\">\n",
              "  <thead>\n",
              "    <tr style=\"text-align: right;\">\n",
              "      <th></th>\n",
              "      <th>budget</th>\n",
              "      <th>company</th>\n",
              "      <th>country</th>\n",
              "      <th>director</th>\n",
              "      <th>genre</th>\n",
              "      <th>gross</th>\n",
              "      <th>name</th>\n",
              "      <th>rating</th>\n",
              "      <th>released</th>\n",
              "      <th>runtime</th>\n",
              "      <th>score</th>\n",
              "      <th>star</th>\n",
              "      <th>votes</th>\n",
              "      <th>writer</th>\n",
              "      <th>year</th>\n",
              "      <th>dir_ave_gross</th>\n",
              "    </tr>\n",
              "  </thead>\n",
              "  <tbody>\n",
              "    <tr>\n",
              "      <th>0</th>\n",
              "      <td>8000000.0</td>\n",
              "      <td>Columbia Pictures Corporation</td>\n",
              "      <td>USA</td>\n",
              "      <td>Rob Reiner</td>\n",
              "      <td>Adventure</td>\n",
              "      <td>52287414.0</td>\n",
              "      <td>Stand by Me</td>\n",
              "      <td>R</td>\n",
              "      <td>1986-08-22</td>\n",
              "      <td>89</td>\n",
              "      <td>8.1</td>\n",
              "      <td>Wil Wheaton</td>\n",
              "      <td>299174</td>\n",
              "      <td>Stephen King</td>\n",
              "      <td>1986</td>\n",
              "      <td>43901884</td>\n",
              "    </tr>\n",
              "    <tr>\n",
              "      <th>1</th>\n",
              "      <td>6000000.0</td>\n",
              "      <td>Paramount Pictures</td>\n",
              "      <td>USA</td>\n",
              "      <td>John Hughes</td>\n",
              "      <td>Comedy</td>\n",
              "      <td>70136369.0</td>\n",
              "      <td>Ferris Bueller's Day Off</td>\n",
              "      <td>PG-13</td>\n",
              "      <td>1986-06-11</td>\n",
              "      <td>103</td>\n",
              "      <td>7.8</td>\n",
              "      <td>Matthew Broderick</td>\n",
              "      <td>264740</td>\n",
              "      <td>John Hughes</td>\n",
              "      <td>1986</td>\n",
              "      <td>47229641</td>\n",
              "    </tr>\n",
              "    <tr>\n",
              "      <th>2</th>\n",
              "      <td>15000000.0</td>\n",
              "      <td>Paramount Pictures</td>\n",
              "      <td>USA</td>\n",
              "      <td>Tony Scott</td>\n",
              "      <td>Action</td>\n",
              "      <td>179800601.0</td>\n",
              "      <td>Top Gun</td>\n",
              "      <td>PG</td>\n",
              "      <td>1986-05-16</td>\n",
              "      <td>110</td>\n",
              "      <td>6.9</td>\n",
              "      <td>Tom Cruise</td>\n",
              "      <td>236909</td>\n",
              "      <td>Jim Cash</td>\n",
              "      <td>1986</td>\n",
              "      <td>68284206</td>\n",
              "    </tr>\n",
              "    <tr>\n",
              "      <th>3</th>\n",
              "      <td>18500000.0</td>\n",
              "      <td>Twentieth Century Fox Film Corporation</td>\n",
              "      <td>USA</td>\n",
              "      <td>James Cameron</td>\n",
              "      <td>Action</td>\n",
              "      <td>85160248.0</td>\n",
              "      <td>Aliens</td>\n",
              "      <td>R</td>\n",
              "      <td>1986-07-18</td>\n",
              "      <td>137</td>\n",
              "      <td>8.4</td>\n",
              "      <td>Sigourney Weaver</td>\n",
              "      <td>540152</td>\n",
              "      <td>James Cameron</td>\n",
              "      <td>1986</td>\n",
              "      <td>318321163</td>\n",
              "    </tr>\n",
              "    <tr>\n",
              "      <th>4</th>\n",
              "      <td>9000000.0</td>\n",
              "      <td>Walt Disney Pictures</td>\n",
              "      <td>USA</td>\n",
              "      <td>Randal Kleiser</td>\n",
              "      <td>Adventure</td>\n",
              "      <td>18564613.0</td>\n",
              "      <td>Flight of the Navigator</td>\n",
              "      <td>PG</td>\n",
              "      <td>1986-08-01</td>\n",
              "      <td>90</td>\n",
              "      <td>6.9</td>\n",
              "      <td>Joey Cramer</td>\n",
              "      <td>36636</td>\n",
              "      <td>Mark H. Baker</td>\n",
              "      <td>1986</td>\n",
              "      <td>18456809</td>\n",
              "    </tr>\n",
              "  </tbody>\n",
              "</table>\n",
              "</div>"
            ],
            "text/plain": [
              "       budget                                 company  ...  year dir_ave_gross\n",
              "0   8000000.0           Columbia Pictures Corporation  ...  1986      43901884\n",
              "1   6000000.0                      Paramount Pictures  ...  1986      47229641\n",
              "2  15000000.0                      Paramount Pictures  ...  1986      68284206\n",
              "3  18500000.0  Twentieth Century Fox Film Corporation  ...  1986     318321163\n",
              "4   9000000.0                    Walt Disney Pictures  ...  1986      18456809\n",
              "\n",
              "[5 rows x 16 columns]"
            ]
          },
          "metadata": {
            "tags": []
          },
          "execution_count": 45
        }
      ]
    },
    {
      "cell_type": "code",
      "metadata": {
        "id": "kDO092caNhnS",
        "colab_type": "code",
        "outputId": "1d60b5e0-0d7a-4b23-f9e9-e64271694390",
        "colab": {
          "base_uri": "https://localhost:8080/",
          "height": 35
        }
      },
      "source": [
        "# number of unique writers\n",
        "movies['writer'].nunique()"
      ],
      "execution_count": 46,
      "outputs": [
        {
          "output_type": "execute_result",
          "data": {
            "text/plain": [
              "4199"
            ]
          },
          "metadata": {
            "tags": []
          },
          "execution_count": 46
        }
      ]
    },
    {
      "cell_type": "code",
      "metadata": {
        "colab_type": "code",
        "outputId": "f70074e4-cc8b-4cf5-b4f1-4b93ebd0e2b9",
        "id": "SM0UP1F6arij",
        "colab": {
          "base_uri": "https://localhost:8080/",
          "height": 52
        }
      },
      "source": [
        "# create a list of writers\n",
        "writers = list(movies['writer'])\n",
        "\n",
        "# remove the duplicates from the list\n",
        "writers = list(dict.fromkeys(writers))\n",
        "\n",
        "# check length of writers, should be 4199 to match unique writers\n",
        "print(len(writers))\n",
        "type(writers)"
      ],
      "execution_count": 47,
      "outputs": [
        {
          "output_type": "stream",
          "text": [
            "4199\n"
          ],
          "name": "stdout"
        },
        {
          "output_type": "execute_result",
          "data": {
            "text/plain": [
              "list"
            ]
          },
          "metadata": {
            "tags": []
          },
          "execution_count": 47
        }
      ]
    },
    {
      "cell_type": "code",
      "metadata": {
        "colab_type": "code",
        "outputId": "512192fa-c607-4e0e-d994-c316556131ac",
        "id": "40nfvYdvarim",
        "colab": {
          "base_uri": "https://localhost:8080/",
          "height": 35
        }
      },
      "source": [
        "# test to see average for random writer\n",
        "sub = movies[movies['writer'] == movies['writer'][3]]\n",
        "sub['gross'].sum()/len(sub['gross'])"
      ],
      "execution_count": 48,
      "outputs": [
        {
          "output_type": "execute_result",
          "data": {
            "text/plain": [
              "274562097.71428573"
            ]
          },
          "metadata": {
            "tags": []
          },
          "execution_count": 48
        }
      ]
    },
    {
      "cell_type": "code",
      "metadata": {
        "colab_type": "code",
        "outputId": "4cad9596-5074-4174-e373-5bcbeaab99e0",
        "id": "PqXVA2iParip",
        "colab": {
          "base_uri": "https://localhost:8080/",
          "height": 35
        }
      },
      "source": [
        "writer_gross = []\n",
        "\n",
        "# run through each writers and average the movie gross revenue\n",
        "for i in range(0,len(writers)):\n",
        "  # create a subset of all writers in index i\n",
        "  sub = movies[movies['writer'] == writers[i]]\n",
        "\n",
        "  # average the gross revenues of each movie\n",
        "  average=sub['gross'].sum()/len(sub['gross'])\n",
        "\n",
        "  # cast float to int to remove decimal points then add it to ave_gross list\n",
        "  writer_gross.append(int(average))\n",
        "\n",
        "# check if writer_gross has correct number of values, expect 4199\n",
        "len(writer_gross)"
      ],
      "execution_count": 49,
      "outputs": [
        {
          "output_type": "execute_result",
          "data": {
            "text/plain": [
              "4199"
            ]
          },
          "metadata": {
            "tags": []
          },
          "execution_count": 49
        }
      ]
    },
    {
      "cell_type": "code",
      "metadata": {
        "colab_type": "code",
        "id": "bKT_sJgGariq",
        "colab": {}
      },
      "source": [
        "# create a dictionary with writers and their average gross\n",
        "dir_ave = {writers[i]: writer_gross[i] for i in range(len(writers))}"
      ],
      "execution_count": 0,
      "outputs": []
    },
    {
      "cell_type": "code",
      "metadata": {
        "colab_type": "code",
        "outputId": "b68a86d1-2034-4993-865d-93b23a886d51",
        "id": "ZgLZ-Gl8ariu",
        "colab": {
          "base_uri": "https://localhost:8080/",
          "height": 340
        }
      },
      "source": [
        "# pass the dictionary to the movies dataframe\n",
        "movies['writer_ave_gross']= movies['writer'].map(dir_ave)\n",
        "movies.head()"
      ],
      "execution_count": 51,
      "outputs": [
        {
          "output_type": "execute_result",
          "data": {
            "text/html": [
              "<div>\n",
              "<style scoped>\n",
              "    .dataframe tbody tr th:only-of-type {\n",
              "        vertical-align: middle;\n",
              "    }\n",
              "\n",
              "    .dataframe tbody tr th {\n",
              "        vertical-align: top;\n",
              "    }\n",
              "\n",
              "    .dataframe thead th {\n",
              "        text-align: right;\n",
              "    }\n",
              "</style>\n",
              "<table border=\"1\" class=\"dataframe\">\n",
              "  <thead>\n",
              "    <tr style=\"text-align: right;\">\n",
              "      <th></th>\n",
              "      <th>budget</th>\n",
              "      <th>company</th>\n",
              "      <th>country</th>\n",
              "      <th>director</th>\n",
              "      <th>genre</th>\n",
              "      <th>gross</th>\n",
              "      <th>name</th>\n",
              "      <th>rating</th>\n",
              "      <th>released</th>\n",
              "      <th>runtime</th>\n",
              "      <th>score</th>\n",
              "      <th>star</th>\n",
              "      <th>votes</th>\n",
              "      <th>writer</th>\n",
              "      <th>year</th>\n",
              "      <th>dir_ave_gross</th>\n",
              "      <th>writer_ave_gross</th>\n",
              "    </tr>\n",
              "  </thead>\n",
              "  <tbody>\n",
              "    <tr>\n",
              "      <th>0</th>\n",
              "      <td>8000000.0</td>\n",
              "      <td>Columbia Pictures Corporation</td>\n",
              "      <td>USA</td>\n",
              "      <td>Rob Reiner</td>\n",
              "      <td>Adventure</td>\n",
              "      <td>52287414.0</td>\n",
              "      <td>Stand by Me</td>\n",
              "      <td>R</td>\n",
              "      <td>1986-08-22</td>\n",
              "      <td>89</td>\n",
              "      <td>8.1</td>\n",
              "      <td>Wil Wheaton</td>\n",
              "      <td>299174</td>\n",
              "      <td>Stephen King</td>\n",
              "      <td>1986</td>\n",
              "      <td>43901884</td>\n",
              "      <td>30630497</td>\n",
              "    </tr>\n",
              "    <tr>\n",
              "      <th>1</th>\n",
              "      <td>6000000.0</td>\n",
              "      <td>Paramount Pictures</td>\n",
              "      <td>USA</td>\n",
              "      <td>John Hughes</td>\n",
              "      <td>Comedy</td>\n",
              "      <td>70136369.0</td>\n",
              "      <td>Ferris Bueller's Day Off</td>\n",
              "      <td>PG-13</td>\n",
              "      <td>1986-06-11</td>\n",
              "      <td>103</td>\n",
              "      <td>7.8</td>\n",
              "      <td>Matthew Broderick</td>\n",
              "      <td>264740</td>\n",
              "      <td>John Hughes</td>\n",
              "      <td>1986</td>\n",
              "      <td>47229641</td>\n",
              "      <td>63070565</td>\n",
              "    </tr>\n",
              "    <tr>\n",
              "      <th>2</th>\n",
              "      <td>15000000.0</td>\n",
              "      <td>Paramount Pictures</td>\n",
              "      <td>USA</td>\n",
              "      <td>Tony Scott</td>\n",
              "      <td>Action</td>\n",
              "      <td>179800601.0</td>\n",
              "      <td>Top Gun</td>\n",
              "      <td>PG</td>\n",
              "      <td>1986-05-16</td>\n",
              "      <td>110</td>\n",
              "      <td>6.9</td>\n",
              "      <td>Tom Cruise</td>\n",
              "      <td>236909</td>\n",
              "      <td>Jim Cash</td>\n",
              "      <td>1986</td>\n",
              "      <td>68284206</td>\n",
              "      <td>123398240</td>\n",
              "    </tr>\n",
              "    <tr>\n",
              "      <th>3</th>\n",
              "      <td>18500000.0</td>\n",
              "      <td>Twentieth Century Fox Film Corporation</td>\n",
              "      <td>USA</td>\n",
              "      <td>James Cameron</td>\n",
              "      <td>Action</td>\n",
              "      <td>85160248.0</td>\n",
              "      <td>Aliens</td>\n",
              "      <td>R</td>\n",
              "      <td>1986-07-18</td>\n",
              "      <td>137</td>\n",
              "      <td>8.4</td>\n",
              "      <td>Sigourney Weaver</td>\n",
              "      <td>540152</td>\n",
              "      <td>James Cameron</td>\n",
              "      <td>1986</td>\n",
              "      <td>318321163</td>\n",
              "      <td>274562097</td>\n",
              "    </tr>\n",
              "    <tr>\n",
              "      <th>4</th>\n",
              "      <td>9000000.0</td>\n",
              "      <td>Walt Disney Pictures</td>\n",
              "      <td>USA</td>\n",
              "      <td>Randal Kleiser</td>\n",
              "      <td>Adventure</td>\n",
              "      <td>18564613.0</td>\n",
              "      <td>Flight of the Navigator</td>\n",
              "      <td>PG</td>\n",
              "      <td>1986-08-01</td>\n",
              "      <td>90</td>\n",
              "      <td>6.9</td>\n",
              "      <td>Joey Cramer</td>\n",
              "      <td>36636</td>\n",
              "      <td>Mark H. Baker</td>\n",
              "      <td>1986</td>\n",
              "      <td>18456809</td>\n",
              "      <td>18564613</td>\n",
              "    </tr>\n",
              "  </tbody>\n",
              "</table>\n",
              "</div>"
            ],
            "text/plain": [
              "       budget  ... writer_ave_gross\n",
              "0   8000000.0  ...         30630497\n",
              "1   6000000.0  ...         63070565\n",
              "2  15000000.0  ...        123398240\n",
              "3  18500000.0  ...        274562097\n",
              "4   9000000.0  ...         18564613\n",
              "\n",
              "[5 rows x 17 columns]"
            ]
          },
          "metadata": {
            "tags": []
          },
          "execution_count": 51
        }
      ]
    },
    {
      "cell_type": "markdown",
      "metadata": {
        "colab_type": "text",
        "id": "UCyFKga7hVDl"
      },
      "source": [
        "#Train, Val, Test Split \n",
        "(60,20,20)"
      ]
    },
    {
      "cell_type": "code",
      "metadata": {
        "colab_type": "code",
        "id": "4vm0W9w8hVDl",
        "colab": {}
      },
      "source": [
        "movies.sort_values(by = 'released', inplace = True)"
      ],
      "execution_count": 0,
      "outputs": []
    },
    {
      "cell_type": "code",
      "metadata": {
        "colab_type": "code",
        "outputId": "33de3138-9a85-4718-9a8d-9e62717383a6",
        "id": "5hAV9YBbhVDm",
        "colab": {
          "base_uri": "https://localhost:8080/",
          "height": 289
        }
      },
      "source": [
        "movies.head()"
      ],
      "execution_count": 53,
      "outputs": [
        {
          "output_type": "execute_result",
          "data": {
            "text/html": [
              "<div>\n",
              "<style scoped>\n",
              "    .dataframe tbody tr th:only-of-type {\n",
              "        vertical-align: middle;\n",
              "    }\n",
              "\n",
              "    .dataframe tbody tr th {\n",
              "        vertical-align: top;\n",
              "    }\n",
              "\n",
              "    .dataframe thead th {\n",
              "        text-align: right;\n",
              "    }\n",
              "</style>\n",
              "<table border=\"1\" class=\"dataframe\">\n",
              "  <thead>\n",
              "    <tr style=\"text-align: right;\">\n",
              "      <th></th>\n",
              "      <th>budget</th>\n",
              "      <th>company</th>\n",
              "      <th>country</th>\n",
              "      <th>director</th>\n",
              "      <th>genre</th>\n",
              "      <th>gross</th>\n",
              "      <th>name</th>\n",
              "      <th>rating</th>\n",
              "      <th>released</th>\n",
              "      <th>runtime</th>\n",
              "      <th>score</th>\n",
              "      <th>star</th>\n",
              "      <th>votes</th>\n",
              "      <th>writer</th>\n",
              "      <th>year</th>\n",
              "      <th>dir_ave_gross</th>\n",
              "      <th>writer_ave_gross</th>\n",
              "    </tr>\n",
              "  </thead>\n",
              "  <tbody>\n",
              "    <tr>\n",
              "      <th>96</th>\n",
              "      <td>0.0</td>\n",
              "      <td>New World Pictures</td>\n",
              "      <td>USA</td>\n",
              "      <td>Harley Cokeliss</td>\n",
              "      <td>Action</td>\n",
              "      <td>6637565.0</td>\n",
              "      <td>Black Moon Rising</td>\n",
              "      <td>R</td>\n",
              "      <td>1986-01-10</td>\n",
              "      <td>100</td>\n",
              "      <td>5.4</td>\n",
              "      <td>Tommy Lee Jones</td>\n",
              "      <td>4045</td>\n",
              "      <td>John Carpenter</td>\n",
              "      <td>1986</td>\n",
              "      <td>4849211</td>\n",
              "      <td>15583149</td>\n",
              "    </tr>\n",
              "    <tr>\n",
              "      <th>195</th>\n",
              "      <td>0.0</td>\n",
              "      <td>Longshot</td>\n",
              "      <td>USA</td>\n",
              "      <td>Paul Bartel</td>\n",
              "      <td>Comedy</td>\n",
              "      <td>1096843.0</td>\n",
              "      <td>The Longshot</td>\n",
              "      <td>PG-13</td>\n",
              "      <td>1986-01-17</td>\n",
              "      <td>89</td>\n",
              "      <td>5.4</td>\n",
              "      <td>Tim Conway</td>\n",
              "      <td>457</td>\n",
              "      <td>Tim Conway</td>\n",
              "      <td>1986</td>\n",
              "      <td>1626657</td>\n",
              "      <td>1096843</td>\n",
              "    </tr>\n",
              "    <tr>\n",
              "      <th>47</th>\n",
              "      <td>1100000.0</td>\n",
              "      <td>Empire Pictures</td>\n",
              "      <td>USA</td>\n",
              "      <td>John Carl Buechler</td>\n",
              "      <td>Comedy</td>\n",
              "      <td>5450815.0</td>\n",
              "      <td>Troll</td>\n",
              "      <td>PG-13</td>\n",
              "      <td>1986-01-17</td>\n",
              "      <td>82</td>\n",
              "      <td>4.3</td>\n",
              "      <td>Michael Moriarty</td>\n",
              "      <td>7569</td>\n",
              "      <td>Ed Naha</td>\n",
              "      <td>1986</td>\n",
              "      <td>12310408</td>\n",
              "      <td>5450815</td>\n",
              "    </tr>\n",
              "    <tr>\n",
              "      <th>27</th>\n",
              "      <td>0.0</td>\n",
              "      <td>TriStar Pictures</td>\n",
              "      <td>USA</td>\n",
              "      <td>Sidney J. Furie</td>\n",
              "      <td>Action</td>\n",
              "      <td>24159872.0</td>\n",
              "      <td>Iron Eagle</td>\n",
              "      <td>PG-13</td>\n",
              "      <td>1986-01-17</td>\n",
              "      <td>117</td>\n",
              "      <td>5.3</td>\n",
              "      <td>Louis Gossett Jr.</td>\n",
              "      <td>11304</td>\n",
              "      <td>Kevin Alyn Elders</td>\n",
              "      <td>1986</td>\n",
              "      <td>13214797</td>\n",
              "      <td>12391598</td>\n",
              "    </tr>\n",
              "    <tr>\n",
              "      <th>218</th>\n",
              "      <td>0.0</td>\n",
              "      <td>DIC Entertainment</td>\n",
              "      <td>Canada</td>\n",
              "      <td>Bruno Bianchi</td>\n",
              "      <td>Family</td>\n",
              "      <td>2193642.0</td>\n",
              "      <td>Heathcliff: The Movie</td>\n",
              "      <td>G</td>\n",
              "      <td>1986-01-17</td>\n",
              "      <td>73</td>\n",
              "      <td>5.3</td>\n",
              "      <td>Mel Blanc</td>\n",
              "      <td>187</td>\n",
              "      <td>George Gately</td>\n",
              "      <td>1986</td>\n",
              "      <td>2193642</td>\n",
              "      <td>2193642</td>\n",
              "    </tr>\n",
              "  </tbody>\n",
              "</table>\n",
              "</div>"
            ],
            "text/plain": [
              "        budget             company  ... dir_ave_gross writer_ave_gross\n",
              "96         0.0  New World Pictures  ...       4849211         15583149\n",
              "195        0.0            Longshot  ...       1626657          1096843\n",
              "47   1100000.0     Empire Pictures  ...      12310408          5450815\n",
              "27         0.0    TriStar Pictures  ...      13214797         12391598\n",
              "218        0.0   DIC Entertainment  ...       2193642          2193642\n",
              "\n",
              "[5 rows x 17 columns]"
            ]
          },
          "metadata": {
            "tags": []
          },
          "execution_count": 53
        }
      ]
    },
    {
      "cell_type": "code",
      "metadata": {
        "colab_type": "code",
        "id": "A5n6ndyjhVDo",
        "colab": {}
      },
      "source": [
        "movies.reset_index(inplace = True, drop  = True)"
      ],
      "execution_count": 0,
      "outputs": []
    },
    {
      "cell_type": "code",
      "metadata": {
        "colab_type": "code",
        "outputId": "364cad99-a9b5-4bbe-cc82-b7e50e4e02e2",
        "id": "0DM4J5BZhVDs",
        "colab": {
          "base_uri": "https://localhost:8080/",
          "height": 289
        }
      },
      "source": [
        "movies.head()"
      ],
      "execution_count": 55,
      "outputs": [
        {
          "output_type": "execute_result",
          "data": {
            "text/html": [
              "<div>\n",
              "<style scoped>\n",
              "    .dataframe tbody tr th:only-of-type {\n",
              "        vertical-align: middle;\n",
              "    }\n",
              "\n",
              "    .dataframe tbody tr th {\n",
              "        vertical-align: top;\n",
              "    }\n",
              "\n",
              "    .dataframe thead th {\n",
              "        text-align: right;\n",
              "    }\n",
              "</style>\n",
              "<table border=\"1\" class=\"dataframe\">\n",
              "  <thead>\n",
              "    <tr style=\"text-align: right;\">\n",
              "      <th></th>\n",
              "      <th>budget</th>\n",
              "      <th>company</th>\n",
              "      <th>country</th>\n",
              "      <th>director</th>\n",
              "      <th>genre</th>\n",
              "      <th>gross</th>\n",
              "      <th>name</th>\n",
              "      <th>rating</th>\n",
              "      <th>released</th>\n",
              "      <th>runtime</th>\n",
              "      <th>score</th>\n",
              "      <th>star</th>\n",
              "      <th>votes</th>\n",
              "      <th>writer</th>\n",
              "      <th>year</th>\n",
              "      <th>dir_ave_gross</th>\n",
              "      <th>writer_ave_gross</th>\n",
              "    </tr>\n",
              "  </thead>\n",
              "  <tbody>\n",
              "    <tr>\n",
              "      <th>0</th>\n",
              "      <td>0.0</td>\n",
              "      <td>New World Pictures</td>\n",
              "      <td>USA</td>\n",
              "      <td>Harley Cokeliss</td>\n",
              "      <td>Action</td>\n",
              "      <td>6637565.0</td>\n",
              "      <td>Black Moon Rising</td>\n",
              "      <td>R</td>\n",
              "      <td>1986-01-10</td>\n",
              "      <td>100</td>\n",
              "      <td>5.4</td>\n",
              "      <td>Tommy Lee Jones</td>\n",
              "      <td>4045</td>\n",
              "      <td>John Carpenter</td>\n",
              "      <td>1986</td>\n",
              "      <td>4849211</td>\n",
              "      <td>15583149</td>\n",
              "    </tr>\n",
              "    <tr>\n",
              "      <th>1</th>\n",
              "      <td>0.0</td>\n",
              "      <td>Longshot</td>\n",
              "      <td>USA</td>\n",
              "      <td>Paul Bartel</td>\n",
              "      <td>Comedy</td>\n",
              "      <td>1096843.0</td>\n",
              "      <td>The Longshot</td>\n",
              "      <td>PG-13</td>\n",
              "      <td>1986-01-17</td>\n",
              "      <td>89</td>\n",
              "      <td>5.4</td>\n",
              "      <td>Tim Conway</td>\n",
              "      <td>457</td>\n",
              "      <td>Tim Conway</td>\n",
              "      <td>1986</td>\n",
              "      <td>1626657</td>\n",
              "      <td>1096843</td>\n",
              "    </tr>\n",
              "    <tr>\n",
              "      <th>2</th>\n",
              "      <td>1100000.0</td>\n",
              "      <td>Empire Pictures</td>\n",
              "      <td>USA</td>\n",
              "      <td>John Carl Buechler</td>\n",
              "      <td>Comedy</td>\n",
              "      <td>5450815.0</td>\n",
              "      <td>Troll</td>\n",
              "      <td>PG-13</td>\n",
              "      <td>1986-01-17</td>\n",
              "      <td>82</td>\n",
              "      <td>4.3</td>\n",
              "      <td>Michael Moriarty</td>\n",
              "      <td>7569</td>\n",
              "      <td>Ed Naha</td>\n",
              "      <td>1986</td>\n",
              "      <td>12310408</td>\n",
              "      <td>5450815</td>\n",
              "    </tr>\n",
              "    <tr>\n",
              "      <th>3</th>\n",
              "      <td>0.0</td>\n",
              "      <td>TriStar Pictures</td>\n",
              "      <td>USA</td>\n",
              "      <td>Sidney J. Furie</td>\n",
              "      <td>Action</td>\n",
              "      <td>24159872.0</td>\n",
              "      <td>Iron Eagle</td>\n",
              "      <td>PG-13</td>\n",
              "      <td>1986-01-17</td>\n",
              "      <td>117</td>\n",
              "      <td>5.3</td>\n",
              "      <td>Louis Gossett Jr.</td>\n",
              "      <td>11304</td>\n",
              "      <td>Kevin Alyn Elders</td>\n",
              "      <td>1986</td>\n",
              "      <td>13214797</td>\n",
              "      <td>12391598</td>\n",
              "    </tr>\n",
              "    <tr>\n",
              "      <th>4</th>\n",
              "      <td>0.0</td>\n",
              "      <td>DIC Entertainment</td>\n",
              "      <td>Canada</td>\n",
              "      <td>Bruno Bianchi</td>\n",
              "      <td>Family</td>\n",
              "      <td>2193642.0</td>\n",
              "      <td>Heathcliff: The Movie</td>\n",
              "      <td>G</td>\n",
              "      <td>1986-01-17</td>\n",
              "      <td>73</td>\n",
              "      <td>5.3</td>\n",
              "      <td>Mel Blanc</td>\n",
              "      <td>187</td>\n",
              "      <td>George Gately</td>\n",
              "      <td>1986</td>\n",
              "      <td>2193642</td>\n",
              "      <td>2193642</td>\n",
              "    </tr>\n",
              "  </tbody>\n",
              "</table>\n",
              "</div>"
            ],
            "text/plain": [
              "      budget             company country  ...  year dir_ave_gross  writer_ave_gross\n",
              "0        0.0  New World Pictures     USA  ...  1986       4849211          15583149\n",
              "1        0.0            Longshot     USA  ...  1986       1626657           1096843\n",
              "2  1100000.0     Empire Pictures     USA  ...  1986      12310408           5450815\n",
              "3        0.0    TriStar Pictures     USA  ...  1986      13214797          12391598\n",
              "4        0.0   DIC Entertainment  Canada  ...  1986       2193642           2193642\n",
              "\n",
              "[5 rows x 17 columns]"
            ]
          },
          "metadata": {
            "tags": []
          },
          "execution_count": 55
        }
      ]
    },
    {
      "cell_type": "code",
      "metadata": {
        "colab_type": "code",
        "id": "wSUw1TB-hVDu",
        "colab": {}
      },
      "source": [
        "# set end year for training data set\n",
        "train_lim = movies['year'].min()+19\n",
        "\n",
        "# set beginning year for test data\n",
        "test_lim = movies['year'].max()-4"
      ],
      "execution_count": 0,
      "outputs": []
    },
    {
      "cell_type": "code",
      "metadata": {
        "colab_type": "code",
        "id": "dxILWKhwhVDv",
        "colab": {}
      },
      "source": [
        "# movies in years less than training end year\n",
        "train = movies[movies['year']<= train_lim]\n",
        "\n",
        "# all movies in years greater than training end year\n",
        "val_temp = movies[movies['year'] > train_lim]\n",
        "\n",
        "# movies in years less than test year and greater than training end year\n",
        "val = val_temp[val_temp['year'] < test_lim]\n",
        "\n",
        "# movies in years greater than test year\n",
        "test = movies[movies['year']>=test_lim]"
      ],
      "execution_count": 0,
      "outputs": []
    },
    {
      "cell_type": "code",
      "metadata": {
        "colab_type": "code",
        "outputId": "8350be6e-bc76-49c1-f602-b09ae4c41712",
        "id": "yRxFIRr6hVDx",
        "colab": {
          "base_uri": "https://localhost:8080/",
          "height": 35
        }
      },
      "source": [
        "train.shape, val.shape, test.shape"
      ],
      "execution_count": 58,
      "outputs": [
        {
          "output_type": "execute_result",
          "data": {
            "text/plain": [
              "((4400, 17), (1320, 17), (1100, 17))"
            ]
          },
          "metadata": {
            "tags": []
          },
          "execution_count": 58
        }
      ]
    },
    {
      "cell_type": "markdown",
      "metadata": {
        "colab_type": "text",
        "id": "FV6EfCKahVDy"
      },
      "source": [
        "#Assignment 1"
      ]
    },
    {
      "cell_type": "markdown",
      "metadata": {
        "colab_type": "text",
        "id": "k8J0KudIhVDy"
      },
      "source": [
        "##Baseline"
      ]
    },
    {
      "cell_type": "code",
      "metadata": {
        "id": "Q_aLUA-aKMqS",
        "colab_type": "code",
        "outputId": "19f31cde-882f-402a-e55f-2e0a30bffc58",
        "colab": {
          "base_uri": "https://localhost:8080/",
          "height": 35
        }
      },
      "source": [
        "average = movies['gross'].mean()\n",
        "print(f'{average:,.0f}')"
      ],
      "execution_count": 59,
      "outputs": [
        {
          "output_type": "stream",
          "text": [
            "33,497,829\n"
          ],
          "name": "stdout"
        }
      ]
    },
    {
      "cell_type": "code",
      "metadata": {
        "colab_type": "code",
        "outputId": "637e4a20-f72b-4fa4-d135-dbc0af5481d5",
        "id": "XdTTmQ7bhVD0",
        "colab": {
          "base_uri": "https://localhost:8080/",
          "height": 35
        }
      },
      "source": [
        "from sklearn.metrics import mean_absolute_error\n",
        "\n",
        "train['gross'].mean()\n",
        "\n",
        "y_train = train['gross']\n",
        "y_test = test['gross']\n",
        "base_guess = y_train.mean()\n",
        "\n",
        "\n",
        "# test error\n",
        "y_base_pred = [base_guess] * len(y_test)\n",
        "mae_test = mean_absolute_error(y_test, y_base_pred)\n",
        "\n",
        "print(f'Mean Absolute Error: ${mae_test:,.2f}')"
      ],
      "execution_count": 60,
      "outputs": [
        {
          "output_type": "stream",
          "text": [
            "Mean Absolute Error: $45,726,662.13\n"
          ],
          "name": "stdout"
        }
      ]
    },
    {
      "cell_type": "markdown",
      "metadata": {
        "colab_type": "text",
        "id": "me43jtAphVD1"
      },
      "source": [
        "##Basic Model"
      ]
    },
    {
      "cell_type": "code",
      "metadata": {
        "colab_type": "code",
        "outputId": "3b152256-b0d5-4d88-a99b-d5df8030ff85",
        "id": "5-Hct5MMhVD3",
        "colab": {
          "base_uri": "https://localhost:8080/",
          "height": 211
        }
      },
      "source": [
        "!pip install category_encoders==2.*"
      ],
      "execution_count": 61,
      "outputs": [
        {
          "output_type": "stream",
          "text": [
            "Requirement already satisfied: category_encoders==2.* in /usr/local/lib/python3.6/dist-packages (2.2.2)\n",
            "Requirement already satisfied: patsy>=0.5.1 in /usr/local/lib/python3.6/dist-packages (from category_encoders==2.*) (0.5.1)\n",
            "Requirement already satisfied: scikit-learn>=0.20.0 in /usr/local/lib/python3.6/dist-packages (from category_encoders==2.*) (0.22.2.post1)\n",
            "Requirement already satisfied: scipy>=1.0.0 in /usr/local/lib/python3.6/dist-packages (from category_encoders==2.*) (1.4.1)\n",
            "Requirement already satisfied: statsmodels>=0.9.0 in /usr/local/lib/python3.6/dist-packages (from category_encoders==2.*) (0.10.2)\n",
            "Requirement already satisfied: pandas>=0.21.1 in /usr/local/lib/python3.6/dist-packages (from category_encoders==2.*) (1.0.3)\n",
            "Requirement already satisfied: numpy>=1.14.0 in /usr/local/lib/python3.6/dist-packages (from category_encoders==2.*) (1.18.3)\n",
            "Requirement already satisfied: six in /usr/local/lib/python3.6/dist-packages (from patsy>=0.5.1->category_encoders==2.*) (1.12.0)\n",
            "Requirement already satisfied: joblib>=0.11 in /usr/local/lib/python3.6/dist-packages (from scikit-learn>=0.20.0->category_encoders==2.*) (0.14.1)\n",
            "Requirement already satisfied: python-dateutil>=2.6.1 in /usr/local/lib/python3.6/dist-packages (from pandas>=0.21.1->category_encoders==2.*) (2.8.1)\n",
            "Requirement already satisfied: pytz>=2017.2 in /usr/local/lib/python3.6/dist-packages (from pandas>=0.21.1->category_encoders==2.*) (2018.9)\n"
          ],
          "name": "stdout"
        }
      ]
    },
    {
      "cell_type": "code",
      "metadata": {
        "colab_type": "code",
        "id": "mhHBjJvVhVD2",
        "colab": {}
      },
      "source": [
        "# set target\n",
        "target = 'gross'\n",
        "\n",
        "# set features\n",
        "features = ['genre', 'rating', 'year', 'dir_ave_gross', 'writer_ave_gross']\n",
        "\n",
        "# set X matrices and y vectors\n",
        "X_train = train[features]\n",
        "y_train = train[target]\n",
        "\n",
        "X_val = val[features]\n",
        "y_val = val[target]\n",
        "\n",
        "X_test = test[features]\n",
        "y_test = test[target]"
      ],
      "execution_count": 0,
      "outputs": []
    },
    {
      "cell_type": "code",
      "metadata": {
        "colab_type": "code",
        "outputId": "15428cf7-1f43-4361-ad3f-c4be47484402",
        "id": "Os9s3neEhVD4",
        "colab": {
          "base_uri": "https://localhost:8080/",
          "height": 90
        }
      },
      "source": [
        "import category_encoders as ce\n",
        "from sklearn.impute import SimpleImputer\n",
        "from sklearn.preprocessing import StandardScaler\n",
        "from sklearn.ensemble import RandomForestRegressor\n",
        "from sklearn.metrics import mean_absolute_error\n",
        "from sklearn.pipeline import make_pipeline\n",
        "# from math import sqrt\n",
        "\n",
        "pipeline = make_pipeline(\n",
        "    ce.OrdinalEncoder(),\n",
        "    # SimpleImputer(strategy = 'mean'),\n",
        "    StandardScaler(),\n",
        "    RandomForestRegressor()\n",
        ")\n",
        "\n",
        "# Fit on training set\n",
        "pipeline.fit(X_train, y_train)\n",
        "\n",
        "# make predictions\n",
        "y_pred = pipeline.predict(X_test)\n",
        "\n",
        "# test mean absolute error\n",
        "mae = mean_absolute_error(y_test, y_pred)\n",
        "print(f'Test Mean Absolute Error: {mae:,.2f}')"
      ],
      "execution_count": 63,
      "outputs": [
        {
          "output_type": "stream",
          "text": [
            "/usr/local/lib/python3.6/dist-packages/statsmodels/tools/_testing.py:19: FutureWarning: pandas.util.testing is deprecated. Use the functions in the public API at pandas.testing instead.\n",
            "  import pandas.util.testing as tm\n"
          ],
          "name": "stderr"
        },
        {
          "output_type": "stream",
          "text": [
            "Test Mean Absolute Error: 19,699,255.80\n"
          ],
          "name": "stdout"
        }
      ]
    },
    {
      "cell_type": "code",
      "metadata": {
        "id": "eCUabvivajGP",
        "colab_type": "code",
        "outputId": "460122e1-83f4-4309-ec0b-11c95dfbcfe3",
        "colab": {
          "base_uri": "https://localhost:8080/",
          "height": 211
        }
      },
      "source": [
        "!pip install category_encoders==2.*"
      ],
      "execution_count": 64,
      "outputs": [
        {
          "output_type": "stream",
          "text": [
            "Requirement already satisfied: category_encoders==2.* in /usr/local/lib/python3.6/dist-packages (2.2.2)\n",
            "Requirement already satisfied: scipy>=1.0.0 in /usr/local/lib/python3.6/dist-packages (from category_encoders==2.*) (1.4.1)\n",
            "Requirement already satisfied: pandas>=0.21.1 in /usr/local/lib/python3.6/dist-packages (from category_encoders==2.*) (1.0.3)\n",
            "Requirement already satisfied: statsmodels>=0.9.0 in /usr/local/lib/python3.6/dist-packages (from category_encoders==2.*) (0.10.2)\n",
            "Requirement already satisfied: patsy>=0.5.1 in /usr/local/lib/python3.6/dist-packages (from category_encoders==2.*) (0.5.1)\n",
            "Requirement already satisfied: scikit-learn>=0.20.0 in /usr/local/lib/python3.6/dist-packages (from category_encoders==2.*) (0.22.2.post1)\n",
            "Requirement already satisfied: numpy>=1.14.0 in /usr/local/lib/python3.6/dist-packages (from category_encoders==2.*) (1.18.3)\n",
            "Requirement already satisfied: python-dateutil>=2.6.1 in /usr/local/lib/python3.6/dist-packages (from pandas>=0.21.1->category_encoders==2.*) (2.8.1)\n",
            "Requirement already satisfied: pytz>=2017.2 in /usr/local/lib/python3.6/dist-packages (from pandas>=0.21.1->category_encoders==2.*) (2018.9)\n",
            "Requirement already satisfied: six in /usr/local/lib/python3.6/dist-packages (from patsy>=0.5.1->category_encoders==2.*) (1.12.0)\n",
            "Requirement already satisfied: joblib>=0.11 in /usr/local/lib/python3.6/dist-packages (from scikit-learn>=0.20.0->category_encoders==2.*) (0.14.1)\n"
          ],
          "name": "stdout"
        }
      ]
    },
    {
      "cell_type": "code",
      "metadata": {
        "id": "-iBuVYp4SXEE",
        "colab_type": "code",
        "outputId": "221e152f-35d6-418a-8a01-44126f3989b7",
        "colab": {
          "base_uri": "https://localhost:8080/",
          "height": 52
        }
      },
      "source": [
        "import category_encoders as ce\n",
        "from sklearn.impute import SimpleImputer\n",
        "from sklearn.preprocessing import StandardScaler\n",
        "from sklearn.ensemble import RandomForestRegressor\n",
        "from sklearn.metrics import mean_absolute_error\n",
        "from sklearn.pipeline import make_pipeline\n",
        "\n",
        "pipeline = make_pipeline(\n",
        "    ce.OrdinalEncoder(),\n",
        "    # SimpleImputer(strategy = 'mean'),\n",
        "    StandardScaler(),\n",
        "    RandomForestRegressor()\n",
        ")\n",
        "\n",
        "# Fit on training set\n",
        "pipeline.fit(X_train, y_train)\n",
        "\n",
        "# make predictions\n",
        "y_pred = pipeline.predict(X_test)\n",
        "\n",
        "# test mean absolute error\n",
        "mae = mean_absolute_error(y_test, y_pred)\n",
        "print(f'Test Mean Absolute Error: {mae:,.2f}')\n",
        "pipeline.score(X_val, y_val)"
      ],
      "execution_count": 65,
      "outputs": [
        {
          "output_type": "stream",
          "text": [
            "Test Mean Absolute Error: 19,428,928.92\n"
          ],
          "name": "stdout"
        },
        {
          "output_type": "execute_result",
          "data": {
            "text/plain": [
              "0.6880095108092193"
            ]
          },
          "metadata": {
            "tags": []
          },
          "execution_count": 65
        }
      ]
    },
    {
      "cell_type": "markdown",
      "metadata": {
        "colab_type": "text",
        "id": "ANl4_zpDw0GK"
      },
      "source": [
        "#Assignment 2 - Permutation and Boosting"
      ]
    },
    {
      "cell_type": "markdown",
      "metadata": {
        "colab_type": "text",
        "id": "iQ6OuDH2w0GH"
      },
      "source": [
        "##Model"
      ]
    },
    {
      "cell_type": "code",
      "metadata": {
        "colab_type": "code",
        "id": "QMDZMQLHw0F9",
        "colab": {}
      },
      "source": [
        "# set target\n",
        "target = 'gross'\n",
        "\n",
        "# set features\n",
        "train_feats = train.drop(columns=[target, 'score', 'budget'])\n",
        "\n",
        "# numeric columns\n",
        "numeric_features = train_feats.select_dtypes(include='number').columns.tolist()\n",
        "\n",
        "# Get a list of all categorical features with cardinality <= 21\n",
        "cardinality = train_feats.select_dtypes(exclude='number').nunique()\n",
        "categorical_features = cardinality[cardinality <= 21].index.tolist()\n",
        "\n",
        "features = numeric_features + categorical_features\n",
        "\n",
        "# set X matrices and y vectors\n",
        "X_train = train[features]\n",
        "y_train = train[target]\n",
        "\n",
        "X_val = val[features]\n",
        "y_val = val[target]\n",
        "\n",
        "X_test = test[features]\n",
        "y_test = test[target]"
      ],
      "execution_count": 0,
      "outputs": []
    },
    {
      "cell_type": "code",
      "metadata": {
        "id": "_NUgpJkGtWIx",
        "colab_type": "code",
        "colab": {
          "base_uri": "https://localhost:8080/",
          "height": 52
        },
        "outputId": "f4db1470-0447-4f0d-8eeb-cd13b57c6b75"
      },
      "source": [
        "pipeline = make_pipeline(\n",
        "    ce.OrdinalEncoder(),\n",
        "    # SimpleImputer(strategy = 'mean'),\n",
        "    StandardScaler(),\n",
        "    RandomForestRegressor()\n",
        ")\n",
        "\n",
        "# Fit on training set\n",
        "pipeline.fit(X_train, y_train)\n",
        "\n",
        "# make predictions\n",
        "y_pred = pipeline.predict(X_test)\n",
        "\n",
        "# test mean absolute error\n",
        "mae = mean_absolute_error(y_test, y_pred)\n",
        "print(f'Test Mean Absolute Error: {mae:,.2f}')\n",
        "pipeline.score(X_val, y_val)"
      ],
      "execution_count": 67,
      "outputs": [
        {
          "output_type": "stream",
          "text": [
            "Test Mean Absolute Error: 17,131,077.50\n"
          ],
          "name": "stdout"
        },
        {
          "output_type": "execute_result",
          "data": {
            "text/plain": [
              "0.7691708128518131"
            ]
          },
          "metadata": {
            "tags": []
          },
          "execution_count": 67
        }
      ]
    },
    {
      "cell_type": "code",
      "metadata": {
        "id": "BRAkTFuIr8BL",
        "colab_type": "code",
        "colab": {}
      },
      "source": [
        "# X_train.head()"
      ],
      "execution_count": 0,
      "outputs": []
    },
    {
      "cell_type": "code",
      "metadata": {
        "id": "TmchJvcpsDOe",
        "colab_type": "code",
        "colab": {}
      },
      "source": [
        "# rf.feature_importances_"
      ],
      "execution_count": 0,
      "outputs": []
    },
    {
      "cell_type": "code",
      "metadata": {
        "colab_type": "code",
        "outputId": "fb66efce-5419-46ff-fb27-1e58080eda4c",
        "id": "mPhsodt0w0F0",
        "colab": {
          "base_uri": "https://localhost:8080/",
          "height": 254
        }
      },
      "source": [
        "# Get feature importances\n",
        "rf = pipeline.named_steps['randomforestregressor']\n",
        "importances = pd.Series(rf.feature_importances_, X_train.columns)\n",
        "\n",
        "# Plot feature importances\n",
        "%matplotlib inline\n",
        "import matplotlib.pyplot as plt\n",
        "\n",
        "n = 7\n",
        "plt.figure(figsize=(10,n/2))\n",
        "plt.title(f'Top {n} Features Without Gradient Boosting')\n",
        "importances.sort_values()[-n:].plot.barh(color='red');"
      ],
      "execution_count": 73,
      "outputs": [
        {
          "output_type": "display_data",
          "data": {
            "image/png": "[encoded data removed]",
            "text/plain": [
              "<Figure size 720x252 with 1 Axes>"
            ]
          },
          "metadata": {
            "tags": [],
            "needs_background": "light"
          }
        }
      ]
    },
    {
      "cell_type": "code",
      "metadata": {
        "id": "K9Mp37LnBOaO",
        "colab_type": "code",
        "outputId": "9b365f78-b734-4a54-fa28-44ca3d99e7dd",
        "colab": {
          "base_uri": "https://localhost:8080/",
          "height": 35
        }
      },
      "source": [
        "from xgboost import XGBRegressor\n",
        "\n",
        "# get rid of the warning\n",
        "import warnings\n",
        "warnings.simplefilter(action='ignore', category=FutureWarning)\n",
        "\n",
        "gbpipeline = make_pipeline(\n",
        "    ce.OrdinalEncoder(), \n",
        "    XGBRegressor(n_estimators=200, objective='reg:squarederror', n_jobs=-1)\n",
        ")\n",
        "\n",
        "gbpipeline.fit(X_train, y_train)\n",
        "y_pred = gbpipeline.predict(X_val)\n",
        "\n",
        "# MAE\n",
        "from sklearn.metrics import mean_absolute_error\n",
        "y_pred = gbpipeline.predict(X_val)\n",
        "print(f'MAE: ${mean_absolute_error(y_val, y_pred):,.0f}')"
      ],
      "execution_count": 71,
      "outputs": [
        {
          "output_type": "stream",
          "text": [
            "MAE: $16,223,739\n"
          ],
          "name": "stdout"
        }
      ]
    },
    {
      "cell_type": "code",
      "metadata": {
        "id": "6WMV8yWTB1QU",
        "colab_type": "code",
        "outputId": "35247be3-40c7-4e5d-83d9-784012cc5152",
        "colab": {
          "base_uri": "https://localhost:8080/",
          "height": 254
        }
      },
      "source": [
        "# Get feature importances\n",
        "rf = gbpipeline.named_steps['xgbregressor']\n",
        "importances = pd.Series(rf.feature_importances_, X_train.columns)\n",
        "\n",
        "# Plot feature importances\n",
        "%matplotlib inline\n",
        "import matplotlib.pyplot as plt\n",
        "\n",
        "n = 7\n",
        "plt.figure(figsize=(10,n/2))\n",
        "plt.title(f'Top {n} features with Gradient Boosting')\n",
        "importances.sort_values()[-n:].plot.barh(color='blue');\n",
        "\n"
      ],
      "execution_count": 72,
      "outputs": [
        {
          "output_type": "display_data",
          "data": {
            "image/png": "[encoded data removed]",
            "text/plain": [
              "<Figure size 720x252 with 1 Axes>"
            ]
          },
          "metadata": {
            "tags": [],
            "needs_background": "light"
          }
        }
      ]
    },
    {
      "cell_type": "code",
      "metadata": {
        "id": "79Eu_E30jxrB",
        "colab_type": "code",
        "colab": {}
      },
      "source": [
        ""
      ],
      "execution_count": 0,
      "outputs": []
    }
  ]
}